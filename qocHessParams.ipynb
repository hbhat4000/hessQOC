{
 "cells": [
  {
   "cell_type": "code",
   "execution_count": 1,
   "id": "27d04d0f-0c4b-4ad9-bc0b-6601bec71432",
   "metadata": {
    "tags": []
   },
   "outputs": [],
   "source": [
    "import os\n",
    "os.environ[\"XLA_PYTHON_CLIENT_PREALLOCATE\"]=\"false\"\n",
    "\n",
    "import jax\n",
    "jax.config.update(\"jax_enable_x64\", True)"
   ]
  },
  {
   "cell_type": "code",
   "execution_count": 2,
   "id": "adf9af5c-c953-4848-b5a8-7316dd0824e7",
   "metadata": {
    "tags": []
   },
   "outputs": [],
   "source": [
    "import jax.numpy as jnp\n",
    "from jax import jit, grad, jacobian, lax, vmap\n",
    "\n",
    "import numpy as np\n",
    "import matplotlib.pyplot as plt"
   ]
  },
  {
   "cell_type": "code",
   "execution_count": 3,
   "id": "598aa210-157a-48bb-886e-b8ed9d6ab861",
   "metadata": {
    "tags": []
   },
   "outputs": [],
   "source": [
    "import time\n",
    "import scipy.optimize as so"
   ]
  },
  {
   "cell_type": "code",
   "execution_count": 228,
   "id": "c6a929d3-bc28-43b6-9555-a914d36c8b30",
   "metadata": {
    "tags": []
   },
   "outputs": [
    {
     "name": "stdout",
     "output_type": "stream",
     "text": [
      "0.0\n",
      "0.0\n"
     ]
    }
   ],
   "source": [
    "n = 3\n",
    "dt = 1e-2\n",
    "numsteps = 1000\n",
    "tvec = dt*jnp.arange(numsteps)\n",
    "rho = 1e6\n",
    "\n",
    "h0 = np.load('workingh0.npz')['h0']\n",
    "m = jnp.array([[1.0,1.5,-1.0],[1.5,1.0,0.0],[-1.0,0.0,1.0]])\n",
    "\n",
    "# h0 = jnp.array(np.diag(np.sort(np.pi*np.random.uniform(size=n))))\n",
    "# mraw = np.random.normal(size=n**2).reshape((n,n)) + 1j*np.random.normal(size=n**2).reshape((n,n))\n",
    "# m = jnp.array(0.5*(mraw + mraw.conj().T))\n",
    "\n",
    "print(jnp.mean(jnp.abs(h0 - h0.T)))\n",
    "print(jnp.mean(jnp.abs(m - m.conj().T)))"
   ]
  },
  {
   "cell_type": "code",
   "execution_count": 229,
   "id": "4165ece3-bd2f-40fa-8c27-7c9105b732aa",
   "metadata": {
    "tags": []
   },
   "outputs": [],
   "source": [
    "# (d/dx) \\exp(-1j*dt*(h0 + x m))\n",
    "# where you pass in the eigenvectors and eigenvalues of (h0 + x m)\n",
    "def firstderiv(evecs, evals):\n",
    "    amat = evecs.conj().T @ (-1j*dt*m) @ evecs\n",
    "    dvec = -1j*dt*evals\n",
    "    dvec1, dvec2 = jnp.meshgrid(dvec, dvec)\n",
    "    mask = jnp.ones((n,n)) - jnp.eye(n)\n",
    "    numer = jnp.exp(dvec1) - jnp.exp(dvec2)\n",
    "    denom = (dvec1 - dvec2)*mask + jnp.eye(n)\n",
    "    derivmat = mask*numer/denom + jnp.diag(jnp.exp(dvec))\n",
    "    qmat = evecs @ (amat * derivmat) @ evecs.conj().T\n",
    "    return qmat"
   ]
  },
  {
   "cell_type": "code",
   "execution_count": 230,
   "id": "c6b2cecc-9342-4def-8c48-3f1795762089",
   "metadata": {
    "tags": []
   },
   "outputs": [],
   "source": [
    "mask = jnp.ones((n,n)) - jnp.eye(n)\n",
    "\n",
    "# (d^2/dx^2) \\exp(-1j*dt*(h0 + x m))\n",
    "# where you pass in the eigenvectors and eigenvalues of (h0 + x m)\n",
    "def secondderiv(evecs, rawevals):\n",
    "    evals = (-1j*dt)*rawevals\n",
    "    a = (evecs.conj().T @ m @ evecs) * (-1j*dt)\n",
    "    expevals = jnp.exp(evals)\n",
    "    evals1, evals2 = jnp.meshgrid(evals, evals, indexing='ij')\n",
    "    expevals1, expevals2 = jnp.meshgrid(expevals, expevals, indexing='ij')\n",
    "    # first D_{ii}=D_{kk} term\n",
    "    diagterm1 = expevals1*jnp.diag(jnp.diag(a*a))\n",
    "    # second D_{ii}=D_{kk} term\n",
    "    numer1 = -expevals1 + evals1*expevals1 - evals2*expevals1 + expevals2\n",
    "    denom1 = (evals1-evals2)**2 + jnp.eye(n)\n",
    "    maska = mask * a\n",
    "    diagterm2 = jnp.eye(n) * 2*((numer1/denom1 * maska) @ maska)\n",
    "    # first D_{ii}!=D_{kk} term\n",
    "    frac1 = numer1/denom1 * mask\n",
    "    term1 = frac1*2*(jnp.diag(a)*a).conj().T\n",
    "    # second D_{ii}!=D_{kk} term\n",
    "    numer2 = -expevals1 + evals1*expevals2 - evals2*expevals2 + expevals2\n",
    "    denom2 = (evals1-evals2)**2 + jnp.eye(n)\n",
    "    frac2 = numer2/denom2 * mask\n",
    "    term2 = frac2*2*(a*jnp.diag(a))\n",
    "    # third D_{ii}!=D_{kk} term\n",
    "    matij = mask*(1.0/((evals1-evals2) + jnp.eye(n)))\n",
    "    matind1a = (expevals1 * matij) * a\n",
    "    matind2a = (expevals2 * matij) * a\n",
    "    term3 = 2*mask*((matind2a) @ (matij*a))\n",
    "    term3 -= 2*matij*( matind1a @ maska )\n",
    "    term3 -= 2*matij*( maska @ matind2a ) \n",
    "    # put it all together\n",
    "    # udagru stands for \"U^{\\dagger} R U\"\n",
    "    udagru = term1 - term2 - term3 + diagterm1 + diagterm2\n",
    "    return evecs @ udagru @ evecs.conj().T"
   ]
  },
  {
   "cell_type": "code",
   "execution_count": 231,
   "id": "0176d3aa-118f-4fb0-900e-6d23337e54da",
   "metadata": {
    "tags": []
   },
   "outputs": [],
   "source": [
    "def gradal(l,expderiv,a,matexp):\n",
    "    ea = expderiv @ a\n",
    "    gradvecs = [(l==0)*ea + (l>0)*jnp.zeros(n, dtype=jnp.complex128)]\n",
    "    for k in range(1,numsteps):\n",
    "        thisvec = (k<l)*jnp.zeros(n, dtype=jnp.complex128)\n",
    "        thisvec += (k==l)*ea\n",
    "        thisvec += (k>l)*(matexp[k] @ gradvecs[k-1])\n",
    "        gradvecs.append( thisvec )\n",
    "    \n",
    "    # zeroblock = jnp.zeros((l, n), dtype=jnp.complex128)\n",
    "    return jnp.stack(gradvecs, axis=0)"
   ]
  },
  {
   "cell_type": "code",
   "execution_count": 232,
   "id": "50f5a286-267d-4198-a306-b4a19e5b5697",
   "metadata": {},
   "outputs": [],
   "source": [
    "def onematexp(evecs,expevals):\n",
    "    return evecs @ jnp.diag(expevals) @ evecs.conj().T"
   ]
  },
  {
   "cell_type": "code",
   "execution_count": 233,
   "id": "5dd6bfea-a7fc-4078-9cb5-95770d56c3bf",
   "metadata": {
    "tags": []
   },
   "outputs": [],
   "source": [
    "manyeigh = vmap(jnp.linalg.eigh)\n",
    "vfd = vmap(firstderiv, in_axes=(0,0))\n",
    "vsd = vmap(secondderiv, in_axes=(0,0))\n",
    "vgradal = vmap(gradal, in_axes=(0,0,0,None))\n",
    "vonematexp = vmap(onematexp)"
   ]
  },
  {
   "cell_type": "code",
   "execution_count": 234,
   "id": "0b7a77a8-cc46-4d63-95f7-0dbbe08106b1",
   "metadata": {
    "tags": []
   },
   "outputs": [],
   "source": [
    "freqvec = jnp.array([0.62831853, 1.25663706, 1.88495559, 2.51327412, 3.14159265, 3.76991118, \n",
    "                     4.39822972, 5.02654825, 5.65486678])\n",
    "nf = freqvec.shape[0]\n",
    "numparams = 1 + 2*nf\n",
    "def fmodelraw(theta, t):\n",
    "    return theta[0] + jnp.sum(theta[1:(1+nf)]*jnp.sin(freqvec*t)) + jnp.sum(theta[(1+nf):(1+2*nf)]*jnp.cos(freqvec*t))"
   ]
  },
  {
   "cell_type": "code",
   "execution_count": 235,
   "id": "8667cd5b-88e7-4232-ac1c-b6b26344390d",
   "metadata": {
    "tags": []
   },
   "outputs": [],
   "source": [
    "# # PARAMETERS THAT DEFINE NEURAL NET CONTROL (FIELD STRENGTH)\n",
    "# layerwidths = [1, 16, 16, 1]\n",
    "# nlayers = len(layerwidths)-1\n",
    "# numparams = 0\n",
    "# numweights = 0\n",
    "# for j in range(nlayers):\n",
    "#     numparams += layerwidths[j]*layerwidths[j+1] + layerwidths[j+1]\n",
    "#     numweights += layerwidths[j]*layerwidths[j+1]\n",
    "\n",
    "# print(\"number of neural network parameters = \" + str(numparams))\n",
    "\n",
    "# def fmodelraw(theta, t):\n",
    "#     filt = []\n",
    "#     for j in range(nlayers):\n",
    "#         if j==0:\n",
    "#             si = 0\n",
    "#             ei = layerwidths[0]*layerwidths[1]\n",
    "#         else:\n",
    "#             si += layerwidths[j-1]*layerwidths[j]\n",
    "#             ei += layerwidths[j]*layerwidths[j+1]\n",
    "#         filt.append( theta[si:ei].reshape((layerwidths[j],layerwidths[j+1])) )\n",
    "\n",
    "#     bias = []\n",
    "#     for j in range(nlayers):\n",
    "#         if j==0:\n",
    "#             si += layerwidths[nlayers-1]*layerwidths[nlayers]\n",
    "#             ei += layerwidths[1]\n",
    "#         else:\n",
    "#             si += layerwidths[j]\n",
    "#             ei += layerwidths[j+1]\n",
    "#         bias.append( theta[si:ei] )\n",
    "    \n",
    "#     f = jax.nn.softplus( t * filt[0] + bias[0] )\n",
    "#     for j in range(nlayers-2):\n",
    "#         f = jax.nn.softplus( f @ filt[j+1] + bias[j+1] )\n",
    "    \n",
    "#     f = f @ filt[nlayers-1] + bias[nlayers-1]\n",
    "#     return f[0,0]"
   ]
  },
  {
   "cell_type": "code",
   "execution_count": 236,
   "id": "93876163-75e9-457f-9bcf-7648dec7c67e",
   "metadata": {
    "tags": []
   },
   "outputs": [],
   "source": [
    "# # XAVIER WEIGHT INITIALIZATION\n",
    "# def xavier():\n",
    "#     params = []\n",
    "#     for i in range(nlayers):\n",
    "#         a = 1.0/np.sqrt(layerwidths[i])\n",
    "#         params.append( np.random.uniform(size=layerwidths[i]*layerwidths[i+1], low=-a, high=a) )\n",
    "#     params.append( np.zeros(numparams-numweights) )\n",
    "#     return np.concatenate(params)"
   ]
  },
  {
   "cell_type": "code",
   "execution_count": 237,
   "id": "1fff5aa8-d3f2-4b13-b1e1-aafd5561afb0",
   "metadata": {
    "tags": []
   },
   "outputs": [],
   "source": [
    "fmodel = vmap(fmodelraw, in_axes=(None,0))\n",
    "\n",
    "gradfraw = jacobian(fmodelraw)\n",
    "gradf = vmap(gradfraw, in_axes=(None,0))\n",
    "\n",
    "hessfraw = jacobian(gradfraw)\n",
    "hessf = vmap(hessfraw, in_axes=(None,0))"
   ]
  },
  {
   "cell_type": "code",
   "execution_count": 238,
   "id": "22830383-41e7-471d-814f-55fb9da43a5f",
   "metadata": {
    "tags": []
   },
   "outputs": [],
   "source": [
    "# given initial condition and forcing f, return trajectory a\n",
    "def propSchro(theta, a0):\n",
    "    manyhams = jnp.expand_dims(h0,0) + jnp.expand_dims(fmodel(theta, tvec),(1,2))*jnp.expand_dims(m,0)\n",
    "    allevals, allevecs = manyeigh(manyhams)\n",
    "    expevals = jnp.exp(-1j*dt*allevals)\n",
    "    matexp = vonematexp(allevecs,expevals)\n",
    "    \n",
    "    a = jnp.concatenate([jnp.expand_dims(a0,0), jnp.zeros((numsteps, n), dtype=jnp.complex128)])\n",
    "    def amatbody(k, am):\n",
    "        return am.at[k+1].set( matexp[k] @ am[k] )\n",
    "    \n",
    "    # forward trajectory\n",
    "    a = lax.fori_loop(0, numsteps, amatbody, a)\n",
    "    return a\n",
    "\n",
    "# given forcing f, IC a0, FC alpha, return cost\n",
    "def cost(theta, a0, alpha):\n",
    "    a = propSchro(theta, a0)\n",
    "    resid = a[-1] - alpha\n",
    "    pen = jnp.real(jnp.sum(resid * resid.conj()))\n",
    "    return 0.5*jnp.sum(fmodel(theta, tvec)**2) + 0.5*rho*pen"
   ]
  },
  {
   "cell_type": "code",
   "execution_count": 239,
   "id": "a90b6562-ba20-4a80-b7f6-4010bab6376f",
   "metadata": {
    "tags": []
   },
   "outputs": [],
   "source": [
    "# adjoint method\n",
    "def adjgrad(theta, a0, alpha):\n",
    "    f = fmodel(theta, tvec)\n",
    "    gf = gradf(theta, tvec)\n",
    "    manyhams = jnp.expand_dims(h0,0) + jnp.expand_dims(f,(1,2))*jnp.expand_dims(m,0)\n",
    "    allevals, allevecs = manyeigh(manyhams)\n",
    "    expevals = jnp.exp(-1j*dt*allevals)\n",
    "    matexp = vonematexp(allevecs,expevals)\n",
    "    \n",
    "    a = jnp.concatenate([jnp.expand_dims(a0,0), jnp.zeros((numsteps, n), dtype=jnp.complex128)])\n",
    "    def amatbody(k, am):\n",
    "        return am.at[k+1].set( matexp[k] @ am[k] )\n",
    "    \n",
    "    # forward trajectory\n",
    "    a = lax.fori_loop(0, numsteps, amatbody, a)\n",
    "    \n",
    "    # initialize lambda\n",
    "    resid = a[-1] - alpha\n",
    "    \n",
    "    # we are storing \"lambda conjugate\" throughout this calculation\n",
    "    alllamb = jnp.concatenate([jnp.expand_dims(rho*resid.conj(),0), jnp.zeros((numsteps, n), dtype=jnp.complex128)])\n",
    "    def lambbody(i, al):\n",
    "        k = (numsteps-1) - i\n",
    "        return al.at[i+1].set( al[i] @ matexp[k] )\n",
    "    \n",
    "    # backward trajectory\n",
    "    alllamb = lax.fori_loop(0, numsteps, lambbody, alllamb)\n",
    "    alllamb = jnp.flipud(alllamb)\n",
    "    \n",
    "    # first critical calculation\n",
    "    allexpderivs = vfd(allevecs, allevals)\n",
    "    \n",
    "    # output gradient we want\n",
    "    ourgrad = jnp.einsum('ai,aij,al,aj->l',alllamb[1:],allexpderivs,gf,a[:-1])\n",
    "    thegrad = f @ gf + jnp.real(ourgrad)\n",
    "    \n",
    "    return thegrad"
   ]
  },
  {
   "cell_type": "code",
   "execution_count": 240,
   "id": "6580ed8a-7fba-4490-9c15-c81f8931c280",
   "metadata": {
    "tags": []
   },
   "outputs": [],
   "source": [
    "# second-order adjoint method\n",
    "def adjhess(theta, a0, alpha):\n",
    "    f = fmodel(theta, tvec)\n",
    "    gf = gradf(theta, tvec)\n",
    "    hf = hessf(theta, tvec)\n",
    "    manyhams = jnp.expand_dims(h0,0) + jnp.expand_dims(f,(1,2))*jnp.expand_dims(m,0)\n",
    "    allevals, allevecs = manyeigh(manyhams)\n",
    "    expevals = jnp.exp(-1j*dt*allevals)\n",
    "    matexp = vonematexp(allevecs,expevals)\n",
    "\n",
    "    a = jnp.concatenate([jnp.expand_dims(a0,0), jnp.zeros((numsteps, n), dtype=jnp.complex128)])\n",
    "    def amatbody(k, am):\n",
    "        return am.at[k+1].set( matexp[k] @ am[k] )\n",
    "    \n",
    "    # forward trajectory\n",
    "    a = lax.fori_loop(0, numsteps, amatbody, a)\n",
    "    \n",
    "    # initialize lambda\n",
    "    resid = a[-1] - alpha\n",
    "    \n",
    "    # we are storing \"lambda conjugate\" throughout this calculation\n",
    "    alllamb = jnp.concatenate([jnp.expand_dims(rho*resid.conj(),0), jnp.zeros((numsteps, n), dtype=jnp.complex128)])\n",
    "    def lambbody(i, al):\n",
    "        k = (numsteps-1) - i\n",
    "        return al.at[i+1].set( al[i] @ matexp[k] )\n",
    "    \n",
    "    # backward trajectory\n",
    "    alllamb = lax.fori_loop(0, numsteps, lambbody, alllamb)\n",
    "    alllamb = jnp.flipud(alllamb)\n",
    "    \n",
    "    # first critical calculation\n",
    "    allexpderivs = vfd(allevecs, allevals)\n",
    "    \n",
    "    # compute gradient of a w.r.t. f\n",
    "    # grada tensor stores the gradient of the n-dimensional vector a[k] with respect to f[l]\n",
    "    lvec = jnp.arange(numsteps,dtype=jnp.int16)\n",
    "    grada = vgradal(lvec, allexpderivs, a[:-1], matexp)\n",
    "    grada = jnp.transpose(grada,(1,0,2))\n",
    "    grada = jnp.einsum('ijk,jl->ilk',grada,gf)\n",
    "    \n",
    "    # create and propagate mu\n",
    "    # as before, let us store and propagate \"mu conjugate\"\n",
    "    allmu0 = rho*grada[numsteps-1,:,:].conj()\n",
    "    allmu = jnp.concatenate([jnp.expand_dims(allmu0,0),\n",
    "                             jnp.zeros((numsteps, numparams, n), dtype=jnp.complex128)])\n",
    "    # allprevmu2 = jnp.flipud(jnp.outer(jnp.ones(n),jnp.eye(numsteps)).T.reshape((numsteps,numsteps,n)))\n",
    "    def mubody(kk, amu):\n",
    "        k = (numsteps-1) - kk\n",
    "        prevmu1 = amu[kk] @ matexp[k]\n",
    "        prevmu2 = jnp.outer(gf[k],alllamb[k+1].T @ allexpderivs[k])\n",
    "        return amu.at[kk+1].set( prevmu1+prevmu2 )\n",
    "\n",
    "    # backward trajectory\n",
    "    allmu = lax.fori_loop(0, numsteps, mubody, allmu)\n",
    "    allmu = jnp.flipud(allmu)\n",
    "        \n",
    "    # second critical calculation\n",
    "    allexpderivs2 = vsd(allevecs, allevals)\n",
    "    \n",
    "    # compute Hessian\n",
    "    gradapad = jnp.concatenate([jnp.zeros((1,numparams,n),dtype=jnp.complex128), grada[:-1,:,:]])\n",
    "    # j -> numsteps\n",
    "    # l -> numparams\n",
    "    # k -> n\n",
    "    term1 = jnp.einsum('jlk,jka,jm,ja->lm',allmu[1:],allexpderivs,gf,a[:-1])\n",
    "    term2a = jnp.einsum('jk,jka,jlm,ja->lm',alllamb[1:],allexpderivs,hf,a[:-1])\n",
    "    term2b = jnp.einsum('jk,jka,jl,jm,ja->lm',alllamb[1:],allexpderivs2,gf,gf,a[:-1])\n",
    "    term3 = jnp.einsum('jk,jka,jm,jla->lm',alllamb[1:],allexpderivs,gf,gradapad)\n",
    "    pcc = term1 + term2a + term2b + term3\n",
    "    hcc = jnp.einsum('ai,aj->ij',gf,gf) + jnp.einsum('a,aij->ij',f,hf)\n",
    "    thehess = hcc + jnp.real(pcc)\n",
    "    \n",
    "    return thehess"
   ]
  },
  {
   "cell_type": "code",
   "execution_count": 241,
   "id": "1199bfe0-2d89-47a5-ba6e-d1c6f026d2c3",
   "metadata": {
    "tags": []
   },
   "outputs": [],
   "source": [
    "jcost = jit(cost)\n",
    "jadjgrad = jit(adjgrad)\n",
    "jadjhess = jit(adjhess)"
   ]
  },
  {
   "cell_type": "code",
   "execution_count": 242,
   "id": "65f611e6-345d-4326-b8a2-0ed493eae5b6",
   "metadata": {
    "tags": []
   },
   "outputs": [],
   "source": [
    "mya0 = jnp.eye(n)[0]\n",
    "myalpha = jnp.eye(n)[n-1]"
   ]
  },
  {
   "cell_type": "code",
   "execution_count": 243,
   "id": "3712675f-29af-4dfd-a179-632f7245d3be",
   "metadata": {
    "tags": []
   },
   "outputs": [],
   "source": [
    "thetatest = jnp.array(0.1*np.random.normal(size=numparams))\n",
    "mycost = jcost(thetatest, mya0, myalpha)\n",
    "mygrad = jadjgrad(thetatest, mya0, myalpha)\n",
    "myhess = jadjhess(thetatest, mya0, myalpha)"
   ]
  },
  {
   "cell_type": "code",
   "execution_count": 244,
   "id": "33f1e8e6-de8c-4683-93b4-e05d2b31e1a7",
   "metadata": {
    "tags": []
   },
   "outputs": [],
   "source": [
    "def obj(x):\n",
    "    jx = jnp.array(x)\n",
    "    return jcost(jx,mya0,myalpha).item()"
   ]
  },
  {
   "cell_type": "code",
   "execution_count": 245,
   "id": "a1c82073-491a-4d84-b58a-60172f72232d",
   "metadata": {
    "tags": []
   },
   "outputs": [],
   "source": [
    "def gradobj(x):\n",
    "    jx = jnp.array(x)\n",
    "    return np.array(jadjgrad(jx,mya0,myalpha))"
   ]
  },
  {
   "cell_type": "code",
   "execution_count": 246,
   "id": "5ba2cd9e-3c17-473f-a663-8da797852cf8",
   "metadata": {
    "tags": []
   },
   "outputs": [],
   "source": [
    "def hessobj(x):\n",
    "    jx = jnp.array(x)\n",
    "    return np.array(jadjhess(jx,mya0,myalpha))"
   ]
  },
  {
   "cell_type": "code",
   "execution_count": 220,
   "id": "c1ef5bc4-8088-4b82-b301-43cdcaab6e71",
   "metadata": {
    "tags": []
   },
   "outputs": [
    {
     "name": "stdout",
     "output_type": "stream",
     "text": [
      "129310.21220626721\n"
     ]
    }
   ],
   "source": [
    "for j in range(1000):\n",
    "    thetatest = jnp.array(0.25*np.random.normal(size=numparams))\n",
    "    thisobj = obj(thetatest)\n",
    "    if thisobj < 200000:\n",
    "        print(thisobj)\n",
    "        break"
   ]
  },
  {
   "cell_type": "code",
   "execution_count": 221,
   "id": "3f3fba76-267f-430d-a0d2-de1fdf9971cb",
   "metadata": {
    "tags": []
   },
   "outputs": [],
   "source": [
    "# np.savez('Feb16resultsGreen.npz',thetatest=thetatest,xstarx=xstar.x)"
   ]
  },
  {
   "cell_type": "code",
   "execution_count": 263,
   "id": "b5d10228-6a22-41c5-a6c8-2e9b9876cdbc",
   "metadata": {
    "tags": []
   },
   "outputs": [
    {
     "name": "stdout",
     "output_type": "stream",
     "text": [
      "| niter |f evals|CG iter|  obj func   |tr radius |   opt    |  c viol  |\n",
      "|-------|-------|-------|-------------|----------|----------|----------|\n",
      "|   1   |   1   |   0   | +3.6210e+05 | 1.00e+00 | 1.11e+07 | 0.00e+00 |\n",
      "|   2   |   2   |   3   | +3.6210e+05 | 5.00e-01 | 1.11e+07 | 0.00e+00 |\n",
      "|   3   |   3   |   6   | +3.6210e+05 | 2.50e-01 | 1.11e+07 | 0.00e+00 |\n",
      "|   4   |   4   |   9   | +3.3686e+05 | 2.50e-01 | 8.94e+06 | 0.00e+00 |\n",
      "|   5   |   5   |  12   | +2.6024e+05 | 2.50e-01 | 1.05e+07 | 0.00e+00 |\n",
      "|   6   |   6   |  15   | +2.6024e+05 | 1.25e-01 | 1.05e+07 | 0.00e+00 |\n",
      "|   7   |   7   |  17   | +8.8937e+04 | 2.50e-01 | 5.31e+06 | 0.00e+00 |\n",
      "|   8   |   8   |  21   | +4.3562e+04 | 2.50e-01 | 1.92e+06 | 0.00e+00 |\n",
      "|   9   |   9   |  26   | +4.0261e+04 | 2.50e-01 | 7.36e+05 | 0.00e+00 |\n",
      "|  10   |  10   |  31   | +2.6809e+04 | 2.50e-01 | 5.97e+05 | 0.00e+00 |\n",
      "|  11   |  11   |  36   | +2.6809e+04 | 1.25e-01 | 5.97e+05 | 0.00e+00 |\n",
      "|  12   |  12   |  40   | +4.8963e+03 | 2.50e-01 | 1.06e+06 | 0.00e+00 |\n",
      "|  13   |  13   |  45   | +4.8963e+03 | 1.07e-01 | 1.06e+06 | 0.00e+00 |\n",
      "|  14   |  14   |  50   | +2.6390e+03 | 1.07e-01 | 4.69e+05 | 0.00e+00 |\n",
      "|  15   |  15   |  55   | +2.6390e+03 | 5.34e-02 | 4.69e+05 | 0.00e+00 |\n",
      "|  16   |  16   |  60   | +6.8633e+02 | 1.07e-01 | 1.77e+05 | 0.00e+00 |\n",
      "|  17   |  17   |  66   | +6.8633e+02 | 1.07e-02 | 1.77e+05 | 0.00e+00 |\n",
      "|  18   |  18   |  71   | +5.6995e+02 | 7.47e-02 | 2.28e+03 | 0.00e+00 |\n",
      "|  19   |  19   |  77   | +5.6995e+02 | 3.74e-02 | 2.28e+03 | 0.00e+00 |\n",
      "|  20   |  20   |  83   | +5.6012e+02 | 7.47e-02 | 1.90e+04 | 0.00e+00 |\n",
      "|  21   |  21   |  90   | +5.5220e+02 | 1.49e-01 | 8.83e+03 | 0.00e+00 |\n",
      "|  22   |  22   |  97   | +5.5220e+02 | 1.49e-02 | 8.83e+03 | 0.00e+00 |\n",
      "|  23   |  23   |  103  | +5.3870e+02 | 1.05e-01 | 3.69e+03 | 0.00e+00 |\n",
      "|  24   |  24   |  109  | +5.3870e+02 | 1.05e-02 | 3.69e+03 | 0.00e+00 |\n",
      "|  25   |  25   |  114  | +5.3696e+02 | 7.32e-02 | 1.32e+03 | 0.00e+00 |\n",
      "|  26   |  26   |  121  | +5.3522e+02 | 7.32e-02 | 2.10e+04 | 0.00e+00 |\n",
      "|  27   |  27   |  127  | +5.3522e+02 | 1.15e-02 | 2.10e+04 | 0.00e+00 |\n",
      "|  28   |  28   |  133  | +5.2577e+02 | 2.30e-02 | 3.07e+03 | 0.00e+00 |\n",
      "|  29   |  29   |  139  | +5.2326e+02 | 4.59e-02 | 6.50e+02 | 0.00e+00 |\n",
      "|  30   |  30   |  145  | +5.2023e+02 | 3.21e-01 | 3.53e+03 | 0.00e+00 |\n",
      "|  31   |  31   |  153  | +5.2023e+02 | 3.21e-02 | 3.53e+03 | 0.00e+00 |\n",
      "|  32   |  32   |  159  | +5.1854e+02 | 2.25e-01 | 1.44e+03 | 0.00e+00 |\n",
      "|  33   |  33   |  167  | +5.1854e+02 | 2.25e-02 | 1.44e+03 | 0.00e+00 |\n",
      "|  34   |  34   |  173  | +5.1782e+02 | 1.57e-01 | 4.10e+03 | 0.00e+00 |\n",
      "|  35   |  35   |  185  | +5.1782e+02 | 1.57e-02 | 4.10e+03 | 0.00e+00 |\n",
      "|  36   |  36   |  191  | +5.1743e+02 | 1.10e-01 | 1.79e+03 | 0.00e+00 |\n",
      "|  37   |  37   |  200  | +5.1743e+02 | 1.10e-02 | 1.79e+03 | 0.00e+00 |\n",
      "|  38   |  38   |  206  | +5.1726e+02 | 7.72e-02 | 1.75e+03 | 0.00e+00 |\n",
      "|  39   |  39   |  221  | +5.1726e+02 | 7.72e-03 | 1.75e+03 | 0.00e+00 |\n",
      "|  40   |  40   |  227  | +5.1718e+02 | 5.40e-02 | 6.87e+02 | 0.00e+00 |\n",
      "|  41   |  41   |  242  | +5.1718e+02 | 5.40e-03 | 6.87e+02 | 0.00e+00 |\n",
      "|  42   |  42   |  248  | +5.1714e+02 | 3.78e-02 | 4.79e+02 | 0.00e+00 |\n",
      "|  43   |  43   |  256  | +5.1711e+02 | 3.78e-02 | 1.73e+03 | 0.00e+00 |\n",
      "|  44   |  44   |  261  | +5.1710e+02 | 3.78e-02 | 8.29e-01 | 0.00e+00 |\n",
      "|  45   |  45   |  280  | +5.1710e+02 | 3.78e-03 | 8.29e-01 | 0.00e+00 |\n",
      "|  46   |  46   |  294  | +5.1710e+02 | 7.56e-03 | 3.12e+02 | 0.00e+00 |\n",
      "|  47   |  47   |  298  | +5.1710e+02 | 7.56e-03 | 1.69e-01 | 0.00e+00 |\n",
      "|  48   |  48   |  313  | +5.1710e+02 | 3.78e-03 | 1.69e-01 | 0.00e+00 |\n",
      "|  49   |  49   |  324  | +5.1710e+02 | 2.65e-02 | 1.04e+02 | 0.00e+00 |\n",
      "|  50   |  50   |  329  | +5.1710e+02 | 2.65e-02 | 2.71e-01 | 0.00e+00 |\n",
      "|  51   |  51   |  348  | +5.1710e+02 | 2.70e-03 | 2.71e-01 | 0.00e+00 |\n",
      "|  52   |  52   |  363  | +5.1710e+02 | 5.41e-03 | 7.40e+01 | 0.00e+00 |\n",
      "|  53   |  53   |  367  | +5.1710e+02 | 5.41e-03 | 5.10e-01 | 0.00e+00 |\n",
      "|  54   |  54   |  382  | +5.1710e+02 | 1.08e-02 | 2.29e+02 | 0.00e+00 |\n",
      "|  55   |  55   |  387  | +5.1709e+02 | 1.08e-02 | 1.39e-01 | 0.00e+00 |\n",
      "|  56   |  56   |  397  | +5.1709e+02 | 1.08e-02 | 2.43e-01 | 0.00e+00 |\n",
      "|  57   |  57   |  399  | +5.1709e+02 | 1.08e-02 | 2.96e-02 | 0.00e+00 |\n",
      "|  58   |  58   |  418  | +5.1709e+02 | 1.08e-02 | 7.92e+01 | 0.00e+00 |\n",
      "|  59   |  59   |  423  | +5.1709e+02 | 1.08e-02 | 1.29e-02 | 0.00e+00 |\n",
      "|  60   |  60   |  432  | +5.1709e+02 | 1.08e-02 | 1.70e-02 | 0.00e+00 |\n",
      "|  61   |  61   |  434  | +5.1709e+02 | 1.08e-02 | 2.25e-03 | 0.00e+00 |\n",
      "|  62   |  62   |  453  | +5.1709e+02 | 1.08e-02 | 3.37e-02 | 0.00e+00 |\n",
      "|  63   |  63   |  454  | +5.1709e+02 | 1.08e-02 | 4.51e-03 | 0.00e+00 |\n",
      "|  64   |  64   |  460  | +5.1709e+02 | 1.08e-02 | 3.54e-04 | 0.00e+00 |\n",
      "|  65   |  65   |  470  | +5.1709e+02 | 1.08e-02 | 1.31e-04 | 0.00e+00 |\n",
      "|  66   |  66   |  489  | +5.1709e+02 | 1.08e-02 | 1.34e-03 | 0.00e+00 |\n",
      "|  67   |  67   |  493  | +5.1709e+02 | 1.08e-03 | 1.34e-03 | 0.00e+00 |\n",
      "|  68   |  67   |  497  | +5.1709e+02 | 1.08e-04 | 1.34e-03 | 0.00e+00 |\n",
      "|  69   |  67   |  501  | +5.1709e+02 | 1.08e-05 | 1.34e-03 | 0.00e+00 |\n",
      "|  70   |  67   |  505  | +5.1709e+02 | 1.08e-06 | 1.34e-03 | 0.00e+00 |\n",
      "|  71   |  67   |  509  | +5.1709e+02 | 1.08e-07 | 1.34e-03 | 0.00e+00 |\n",
      "|  72   |  67   |  513  | +5.1709e+02 | 1.08e-08 | 1.34e-03 | 0.00e+00 |\n",
      "|  73   |  67   |  517  | +5.1709e+02 | 1.08e-09 | 1.34e-03 | 0.00e+00 |\n",
      "|  74   |  68   |  520  | +5.1709e+02 | 1.08e-10 | 1.34e-03 | 0.00e+00 |\n",
      "|  75   |  69   |  523  | +5.1709e+02 | 5.41e-11 | 1.34e-03 | 0.00e+00 |\n",
      "|  76   |  70   |  525  | +5.1709e+02 | 5.41e-12 | 1.34e-03 | 0.00e+00 |\n",
      "|  77   |  71   |  526  | +5.1709e+02 | 3.79e-11 | 6.84e-04 | 0.00e+00 |\n",
      "|  78   |  72   |  527  | +5.1709e+02 | 2.65e-10 | 6.30e-04 | 0.00e+00 |\n",
      "|  79   |  73   |  529  | +5.1709e+02 | 2.65e-11 | 6.30e-04 | 0.00e+00 |\n",
      "|  80   |  74   |  531  | +5.1709e+02 | 2.65e-12 | 6.30e-04 | 0.00e+00 |\n",
      "|  81   |  75   |  532  | +5.1709e+02 | 2.65e-13 | 6.30e-04 | 0.00e+00 |\n",
      "|  82   |  76   |  533  | +5.1709e+02 | 2.65e-14 | 6.30e-04 | 0.00e+00 |\n",
      "|  83   |  77   |  534  | +5.1709e+02 | 2.65e-15 | 6.30e-04 | 0.00e+00 |\n",
      "|  84   |  78   |  535  | +5.1709e+02 | 2.65e-16 | 6.30e-04 | 0.00e+00 |\n",
      "|  85   |  79   |  536  | +5.1709e+02 | 1.32e-16 | 6.30e-04 | 0.00e+00 |\n",
      "|  86   |  80   |  537  | +5.1709e+02 | 1.32e-17 | 6.30e-04 | 0.00e+00 |\n",
      "\n",
      "`xtol` termination condition is satisfied.\n",
      "Number of iterations: 86, function evaluations: 80, CG iterations: 537, optimality: 6.30e-04, constraint violation: 0.00e+00, execution time:  4.4 s.\n",
      "4.460306406021118\n"
     ]
    }
   ],
   "source": [
    "start = time.time()\n",
    "xstar = so.minimize(obj, x0=xstar.x + 1e-1*np.random.normal(size=numparams), method='trust-constr', jac=gradobj, hess=hessobj,\n",
    "                    options={'gtol':1e-16,'xtol':1e-16,'verbose':2,'maxiter':10000})\n",
    "end = time.time()\n",
    "print(end-start)"
   ]
  },
  {
   "cell_type": "code",
   "execution_count": 261,
   "id": "3f953b85-b492-453a-be49-d986f76dbddf",
   "metadata": {
    "tags": []
   },
   "outputs": [
    {
     "data": {
      "text/plain": [
       "10.339912176132202"
      ]
     },
     "execution_count": 261,
     "metadata": {},
     "output_type": "execute_result"
    }
   ],
   "source": [
    "xstar.execution_time"
   ]
  },
  {
   "cell_type": "code",
   "execution_count": 262,
   "id": "d4c4c7d7-000f-4c23-9135-1c482d4dd88c",
   "metadata": {
    "tags": []
   },
   "outputs": [
    {
     "data": {
      "image/png": "[encoded data removed]",
      "text/plain": [
       "<Figure size 640x480 with 1 Axes>"
      ]
     },
     "metadata": {},
     "output_type": "display_data"
    }
   ],
   "source": [
    "plt.plot(np.array(tvec), np.array(fmodel(jnp.array(xstar.x), tvec)))\n",
    "plt.show()"
   ]
  },
  {
   "cell_type": "code",
   "execution_count": 250,
   "id": "c275be40-50d2-4c70-902d-b72c708d043a",
   "metadata": {},
   "outputs": [
    {
     "data": {
      "text/plain": [
       "Array(3.6456778e-05, dtype=float64)"
      ]
     },
     "execution_count": 250,
     "metadata": {},
     "output_type": "execute_result"
    }
   ],
   "source": [
    "jnp.mean(jnp.abs(propSchro(jnp.array(xstar.x), mya0)[-1] - myalpha))"
   ]
  },
  {
   "cell_type": "code",
   "execution_count": 251,
   "id": "e4c485a9-9543-46cb-8c90-c61a179aa4f8",
   "metadata": {},
   "outputs": [
    {
     "data": {
      "text/plain": [
       "array([ 0.12131952, -0.03182348, -0.35074492,  0.16073317,  0.14556402,\n",
       "        0.08560034,  0.0602544 ,  0.03358367,  0.02792704,  0.02599268,\n",
       "        0.18406702,  0.02557658,  0.01763771, -0.05142321, -0.01592139,\n",
       "       -0.00073675, -0.00685965, -0.0071463 , -0.00884176])"
      ]
     },
     "execution_count": 251,
     "metadata": {},
     "output_type": "execute_result"
    }
   ],
   "source": [
    "xstar.x"
   ]
  },
  {
   "cell_type": "code",
   "execution_count": 227,
   "id": "8c538743-d032-40dc-82a5-4b2d2a21d3b9",
   "metadata": {
    "tags": []
   },
   "outputs": [],
   "source": [
    "np.savez('paramsFeb18great.npz',xstarx=xstar.x)"
   ]
  },
  {
   "cell_type": "code",
   "execution_count": null,
   "id": "9c13dc4d-2e7e-4d50-9ebc-bbb046e4083e",
   "metadata": {},
   "outputs": [],
   "source": []
  }
 ],
 "metadata": {
  "kernelspec": {
   "display_name": "jax2024",
   "language": "python",
   "name": "jax2024"
  },
  "language_info": {
   "codemirror_mode": {
    "name": "ipython",
    "version": 3
   },
   "file_extension": ".py",
   "mimetype": "text/x-python",
   "name": "python",
   "nbconvert_exporter": "python",
   "pygments_lexer": "ipython3",
   "version": "3.12.0"
  }
 },
 "nbformat": 4,
 "nbformat_minor": 5
}
