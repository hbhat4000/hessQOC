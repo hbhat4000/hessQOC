{
 "cells": [
  {
   "cell_type": "code",
   "execution_count": 1,
   "id": "27d04d0f-0c4b-4ad9-bc0b-6601bec71432",
   "metadata": {
    "tags": []
   },
   "outputs": [],
   "source": [
    "# use a random projection to try to reduce parameters\n",
    "# also try layer-wise training\n",
    "\n",
    "import os\n",
    "os.environ[\"XLA_PYTHON_CLIENT_PREALLOCATE\"]=\"false\"\n",
    "\n",
    "import jax\n",
    "jax.config.update(\"jax_enable_x64\", True)"
   ]
  },
  {
   "cell_type": "code",
   "execution_count": 2,
   "id": "adf9af5c-c953-4848-b5a8-7316dd0824e7",
   "metadata": {
    "tags": []
   },
   "outputs": [],
   "source": [
    "import jax.numpy as jnp\n",
    "from jax import jit, grad, jacobian, lax\n",
    "\n",
    "import numpy as np\n",
    "import matplotlib.pyplot as plt"
   ]
  },
  {
   "cell_type": "code",
   "execution_count": 3,
   "id": "c6a929d3-bc28-43b6-9555-a914d36c8b30",
   "metadata": {
    "tags": []
   },
   "outputs": [
    {
     "name": "stdout",
     "output_type": "stream",
     "text": [
      "0.0\n",
      "0.0\n"
     ]
    }
   ],
   "source": [
    "h0 = jnp.array([[1.0,0.0,0.0],[0.0,2.0,0.0],[0.0,0.0,jnp.pi]])\n",
    "m = jnp.array([[0.5,-2.0,1.0],[-2.0,0.7,0.3],[1.0,0.3,0.4]])\n",
    "print(jnp.mean(jnp.abs(h0 - h0.T)))\n",
    "print(jnp.mean(jnp.abs(m - m.T)))"
   ]
  },
  {
   "cell_type": "code",
   "execution_count": 4,
   "id": "0b5a663a-699b-4319-9f69-807836e6a2d3",
   "metadata": {
    "tags": []
   },
   "outputs": [],
   "source": [
    "dt = 1e-3"
   ]
  },
  {
   "cell_type": "code",
   "execution_count": 5,
   "id": "66db9c94-601d-4b6c-ad02-d7a479a48428",
   "metadata": {
    "tags": []
   },
   "outputs": [],
   "source": [
    "numsteps = 100\n",
    "n = 3"
   ]
  },
  {
   "cell_type": "code",
   "execution_count": 6,
   "id": "df3e307d-624d-4c3f-a712-46a188e77aa4",
   "metadata": {
    "tags": []
   },
   "outputs": [],
   "source": [
    "# given initial condition and forcing f, return trajectory a\n",
    "def propSchro(f, a0):\n",
    "    a = [a0]\n",
    "    for k in range(numsteps):\n",
    "        thisham = h0 + f[k]*m\n",
    "        evals, evecs = jnp.linalg.eigh(thisham)\n",
    "        a.append( evecs @ jnp.diag(jnp.exp(-1j*dt*evals)) @ evecs.conj().T @ a[k] )\n",
    "    \n",
    "    a = jnp.stack(a, axis=0)\n",
    "    return a"
   ]
  },
  {
   "cell_type": "code",
   "execution_count": 7,
   "id": "7a4b4674-6362-4e57-9403-9c98c35ec444",
   "metadata": {
    "tags": []
   },
   "outputs": [],
   "source": [
    "# given forcing f, IC a0, FC alpha, return cost\n",
    "rho = 1\n",
    "def cost(f, a0, alpha):\n",
    "    a = propSchro(f, a0)\n",
    "    resid = a[-1] - alpha\n",
    "    pen = jnp.real(jnp.sum(resid * resid.conj()))\n",
    "    return 0.5*jnp.sum(f**2) + 0.5*rho*pen"
   ]
  },
  {
   "cell_type": "code",
   "execution_count": 8,
   "id": "af6002a0-bcfc-46da-be09-e3de2a29a08f",
   "metadata": {
    "tags": []
   },
   "outputs": [],
   "source": [
    "mya0 = jnp.array([1.0,0.0,0.0]) "
   ]
  },
  {
   "cell_type": "code",
   "execution_count": 9,
   "id": "695a1980-ae06-4adc-b8e8-5e538f3cbe13",
   "metadata": {
    "tags": []
   },
   "outputs": [],
   "source": [
    "a = propSchro( jnp.array(np.random.normal(size=numsteps)), mya0 )"
   ]
  },
  {
   "cell_type": "code",
   "execution_count": 10,
   "id": "f9e9d4a3-b137-4110-bd3b-16bef69c035d",
   "metadata": {
    "tags": []
   },
   "outputs": [],
   "source": [
    "myalpha = jnp.array([0.25,-0.5,0.75])"
   ]
  },
  {
   "cell_type": "code",
   "execution_count": 11,
   "id": "a412fd93-daaf-441d-8099-1604d1f3e4fb",
   "metadata": {
    "tags": []
   },
   "outputs": [
    {
     "data": {
      "text/plain": [
       "Array(42.37704045, dtype=float64)"
      ]
     },
     "execution_count": 11,
     "metadata": {},
     "output_type": "execute_result"
    }
   ],
   "source": [
    "cost( jnp.array(np.random.normal(size=numsteps)), mya0, myalpha )"
   ]
  },
  {
   "cell_type": "code",
   "execution_count": 12,
   "id": "ab2fc9e7-ffc7-4062-bc49-1ae5fc921c95",
   "metadata": {
    "tags": []
   },
   "outputs": [],
   "source": [
    "gradcost = grad(cost, 0)"
   ]
  },
  {
   "cell_type": "code",
   "execution_count": 13,
   "id": "fd948038-8bff-4ee8-84ba-c1e9c3cc3faa",
   "metadata": {
    "tags": []
   },
   "outputs": [],
   "source": [
    "# adjoint method\n",
    "rho = 1\n",
    "def adjgrad(f, a0, alpha):\n",
    "    a = [a0]\n",
    "    allevals = []\n",
    "    allevecs = []\n",
    "    for k in range(numsteps):\n",
    "        thisham = h0 + f[k]*m\n",
    "        evals, evecs = jnp.linalg.eigh(thisham)\n",
    "        allevals.append( evals )\n",
    "        allevecs.append( evecs )\n",
    "        a.append( evecs @ jnp.diag(jnp.exp(-1j*dt*evals)) @ evecs.conj().T @ a[k] )\n",
    "    \n",
    "    # forward trajectory\n",
    "    a = jnp.stack(a, axis=0)\n",
    "    print(a.shape)\n",
    "    \n",
    "    # initialize lambda\n",
    "    resid = a[-1] - alpha\n",
    "    # we are storing \"lambda conjugate\" throughout this calculation\n",
    "    alllamb = [rho*resid.conj()]\n",
    "    for k in range(numsteps-1,-1,-1):\n",
    "        kk = (numsteps-1) - k\n",
    "        alllamb.append( alllamb[kk] @ allevecs[k] @ jnp.diag(jnp.exp(-1j*dt*allevals[k])) @ allevecs[k].conj().T )\n",
    "    \n",
    "    # backward trajectory\n",
    "    alllamb = jnp.flipud(jnp.stack(alllamb, axis=0))\n",
    "    \n",
    "    # set up mask\n",
    "    mask = jnp.ones((n, n)) - jnp.eye(n)\n",
    "    \n",
    "    # first critical calculation\n",
    "    allexpderivs = []\n",
    "    for k in range(numsteps):\n",
    "        amat = allevecs[k].conj().T @ m @ allevecs[k]\n",
    "        dvec = -1j*dt*allevals[k]\n",
    "        dvec1, dvec2 = jnp.meshgrid(dvec, dvec)\n",
    "        mask = jnp.ones((n,n)) - jnp.eye(n)\n",
    "        numer = jnp.exp(dvec1) - jnp.exp(dvec2)\n",
    "        denom = (dvec1 - dvec2)*mask + jnp.eye(n)\n",
    "        derivmat = mask*numer/denom + jnp.diag(jnp.exp(dvec))\n",
    "        qmat = allevecs[k] @ (amat * derivmat) @ allevecs[k].conj().T\n",
    "        allexpderivs.append( qmat )\n",
    "    \n",
    "    # output gradient we want\n",
    "    ourgrad = []\n",
    "    for k in range(numsteps):\n",
    "        # because we have stored \"lambda conjugate\", we just need transpose here to get the dagger\n",
    "        ourgrad.append( alllamb[k+1].T @ allexpderivs[k] @ a[k] )\n",
    "    \n",
    "    return f + jnp.real((-1j*dt)*jnp.array(ourgrad))\n",
    "\n",
    "# simple finite-difference gradient checker\n",
    "def fdgrad(kk, a0, alpha, myeps=1e-6):\n",
    "    pertvec = jnp.eye(numsteps)[kk]\n",
    "    cplus = cost( ftest + myeps*pertvec, a0, alpha )\n",
    "    cminus = cost( ftest - myeps*pertvec, a0, alpha )\n",
    "    return (cplus - cminus)/(2*myeps)"
   ]
  },
  {
   "cell_type": "code",
   "execution_count": 14,
   "id": "968cf27e-949c-403a-81e6-241d770a2999",
   "metadata": {
    "tags": []
   },
   "outputs": [],
   "source": [
    "# UNIT TESTING for DERIVATIVE OF MATRIX EXPONENTIAL\n",
    "#\n",
    "# dvec = jnp.array([2.0, 4.5])\n",
    "# dvec1, dvec2 = jnp.meshgrid(dvec, dvec)\n",
    "# mask = jnp.ones((n,n)) - jnp.eye(n)\n",
    "# numer = jnp.exp(dvec1) - jnp.exp(dvec2)\n",
    "# denom = (dvec1 - dvec2)*mask + jnp.eye(n)\n",
    "# test = mask*numer/denom + jnp.diag(jnp.exp(dvec))\n",
    "# print(test)\n",
    "# \n",
    "# npres = np.zeros((n,n))\n",
    "# for i in range(n):\n",
    "#     for l in range(n):\n",
    "#         if dvec[i]==dvec[l]:\n",
    "#             npres[i,l] = np.exp(dvec[i])\n",
    "#         else:\n",
    "#             npres[i,l] = (np.exp(dvec[i]) - np.exp(dvec[l]))/(dvec[i] - dvec[l])\n",
    "# \n",
    "# print(npres)"
   ]
  },
  {
   "cell_type": "code",
   "execution_count": 15,
   "id": "ceac161c-36d3-42dc-8bdd-ff2dd7d4a30a",
   "metadata": {
    "tags": []
   },
   "outputs": [
    {
     "name": "stdout",
     "output_type": "stream",
     "text": [
      "(101, 3)\n"
     ]
    },
    {
     "name": "stderr",
     "output_type": "stream",
     "text": [
      "/u/hbhat/.conda/envs/jax2024/lib/python3.12/site-packages/jax/_src/lax/lax.py:3373: ComplexWarning: Casting complex values to real discards the imaginary part\n",
      "  x_bar = _convert_element_type(x_bar, x.aval.dtype, x.aval.weak_type)\n"
     ]
    },
    {
     "name": "stdout",
     "output_type": "stream",
     "text": [
      "1.7699492045608611e-16\n"
     ]
    }
   ],
   "source": [
    "ftest = jnp.array(np.random.normal(size=numsteps))\n",
    "adjres = adjgrad( ftest, mya0, myalpha )\n",
    "# print(adjres)\n",
    "jaxres = gradcost( ftest, mya0, myalpha )\n",
    "# print(jaxres)\n",
    "print(jnp.mean(jnp.abs(adjres - jaxres)))"
   ]
  },
  {
   "cell_type": "code",
   "execution_count": 16,
   "id": "516fdbf5-1db7-4189-8dc3-aef1360ce092",
   "metadata": {},
   "outputs": [],
   "source": [
    "def myexp(x):\n",
    "    thisham = h0 + x*m\n",
    "    evals, evecs = jnp.linalg.eigh(thisham)\n",
    "    out = evecs @ jnp.diag(jnp.exp(evals)) @ evecs.conj().T\n",
    "    return out.reshape((-1))"
   ]
  },
  {
   "cell_type": "code",
   "execution_count": 22,
   "id": "5a3099b0-df25-442b-abb1-9a2569356fec",
   "metadata": {
    "tags": []
   },
   "outputs": [
    {
     "data": {
      "text/plain": [
       "Array([ 4.60151186,  4.58493099, -5.01474672,  4.58493099,  7.66890076,\n",
       "       -3.622522  , -5.01474672, -3.622522  , 20.71251129], dtype=float64)"
      ]
     },
     "execution_count": 22,
     "metadata": {},
     "output_type": "execute_result"
    }
   ],
   "source": [
    "myexp(-0.5)"
   ]
  },
  {
   "cell_type": "code",
   "execution_count": 18,
   "id": "2e435dff-af3d-49e7-a95c-408ee08c1752",
   "metadata": {
    "tags": []
   },
   "outputs": [],
   "source": [
    "dmyexp = jacobian(myexp)"
   ]
  },
  {
   "cell_type": "code",
   "execution_count": 23,
   "id": "aade621d-1674-4b6b-8cda-fc75aefe11db",
   "metadata": {
    "tags": []
   },
   "outputs": [
    {
     "data": {
      "text/plain": [
       "Array([ -8.91549742, -10.86554809,  11.77529408, -10.86554809,\n",
       "        -6.00133093,  10.57918381,  11.77529408,  10.57918381,\n",
       "         0.32808872], dtype=float64, weak_type=True)"
      ]
     },
     "execution_count": 23,
     "metadata": {},
     "output_type": "execute_result"
    }
   ],
   "source": [
    "dmyexp(-0.5)"
   ]
  },
  {
   "cell_type": "code",
   "execution_count": 20,
   "id": "6ce4f2ba-3644-41bb-b5ce-454c68940184",
   "metadata": {
    "tags": []
   },
   "outputs": [],
   "source": [
    "ddmyexp = jacobian(dmyexp)"
   ]
  },
  {
   "cell_type": "code",
   "execution_count": 24,
   "id": "a302593f-4055-4541-be3e-70a51ffcd11e",
   "metadata": {
    "tags": []
   },
   "outputs": [
    {
     "data": {
      "text/plain": [
       "Array([ 22.7560428 ,  13.95536512, -12.14195109,  13.95536512,\n",
       "        22.64835165, -15.41213593, -12.14195109, -15.41213593,\n",
       "        19.4284515 ], dtype=float64, weak_type=True)"
      ]
     },
     "execution_count": 24,
     "metadata": {},
     "output_type": "execute_result"
    }
   ],
   "source": [
    "ddmyexp(-0.5)"
   ]
  },
  {
   "cell_type": "code",
   "execution_count": 27,
   "id": "65ae0815-4ec5-4997-8166-283ce06ef911",
   "metadata": {
    "tags": []
   },
   "outputs": [],
   "source": [
    "mask = jnp.ones((n,n)) - jnp.eye(n)\n",
    "\n",
    "mask3 = np.zeros((3,3,3))\n",
    "for i in range(3):\n",
    "    for j in range(3):\n",
    "        for k in range(3):\n",
    "            if i!=j and i!=k and j!=k:\n",
    "                mask3[i,j,k] = 1\n",
    "\n",
    "mask3 = jnp.array(mask3)\n",
    "\n",
    "newmask3 = np.zeros((3,3,3))\n",
    "for i in range(3):\n",
    "    for j in range(3):\n",
    "        for k in range(3):\n",
    "            if i!=j and i==k:\n",
    "                newmask3[i,j,k] = 1\n",
    "                \n",
    "newmask3 = jnp.array(newmask3)\n",
    "\n",
    "def myhess(x):\n",
    "    z = h0 + x*m\n",
    "    evals, evecs = jnp.linalg.eigh(z)\n",
    "    a = evecs.conj().T @ m @ evecs\n",
    "    expevals = jnp.exp(evals)\n",
    "    evals1, evals2 = jnp.meshgrid(evals, evals, indexing='ij')\n",
    "    mask = jnp.ones((n,n)) - jnp.eye(n)\n",
    "    expevals1, expevals2 = jnp.meshgrid(expevals, expevals, indexing='ij')\n",
    "    # first D_{ii}=D_{kk} term\n",
    "    diagterm1 = expevals1*jnp.diag(jnp.diag(a*a))\n",
    "    # first D_{ii}!=D_{kk} term\n",
    "    numer1 = -expevals1 + evals1*expevals1 - evals2*expevals1 + expevals2\n",
    "    denom1 = (evals1-evals2)**2 * mask + jnp.eye(n)\n",
    "    frac1 = numer1/denom1 * mask\n",
    "    term1 = frac1*2*(jnp.diag(a)*a).T\n",
    "    # second D_{ii}!=D_{kk} term\n",
    "    numer2 = -expevals1 + evals1*expevals2 - evals2*expevals2 + expevals2\n",
    "    denom2 = (evals1-evals2)**2 * mask + jnp.eye(n)\n",
    "    frac2 = numer2/denom2 * mask\n",
    "    term2 = frac2*2*(a*jnp.diag(a))\n",
    "    # third D_{ii}!=D_{kk} term\n",
    "    paren = 2*jnp.einsum('ij,jk->ijk',a,a)\n",
    "    evals1, evals2, evals3 = jnp.meshgrid(evals, evals, evals, indexing='ij')\n",
    "    expevals1, expevals2, expevals3 = jnp.meshgrid(expevals, expevals, expevals, indexing='ij')\n",
    "    numer3 = evals1*(expevals2-expevals3)-evals2*(expevals1-expevals3)+evals3*(expevals1-expevals2)\n",
    "    denom3 = (evals1-evals2)*(evals1-evals3)*(evals2-evals3) + jnp.ones((3,3,3)) - mask3\n",
    "    term3 = jnp.sum( (numer3/denom3 * mask3) * paren, axis=1 )\n",
    "    # second D_{ii}=D_{kk} term\n",
    "    diagnumer2 = -expevals1 + evals1*expevals1 - evals2*expevals1 + expevals2\n",
    "    diagdenom2 = (evals1-evals2)**2 + jnp.ones((3,3,3)) - newmask3\n",
    "    diagfrac2 = (diagnumer2/diagdenom2)*newmask3\n",
    "    diagterm2 = jnp.sum( diagfrac2*paren, axis=1 )\n",
    "    # put it all together\n",
    "    udagru = term1 - term2 - term3 + diagterm1 + diagterm2\n",
    "    return evecs @ udagru @ evecs.conj().T"
   ]
  },
  {
   "cell_type": "code",
   "execution_count": 44,
   "id": "3c8463bf-5110-4464-b976-2435fc269b56",
   "metadata": {
    "tags": []
   },
   "outputs": [
    {
     "data": {
      "text/plain": [
       "Array(1.56480806e-13, dtype=float64)"
      ]
     },
     "execution_count": 44,
     "metadata": {},
     "output_type": "execute_result"
    }
   ],
   "source": [
    "jnp.linalg.norm(myhess(0.5) - ddmyexp(0.5).reshape((n,n)))"
   ]
  },
  {
   "cell_type": "code",
   "execution_count": 31,
   "id": "28383336-1470-4e50-9db8-4d868fc012c4",
   "metadata": {
    "tags": []
   },
   "outputs": [],
   "source": [
    "jmyhess = jit(myhess)"
   ]
  },
  {
   "cell_type": "code",
   "execution_count": 32,
   "id": "3aca31ed-2c53-4bc7-a71d-deac4cfc486d",
   "metadata": {
    "tags": []
   },
   "outputs": [],
   "source": [
    "jddmyexp = jit(ddmyexp)"
   ]
  },
  {
   "cell_type": "code",
   "execution_count": 33,
   "id": "a108ad0c-60cb-4f93-99a9-e0c78737e6d1",
   "metadata": {
    "tags": []
   },
   "outputs": [],
   "source": [
    "import time"
   ]
  },
  {
   "cell_type": "code",
   "execution_count": 47,
   "id": "c45c228d-980b-4794-87ea-1c2c2259e81f",
   "metadata": {
    "tags": []
   },
   "outputs": [
    {
     "name": "stdout",
     "output_type": "stream",
     "text": [
      "0.0005421638488769531\n"
     ]
    }
   ],
   "source": [
    "start = time.time()\n",
    "myres = jmyhess(-1.0)\n",
    "end = time.time()\n",
    "print(end-start)"
   ]
  },
  {
   "cell_type": "code",
   "execution_count": 48,
   "id": "dd87351d-24b0-4865-90aa-6312318e88ba",
   "metadata": {
    "tags": []
   },
   "outputs": [
    {
     "name": "stdout",
     "output_type": "stream",
     "text": [
      "0.00052642822265625\n"
     ]
    }
   ],
   "source": [
    "start = time.time()\n",
    "myres = jddmyexp(-1.0)\n",
    "end = time.time()\n",
    "print(end-start)"
   ]
  },
  {
   "cell_type": "code",
   "execution_count": null,
   "id": "65fab340-f70a-4cea-8e37-b53aed688073",
   "metadata": {},
   "outputs": [],
   "source": []
  }
 ],
 "metadata": {
  "kernelspec": {
   "display_name": "jax2024",
   "language": "python",
   "name": "jax2024"
  },
  "language_info": {
   "codemirror_mode": {
    "name": "ipython",
    "version": 3
   },
   "file_extension": ".py",
   "mimetype": "text/x-python",
   "name": "python",
   "nbconvert_exporter": "python",
   "pygments_lexer": "ipython3",
   "version": "3.12.0"
  }
 },
 "nbformat": 4,
 "nbformat_minor": 5
}
