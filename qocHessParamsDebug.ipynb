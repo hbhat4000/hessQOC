{
 "cells": [
  {
   "cell_type": "code",
   "execution_count": 1,
   "id": "27d04d0f-0c4b-4ad9-bc0b-6601bec71432",
   "metadata": {
    "tags": []
   },
   "outputs": [],
   "source": [
    "import os\n",
    "os.environ[\"XLA_PYTHON_CLIENT_PREALLOCATE\"]=\"false\"\n",
    "\n",
    "import jax\n",
    "jax.config.update(\"jax_enable_x64\", True)"
   ]
  },
  {
   "cell_type": "code",
   "execution_count": 2,
   "id": "adf9af5c-c953-4848-b5a8-7316dd0824e7",
   "metadata": {
    "tags": []
   },
   "outputs": [],
   "source": [
    "import jax.numpy as jnp\n",
    "from jax import jit, grad, jacobian, lax, vmap\n",
    "\n",
    "import numpy as np\n",
    "import matplotlib.pyplot as plt"
   ]
  },
  {
   "cell_type": "code",
   "execution_count": 3,
   "id": "598aa210-157a-48bb-886e-b8ed9d6ab861",
   "metadata": {
    "tags": []
   },
   "outputs": [],
   "source": [
    "import time\n",
    "import scipy.optimize as so"
   ]
  },
  {
   "cell_type": "code",
   "execution_count": 4,
   "id": "c6a929d3-bc28-43b6-9555-a914d36c8b30",
   "metadata": {
    "tags": []
   },
   "outputs": [
    {
     "name": "stdout",
     "output_type": "stream",
     "text": [
      "0.0\n",
      "0.0\n"
     ]
    }
   ],
   "source": [
    "n = 3\n",
    "dt = 1e-1\n",
    "numsteps = 100\n",
    "tvec = dt*jnp.arange(numsteps)\n",
    "rho = 1e6\n",
    "\n",
    "h0 = np.load('workingh0.npz')['h0']\n",
    "# m = jnp.array([[1.0,1.5,-1.0],[1.5,1.0,0.0],[-1.0,0.0,1.0]])\n",
    "\n",
    "# h0 = jnp.array(np.diag(np.sort(np.pi*np.random.uniform(size=n))))\n",
    "mraw = np.random.normal(size=n**2).reshape((n,n)) + 1j*np.random.normal(size=n**2).reshape((n,n))\n",
    "m = jnp.array(0.5*(mraw + mraw.conj().T))\n",
    "\n",
    "print(jnp.mean(jnp.abs(h0 - h0.T)))\n",
    "print(jnp.mean(jnp.abs(m - m.conj().T)))"
   ]
  },
  {
   "cell_type": "code",
   "execution_count": 5,
   "id": "4165ece3-bd2f-40fa-8c27-7c9105b732aa",
   "metadata": {
    "tags": []
   },
   "outputs": [],
   "source": [
    "# (d/dx) \\exp(-1j*dt*(h0 + x m))\n",
    "# where you pass in the eigenvectors and eigenvalues of (h0 + x m)\n",
    "def firstderiv(evecs, evals):\n",
    "    amat = evecs.conj().T @ (-1j*dt*m) @ evecs\n",
    "    dvec = -1j*dt*evals\n",
    "    dvec1, dvec2 = jnp.meshgrid(dvec, dvec)\n",
    "    mask = jnp.ones((n,n)) - jnp.eye(n)\n",
    "    numer = jnp.exp(dvec1) - jnp.exp(dvec2)\n",
    "    denom = (dvec1 - dvec2)*mask + jnp.eye(n)\n",
    "    derivmat = mask*numer/denom + jnp.diag(jnp.exp(dvec))\n",
    "    qmat = evecs @ (amat * derivmat) @ evecs.conj().T\n",
    "    return qmat"
   ]
  },
  {
   "cell_type": "code",
   "execution_count": 6,
   "id": "c6b2cecc-9342-4def-8c48-3f1795762089",
   "metadata": {
    "tags": []
   },
   "outputs": [],
   "source": [
    "mask = jnp.ones((n,n)) - jnp.eye(n)\n",
    "\n",
    "# (d^2/dx^2) \\exp(-1j*dt*(h0 + x m))\n",
    "# where you pass in the eigenvectors and eigenvalues of (h0 + x m)\n",
    "def secondderiv(evecs, rawevals):\n",
    "    evals = (-1j*dt)*rawevals\n",
    "    a = (evecs.conj().T @ m @ evecs) * (-1j*dt)\n",
    "    expevals = jnp.exp(evals)\n",
    "    evals1, evals2 = jnp.meshgrid(evals, evals, indexing='ij')\n",
    "    expevals1, expevals2 = jnp.meshgrid(expevals, expevals, indexing='ij')\n",
    "    # first D_{ii}=D_{kk} term\n",
    "    diagterm1 = expevals1*jnp.diag(jnp.diag(a*a))\n",
    "    # second D_{ii}=D_{kk} term\n",
    "    numer1 = -expevals1 + evals1*expevals1 - evals2*expevals1 + expevals2\n",
    "    denom1 = (evals1-evals2)**2 + jnp.eye(n)\n",
    "    maska = mask * a\n",
    "    diagterm2 = jnp.eye(n) * 2*((numer1/denom1 * maska) @ maska)\n",
    "    # first D_{ii}!=D_{kk} term\n",
    "    frac1 = numer1/denom1 * mask\n",
    "    term1 = frac1*2*(jnp.diag(a)*a).conj().T\n",
    "    # second D_{ii}!=D_{kk} term\n",
    "    numer2 = -expevals1 + evals1*expevals2 - evals2*expevals2 + expevals2\n",
    "    denom2 = (evals1-evals2)**2 + jnp.eye(n)\n",
    "    frac2 = numer2/denom2 * mask\n",
    "    term2 = frac2*2*(a*jnp.diag(a))\n",
    "    # third D_{ii}!=D_{kk} term\n",
    "    matij = mask*(1.0/((evals1-evals2) + jnp.eye(n)))\n",
    "    matind1a = (expevals1 * matij) * a\n",
    "    matind2a = (expevals2 * matij) * a\n",
    "    term3 = 2*mask*((matind2a) @ (matij*a))\n",
    "    term3 -= 2*matij*( matind1a @ maska )\n",
    "    term3 -= 2*matij*( maska @ matind2a ) \n",
    "    # put it all together\n",
    "    # udagru stands for \"U^{\\dagger} R U\"\n",
    "    udagru = term1 - term2 - term3 + diagterm1 + diagterm2\n",
    "    return evecs @ udagru @ evecs.conj().T"
   ]
  },
  {
   "cell_type": "code",
   "execution_count": 7,
   "id": "0176d3aa-118f-4fb0-900e-6d23337e54da",
   "metadata": {
    "tags": []
   },
   "outputs": [],
   "source": [
    "def gradal(l,expderiv,a,matexp):\n",
    "    ea = expderiv @ a\n",
    "    gradvecs = [(l==0)*ea + (l>0)*jnp.zeros(n, dtype=jnp.complex128)]\n",
    "    for k in range(1,numsteps):\n",
    "        thisvec = (k<l)*jnp.zeros(n, dtype=jnp.complex128)\n",
    "        thisvec += (k==l)*ea\n",
    "        thisvec += (k>l)*(matexp[k] @ gradvecs[k-1])\n",
    "        gradvecs.append( thisvec )\n",
    "    \n",
    "    # zeroblock = jnp.zeros((l, n), dtype=jnp.complex128)\n",
    "    return jnp.stack(gradvecs, axis=0)"
   ]
  },
  {
   "cell_type": "code",
   "execution_count": 8,
   "id": "608eb35c-93f4-4cc5-a48b-d8f5f14c74ef",
   "metadata": {
    "tags": []
   },
   "outputs": [],
   "source": [
    "def onehessrow(lamb,mu,ed,a,ga):\n",
    "    part1 = jnp.real(mu @ ed @ a)\n",
    "    part2 = jnp.real(lamb.T @ ed @ ga.T)\n",
    "    return part1 + part2"
   ]
  },
  {
   "cell_type": "code",
   "execution_count": 9,
   "id": "50f5a286-267d-4198-a306-b4a19e5b5697",
   "metadata": {},
   "outputs": [],
   "source": [
    "def onematexp(evecs,expevals):\n",
    "    return evecs @ jnp.diag(expevals) @ evecs.conj().T"
   ]
  },
  {
   "cell_type": "code",
   "execution_count": 10,
   "id": "5dd6bfea-a7fc-4078-9cb5-95770d56c3bf",
   "metadata": {
    "tags": []
   },
   "outputs": [],
   "source": [
    "manyeigh = vmap(jnp.linalg.eigh)\n",
    "vfd = vmap(firstderiv, in_axes=(0,0))\n",
    "vsd = vmap(secondderiv, in_axes=(0,0))\n",
    "vgradal = vmap(gradal, in_axes=(0,0,0,None))\n",
    "vohr = vmap(onehessrow)\n",
    "vonematexp = vmap(onematexp)"
   ]
  },
  {
   "cell_type": "code",
   "execution_count": 11,
   "id": "22830383-41e7-471d-814f-55fb9da43a5f",
   "metadata": {
    "tags": []
   },
   "outputs": [],
   "source": [
    "# number of parameters in the model\n",
    "numparams = 2\n",
    "\n",
    "def fmodel(theta):\n",
    "    return (theta[0]**2)*jnp.sin(tvec) + (theta[1]**3)*jnp.sin(2*tvec)\n",
    "\n",
    "# given initial condition and forcing f, return trajectory a\n",
    "def propSchro(theta, a0):\n",
    "    manyhams = jnp.expand_dims(h0,0) + jnp.expand_dims(fmodel(theta),(1,2))*jnp.expand_dims(m,0)\n",
    "    allevals, allevecs = manyeigh(manyhams)\n",
    "    expevals = jnp.exp(-1j*dt*allevals)\n",
    "    matexp = vonematexp(allevecs,expevals)\n",
    "    \n",
    "    a = jnp.concatenate([jnp.expand_dims(a0,0), jnp.zeros((numsteps, n), dtype=jnp.complex128)])\n",
    "    def amatbody(k, am):\n",
    "        return am.at[k+1].set( matexp[k] @ am[k] )\n",
    "    \n",
    "    # forward trajectory\n",
    "    a = lax.fori_loop(0, numsteps, amatbody, a)\n",
    "    return a\n",
    "\n",
    "# given forcing f, IC a0, FC alpha, return cost\n",
    "def cost(theta, a0, alpha):\n",
    "    a = propSchro(theta, a0)\n",
    "    resid = a[-1] - alpha\n",
    "    pen = jnp.real(jnp.sum(resid * resid.conj()))\n",
    "    return 0.5*jnp.sum(fmodel(theta)**2) + 0.5*rho*pen"
   ]
  },
  {
   "cell_type": "code",
   "execution_count": 12,
   "id": "b22f874e-e6fb-4cea-8ca9-ce1e5c1e2bd7",
   "metadata": {
    "tags": []
   },
   "outputs": [],
   "source": [
    "# given initial condition and forcing f, return trajectory a\n",
    "def propSchroRI(theta, a0):\n",
    "    manyhams = jnp.expand_dims(h0,0) + jnp.expand_dims(fmodel(theta),(1,2))*jnp.expand_dims(m,0)\n",
    "    allevals, allevecs = manyeigh(manyhams)\n",
    "    expevals = jnp.exp(-1j*dt*allevals)\n",
    "    matexp = vonematexp(allevecs,expevals)\n",
    "    \n",
    "    a = jnp.concatenate([jnp.expand_dims(a0,0), jnp.zeros((numsteps, n), dtype=jnp.complex128)])\n",
    "    def amatbody(k, am):\n",
    "        return am.at[k+1].set( matexp[k] @ am[k] )\n",
    "    \n",
    "    # forward trajectory\n",
    "    a = lax.fori_loop(0, numsteps, amatbody, a)\n",
    "    return jnp.stack([a.real, a.imag], axis=0)"
   ]
  },
  {
   "cell_type": "code",
   "execution_count": 13,
   "id": "df7fdea0-7f31-4806-8e1c-80d9d094de6f",
   "metadata": {
    "tags": []
   },
   "outputs": [],
   "source": [
    "gradf = jacobian(fmodel)"
   ]
  },
  {
   "cell_type": "code",
   "execution_count": 14,
   "id": "9ca18323-ec2d-4468-b974-549f3d7c491c",
   "metadata": {
    "tags": []
   },
   "outputs": [],
   "source": [
    "hessf = jacobian(gradf)"
   ]
  },
  {
   "cell_type": "code",
   "execution_count": 15,
   "id": "5dc7272f-4079-4898-a3d3-49c7d80e8a88",
   "metadata": {
    "tags": []
   },
   "outputs": [
    {
     "data": {
      "text/plain": [
       "Array(960020.86199771, dtype=float64)"
      ]
     },
     "execution_count": 15,
     "metadata": {},
     "output_type": "execute_result"
    }
   ],
   "source": [
    "mya0 = jnp.array([1.0,0.0,0.0])\n",
    "myalpha = jnp.array([0.0,0.0,1.0])\n",
    "mytheta = jnp.array([-0.23,0.46])\n",
    "cost(mytheta, mya0, myalpha)"
   ]
  },
  {
   "cell_type": "code",
   "execution_count": 16,
   "id": "33ebab6b-f2d4-4dea-bdee-1ff24c5b8ed6",
   "metadata": {
    "tags": []
   },
   "outputs": [
    {
     "data": {
      "text/plain": [
       "(100,)"
      ]
     },
     "execution_count": 16,
     "metadata": {},
     "output_type": "execute_result"
    }
   ],
   "source": [
    "fmodel(mytheta).shape"
   ]
  },
  {
   "cell_type": "code",
   "execution_count": 17,
   "id": "8e9eea0f-6cee-434b-b941-331b18c045c0",
   "metadata": {
    "tags": []
   },
   "outputs": [
    {
     "data": {
      "text/plain": [
       "(100, 2)"
      ]
     },
     "execution_count": 17,
     "metadata": {},
     "output_type": "execute_result"
    }
   ],
   "source": [
    "gf = gradf(mytheta)\n",
    "gf.shape"
   ]
  },
  {
   "cell_type": "code",
   "execution_count": 18,
   "id": "04d29bfc-9020-4d1f-9c05-3ef803d638e4",
   "metadata": {
    "tags": []
   },
   "outputs": [
    {
     "data": {
      "text/plain": [
       "(100, 2, 2)"
      ]
     },
     "execution_count": 18,
     "metadata": {},
     "output_type": "execute_result"
    }
   ],
   "source": [
    "hessf(mytheta).shape"
   ]
  },
  {
   "cell_type": "code",
   "execution_count": 19,
   "id": "8042698e-d025-4594-9c66-e53349bee096",
   "metadata": {
    "tags": []
   },
   "outputs": [
    {
     "data": {
      "text/plain": [
       "Array([-1.1203515 ,  2.97886946], dtype=float64)"
      ]
     },
     "execution_count": 19,
     "metadata": {},
     "output_type": "execute_result"
    }
   ],
   "source": [
    "fmodel(mytheta) @ gradf(mytheta)"
   ]
  },
  {
   "cell_type": "code",
   "execution_count": 20,
   "id": "bac87bdb-5978-4805-b8a3-1bfcc80c5876",
   "metadata": {
    "tags": []
   },
   "outputs": [
    {
     "data": {
      "text/plain": [
       "Array([-783881.76075804, -459071.90339994], dtype=float64)"
      ]
     },
     "execution_count": 20,
     "metadata": {},
     "output_type": "execute_result"
    }
   ],
   "source": [
    "grad(cost)(mytheta, mya0, myalpha)"
   ]
  },
  {
   "cell_type": "code",
   "execution_count": 21,
   "id": "44f6217f-9502-49b0-b4c3-00dfe2666eb8",
   "metadata": {
    "tags": []
   },
   "outputs": [
    {
     "data": {
      "text/plain": [
       "Array([[6863525.62905406, -997800.66678546],\n",
       "       [-997800.66678546, -348227.35469219]], dtype=float64)"
      ]
     },
     "execution_count": 21,
     "metadata": {},
     "output_type": "execute_result"
    }
   ],
   "source": [
    "jacobian(grad(cost))(mytheta, mya0, myalpha)"
   ]
  },
  {
   "cell_type": "code",
   "execution_count": 22,
   "id": "c694eb86-6a9b-4928-83d0-ebc2bffa49d4",
   "metadata": {
    "tags": []
   },
   "outputs": [
    {
     "data": {
      "text/plain": [
       "Array([[14.93844387,  0.2438726 ],\n",
       "       [ 0.2438726 , 32.56192035]], dtype=float64)"
      ]
     },
     "execution_count": 22,
     "metadata": {},
     "output_type": "execute_result"
    }
   ],
   "source": [
    "jnp.einsum('ai,aj->ij',gf,gf) + jnp.einsum('a,aij->ij',fmodel(mytheta),hessf(mytheta))"
   ]
  },
  {
   "cell_type": "code",
   "execution_count": 23,
   "id": "a90b6562-ba20-4a80-b7f6-4010bab6376f",
   "metadata": {
    "tags": []
   },
   "outputs": [],
   "source": [
    "# adjoint method\n",
    "def adjgrad(theta, a0, alpha):\n",
    "    f = fmodel(mytheta)\n",
    "    manyhams = jnp.expand_dims(h0,0) + jnp.expand_dims(f,(1,2))*jnp.expand_dims(m,0)\n",
    "    allevals, allevecs = manyeigh(manyhams)\n",
    "    expevals = jnp.exp(-1j*dt*allevals)\n",
    "    matexp = vonematexp(allevecs,expevals)\n",
    "    \n",
    "    a = jnp.concatenate([jnp.expand_dims(a0,0), jnp.zeros((numsteps, n), dtype=jnp.complex128)])\n",
    "    def amatbody(k, am):\n",
    "        return am.at[k+1].set( matexp[k] @ am[k] )\n",
    "    \n",
    "    # forward trajectory\n",
    "    a = lax.fori_loop(0, numsteps, amatbody, a)\n",
    "    \n",
    "    # initialize lambda\n",
    "    resid = a[-1] - alpha\n",
    "    \n",
    "    # we are storing \"lambda conjugate\" throughout this calculation\n",
    "    alllamb = jnp.concatenate([jnp.expand_dims(rho*resid.conj(),0), jnp.zeros((numsteps, n), dtype=jnp.complex128)])\n",
    "    def lambbody(i, al):\n",
    "        k = (numsteps-1) - i\n",
    "        return al.at[i+1].set( al[i] @ matexp[k] )\n",
    "    \n",
    "    # backward trajectory\n",
    "    alllamb = lax.fori_loop(0, numsteps, lambbody, alllamb)\n",
    "    alllamb = jnp.flipud(alllamb)\n",
    "    \n",
    "    # first critical calculation\n",
    "    allexpderivs = vfd(allevecs, allevals)\n",
    "    \n",
    "    # output gradient we want\n",
    "    gf = gradf(mytheta)\n",
    "    ourgrad = jnp.einsum('ai,aij,al,aj->l',alllamb[1:],allexpderivs,gf,a[:-1])\n",
    "    thegrad = f @ gf + jnp.real(ourgrad)\n",
    "    \n",
    "    return thegrad"
   ]
  },
  {
   "cell_type": "code",
   "execution_count": 24,
   "id": "69e49702-2c46-4528-bdc2-38d379b5c346",
   "metadata": {
    "tags": []
   },
   "outputs": [
    {
     "data": {
      "text/plain": [
       "Array([5.82076609e-10, 5.82076609e-11], dtype=float64)"
      ]
     },
     "execution_count": 24,
     "metadata": {},
     "output_type": "execute_result"
    }
   ],
   "source": [
    "adjgrad(mytheta, mya0, myalpha) - grad(cost)(mytheta, mya0, myalpha)"
   ]
  },
  {
   "cell_type": "code",
   "execution_count": 25,
   "id": "6580ed8a-7fba-4490-9c15-c81f8931c280",
   "metadata": {
    "tags": []
   },
   "outputs": [],
   "source": [
    "# second-order adjoint method\n",
    "def adjhess(theta, a0, alpha):\n",
    "    f = fmodel(mytheta)\n",
    "    gf = gradf(mytheta)\n",
    "    hf = hessf(mytheta)\n",
    "    manyhams = jnp.expand_dims(h0,0) + jnp.expand_dims(f,(1,2))*jnp.expand_dims(m,0)\n",
    "    allevals, allevecs = manyeigh(manyhams)\n",
    "    expevals = jnp.exp(-1j*dt*allevals)\n",
    "    matexp = vonematexp(allevecs,expevals)\n",
    "\n",
    "    a = jnp.concatenate([jnp.expand_dims(a0,0), jnp.zeros((numsteps, n), dtype=jnp.complex128)])\n",
    "    def amatbody(k, am):\n",
    "        return am.at[k+1].set( matexp[k] @ am[k] )\n",
    "    \n",
    "    # forward trajectory\n",
    "    a = lax.fori_loop(0, numsteps, amatbody, a)\n",
    "    \n",
    "    # initialize lambda\n",
    "    resid = a[-1] - alpha\n",
    "    \n",
    "    # we are storing \"lambda conjugate\" throughout this calculation\n",
    "    alllamb = jnp.concatenate([jnp.expand_dims(rho*resid.conj(),0), jnp.zeros((numsteps, n), dtype=jnp.complex128)])\n",
    "    def lambbody(i, al):\n",
    "        k = (numsteps-1) - i\n",
    "        return al.at[i+1].set( al[i] @ matexp[k] )\n",
    "    \n",
    "    # backward trajectory\n",
    "    alllamb = lax.fori_loop(0, numsteps, lambbody, alllamb)\n",
    "    alllamb = jnp.flipud(alllamb)\n",
    "    \n",
    "    # first critical calculation\n",
    "    allexpderivs = vfd(allevecs, allevals)\n",
    "    \n",
    "    # compute gradient of a w.r.t. f\n",
    "    # grada tensor stores the gradient of the n-dimensional vector a[k] with respect to f[l]\n",
    "    lvec = jnp.arange(numsteps,dtype=jnp.int16)\n",
    "    grada = vgradal(lvec, allexpderivs, a[:-1], matexp)\n",
    "    grada = jnp.transpose(grada,(1,0,2))\n",
    "    grada = jnp.einsum('ijk,jl->ilk',grada,gf)\n",
    "    \n",
    "    # create and propagate mu\n",
    "    # as before, let us store and propagate \"mu conjugate\"\n",
    "    allmu0 = rho*grada[numsteps-1,:,:].conj()\n",
    "    allmu = jnp.concatenate([jnp.expand_dims(allmu0,0),\n",
    "                             jnp.zeros((numsteps, numparams, n), dtype=jnp.complex128)])\n",
    "    # allprevmu2 = jnp.flipud(jnp.outer(jnp.ones(n),jnp.eye(numsteps)).T.reshape((numsteps,numsteps,n)))\n",
    "    def mubody(kk, amu):\n",
    "        k = (numsteps-1) - kk\n",
    "        prevmu1 = amu[kk] @ matexp[k]\n",
    "        prevmu2 = jnp.outer(gf[k],alllamb[k+1].T @ allexpderivs[k])\n",
    "        return amu.at[kk+1].set( prevmu1+prevmu2 )\n",
    "\n",
    "    # backward trajectory\n",
    "    allmu = lax.fori_loop(0, numsteps, mubody, allmu)\n",
    "    allmu = jnp.flipud(allmu)\n",
    "    print(allmu.shape)\n",
    "        \n",
    "    # second critical calculation\n",
    "    allexpderivs2 = vsd(allevecs, allevals)\n",
    "    \n",
    "#     # compute Hessian\n",
    "    gradapad = jnp.concatenate([jnp.zeros((1,numparams,n),dtype=jnp.complex128), grada[:-1,:,:]])\n",
    "    # pcc = vohr(alllamb[1:],allmu[1:],allexpderivs,allexpderivs2,gf,hf,a[:-1],gradapad)\n",
    "    # j -> numsteps\n",
    "    # l -> numparams\n",
    "    # k -> n\n",
    "    term1 = jnp.einsum('jlk,jka,jm,ja->lm',allmu[1:],allexpderivs,gf,a[:-1])\n",
    "    term2a = jnp.einsum('jk,jka,jlm,ja->lm',alllamb[1:],allexpderivs,hf,a[:-1])\n",
    "    term2b = jnp.einsum('jk,jka,jl,jm,ja->lm',alllamb[1:],allexpderivs2,gf,gf,a[:-1])\n",
    "    term3 = jnp.einsum('jk,jka,jm,jla->lm',alllamb[1:],allexpderivs,gf,gradapad)\n",
    "    pcc = term1 + term2a + term2b + term3\n",
    "    hcc = jnp.einsum('ai,aj->ij',gf,gf) + jnp.einsum('a,aij->ij',f,hf)\n",
    "    thehess = hcc + jnp.real(pcc)\n",
    "    \n",
    "    return thehess"
   ]
  },
  {
   "cell_type": "code",
   "execution_count": 26,
   "id": "53c70f59-7fd5-4b3c-88ed-adbcbdab781c",
   "metadata": {
    "tags": []
   },
   "outputs": [
    {
     "name": "stdout",
     "output_type": "stream",
     "text": [
      "(101, 2, 3)\n",
      "[[6863525.62905406 -997800.66678546]\n",
      " [-997800.66678546 -348227.35469219]]\n",
      "[[6863525.62905406 -997800.66678546]\n",
      " [-997800.66678546 -348227.35469219]]\n"
     ]
    }
   ],
   "source": [
    "myhess = adjhess(mytheta, mya0, myalpha)\n",
    "print(myhess)\n",
    "print(jacobian(grad(cost))(mytheta, mya0, myalpha))"
   ]
  },
  {
   "cell_type": "code",
   "execution_count": 29,
   "id": "036f950b-0745-47f1-bbdd-2ab72f45a4eb",
   "metadata": {
    "tags": []
   },
   "outputs": [
    {
     "name": "stdout",
     "output_type": "stream",
     "text": [
      "3.899913281202316e-09\n"
     ]
    }
   ],
   "source": [
    "print(jnp.mean(jnp.abs(myhess - jacobian(grad(cost))(mytheta, mya0, myalpha))))"
   ]
  },
  {
   "cell_type": "code",
   "execution_count": 82,
   "id": "1199bfe0-2d89-47a5-ba6e-d1c6f026d2c3",
   "metadata": {
    "tags": []
   },
   "outputs": [],
   "source": [
    "jcost = jit(cost)\n",
    "jadjgrad = jit(adjgrad)\n",
    "jadjhess = jit(adjhess)"
   ]
  },
  {
   "cell_type": "code",
   "execution_count": 83,
   "id": "65f611e6-345d-4326-b8a2-0ed493eae5b6",
   "metadata": {
    "tags": []
   },
   "outputs": [],
   "source": [
    "# mya0 = jnp.eye(n)[0]\n",
    "# myalpha = jnp.array([jnp.sqrt(0.0),0,jnp.sqrt(1.0)])\n",
    "# myalpha = jnp.abs(jnp.array(np.random.normal(size=n)))\n",
    "# myalpha /= jnp.linalg.norm(myalpha)"
   ]
  },
  {
   "cell_type": "code",
   "execution_count": 84,
   "id": "3712675f-29af-4dfd-a179-632f7245d3be",
   "metadata": {
    "tags": []
   },
   "outputs": [],
   "source": [
    "ftest = jnp.array(np.random.normal(size=numsteps))\n",
    "mycost = jcost(ftest, mya0, myalpha)\n",
    "mygrad = jadjgrad(ftest, mya0, myalpha)\n",
    "myhess = jadjhess(ftest, mya0, myalpha)"
   ]
  },
  {
   "cell_type": "code",
   "execution_count": 37,
   "id": "0ad7d2a1-3848-4452-a8ed-ca4511178b04",
   "metadata": {
    "tags": []
   },
   "outputs": [],
   "source": [
    "# gradcost = grad(cost)\n",
    "# jgradcost = jit(gradcost)\n",
    "# jaxgrad = jgradcost(ftest, mya0, myalpha)\n",
    "\n",
    "# numruns = 100\n",
    "# mytimes = np.zeros(numruns)\n",
    "# jaxtimes = np.zeros(numruns)\n",
    "\n",
    "# for j in range(numruns):\n",
    "#     start = time.time()\n",
    "#     myhess = jadjgrad(ftest, mya0, myalpha)\n",
    "#     end = time.time()\n",
    "#     mytimes[j] = end-start\n",
    "\n",
    "# for j in range(numruns):\n",
    "#     start = time.time()\n",
    "#     myhess = jgradcost(ftest, mya0, myalpha)\n",
    "#     end = time.time()\n",
    "#     jaxtimes[j] = end-start\n",
    "\n",
    "# print(np.mean(mytimes))\n",
    "# print(np.mean(jaxtimes))\n",
    "# print(np.mean(jaxtimes)/np.mean(mytimes))\n",
    "\n",
    "# hesscost = jacobian(gradcost)\n",
    "# jhesscost = jit(hesscost)\n",
    "# jaxhess = jhesscost(ftest, mya0, myalpha)\n",
    "\n",
    "# numruns = 100\n",
    "# mytimes = np.zeros(numruns)\n",
    "# jaxtimes = np.zeros(numruns)\n",
    "\n",
    "# for j in range(numruns):\n",
    "#     start = time.time()\n",
    "#     myhess = jadjhess(ftest, mya0, myalpha)\n",
    "#     end = time.time()\n",
    "#     mytimes[j] = end-start\n",
    "\n",
    "# for j in range(numruns):\n",
    "#     start = time.time()\n",
    "#     myhess = jhesscost(ftest, mya0, myalpha)\n",
    "#     end = time.time()\n",
    "#     jaxtimes[j] = end-start\n",
    "\n",
    "# print(np.mean(mytimes))\n",
    "# print(np.mean(jaxtimes))\n",
    "# print(np.mean(jaxtimes)/np.mean(mytimes))"
   ]
  },
  {
   "cell_type": "code",
   "execution_count": 38,
   "id": "cf4f6647-dbc1-4905-80b5-170ff461e328",
   "metadata": {
    "tags": []
   },
   "outputs": [],
   "source": [
    "# # simple finite-difference gradient checker\n",
    "# def fdgrad(kk, a0, alpha, myeps=1e-6):\n",
    "#     pertvec = jnp.eye(numsteps)[kk]\n",
    "#     cplus = cost( ftest + myeps*pertvec, a0, alpha )\n",
    "#     cminus = cost( ftest - myeps*pertvec, a0, alpha )\n",
    "#     return (cplus - cminus)/(2*myeps)\n",
    "\n",
    "# # simple finite-difference gradient checker\n",
    "# def fdhess(kk, a0, alpha, myeps=1e-6):\n",
    "#     pertvec = jnp.eye(numsteps)[kk]\n",
    "#     cplus = gradcost( ftest + myeps*pertvec, a0, alpha )\n",
    "#     cminus = gradcost( ftest - myeps*pertvec, a0, alpha )\n",
    "#     return (cplus - cminus)/(2*myeps)\n",
    "\n",
    "# lvec = jnp.arange(numsteps)\n",
    "# vfdgrad = vmap(fdgrad, in_axes=(0,None,None))\n",
    "# myfdgrad = vfdgrad(lvec, mya0, myalpha)\n",
    "# vfdhess = vmap(fdhess, in_axes=(0,None,None))\n",
    "# myfdhess = vfdhess(lvec, mya0, myalpha)"
   ]
  },
  {
   "cell_type": "code",
   "execution_count": 39,
   "id": "33f1e8e6-de8c-4683-93b4-e05d2b31e1a7",
   "metadata": {
    "tags": []
   },
   "outputs": [],
   "source": [
    "def obj(x):\n",
    "    jx = jnp.array(x)\n",
    "    return jcost(jx,mya0,myalpha).item()"
   ]
  },
  {
   "cell_type": "code",
   "execution_count": 40,
   "id": "a1c82073-491a-4d84-b58a-60172f72232d",
   "metadata": {
    "tags": []
   },
   "outputs": [],
   "source": [
    "def gradobj(x):\n",
    "    jx = jnp.array(x)\n",
    "    return np.array(jadjgrad(jx,mya0,myalpha))"
   ]
  },
  {
   "cell_type": "code",
   "execution_count": 41,
   "id": "5ba2cd9e-3c17-473f-a663-8da797852cf8",
   "metadata": {
    "tags": []
   },
   "outputs": [],
   "source": [
    "def hessobj(x):\n",
    "    jx = jnp.array(x)\n",
    "    return np.array(jadjhess(jx,mya0,myalpha))"
   ]
  },
  {
   "cell_type": "code",
   "execution_count": 62,
   "id": "b5d10228-6a22-41c5-a6c8-2e9b9876cdbc",
   "metadata": {
    "tags": []
   },
   "outputs": [
    {
     "name": "stdout",
     "output_type": "stream",
     "text": [
      "`xtol` termination condition is satisfied.\n",
      "Number of iterations: 814, function evaluations: 805, CG iterations: 4635, optimality: 3.16e-07, constraint violation: 0.00e+00, execution time:  5.9 s.\n",
      "5.898776054382324\n",
      "1.5475761199054917e-06\n",
      "3.0252446571973303e-06\n"
     ]
    }
   ],
   "source": [
    "start = time.time()\n",
    "xstar = so.minimize(obj, x0=ftest, method='trust-constr', jac=gradobj, hess=hessobj,\n",
    "                    options={'gtol':1e-16,'xtol':1e-16,'verbose':1})\n",
    "end = time.time()\n",
    "print(end-start)\n",
    "\n",
    "print(np.linalg.norm(gradobj(xstar.x)))\n",
    "print(obj(xstar.x)/obj(ftest))"
   ]
  },
  {
   "cell_type": "code",
   "execution_count": 68,
   "id": "3f953b85-b492-453a-be49-d986f76dbddf",
   "metadata": {
    "tags": []
   },
   "outputs": [
    {
     "data": {
      "text/plain": [
       "10.69367504119873"
      ]
     },
     "execution_count": 68,
     "metadata": {},
     "output_type": "execute_result"
    }
   ],
   "source": [
    "xstar.execution_time"
   ]
  },
  {
   "cell_type": "code",
   "execution_count": 63,
   "id": "2d7c0a8a-12f1-4569-af4f-99a62f80cb03",
   "metadata": {
    "tags": []
   },
   "outputs": [
    {
     "name": "stdout",
     "output_type": "stream",
     "text": [
      "`xtol` termination condition is satisfied.\n",
      "Number of iterations: 1637, function evaluations: 1637, CG iterations: 37250, optimality: 4.03e-06, constraint violation: 0.00e+00, execution time: 1.1e+01 s.\n",
      "10.698745965957642\n",
      "1.9054780629711115e-05\n",
      "3.0252446573652207e-06\n"
     ]
    }
   ],
   "source": [
    "start = time.time()\n",
    "xstar = so.minimize(obj, x0=ftest, method='trust-constr', jac=gradobj,\n",
    "                    options={'gtol':1e-16,'xtol':1e-16,'maxiter':10000,'verbose':1})\n",
    "end = time.time()\n",
    "print(end-start)\n",
    "\n",
    "print(np.linalg.norm(gradobj(xstar.x)))\n",
    "print(obj(xstar.x)/obj(ftest))"
   ]
  },
  {
   "cell_type": "code",
   "execution_count": 58,
   "id": "faeece7b-ecad-4dc0-89b1-9377e9ceb492",
   "metadata": {
    "tags": []
   },
   "outputs": [
    {
     "data": {
      "text/plain": [
       "3.0252446573652207e-06"
      ]
     },
     "execution_count": 58,
     "metadata": {},
     "output_type": "execute_result"
    }
   ],
   "source": [
    "obj(xstar.x)/obj(ftest)"
   ]
  },
  {
   "cell_type": "code",
   "execution_count": 50,
   "id": "bbde88eb-de4b-4db6-bc41-d7a44d130771",
   "metadata": {
    "tags": []
   },
   "outputs": [
    {
     "data": {
      "text/plain": [
       "Array(2.03566045e-11, dtype=float64)"
      ]
     },
     "execution_count": 50,
     "metadata": {},
     "output_type": "execute_result"
    }
   ],
   "source": [
    "0.5*jnp.sum(jnp.abs(propSchro(xstar.x,mya0)[-1] - myalpha)**2)"
   ]
  },
  {
   "cell_type": "code",
   "execution_count": 44,
   "id": "e2f1c827-3c42-4c19-b139-9d2fb201d3ae",
   "metadata": {
    "tags": []
   },
   "outputs": [
    {
     "data": {
      "text/plain": [
       "Array([0.30359777, 0.07117296, 0.62522927], dtype=float64)"
      ]
     },
     "execution_count": 44,
     "metadata": {},
     "output_type": "execute_result"
    }
   ],
   "source": [
    "myalpha**2"
   ]
  },
  {
   "cell_type": "code",
   "execution_count": 45,
   "id": "d4c4c7d7-000f-4c23-9135-1c482d4dd88c",
   "metadata": {
    "tags": []
   },
   "outputs": [
    {
     "data": {
      "image/png": "[encoded data removed]",
      "text/plain": [
       "<Figure size 640x480 with 1 Axes>"
      ]
     },
     "metadata": {},
     "output_type": "display_data"
    }
   ],
   "source": [
    "plt.plot(xstar.x)\n",
    "plt.show()"
   ]
  },
  {
   "cell_type": "code",
   "execution_count": 25,
   "id": "c275be40-50d2-4c70-902d-b72c708d043a",
   "metadata": {},
   "outputs": [
    {
     "data": {
      "text/plain": [
       "          message: The maximum number of function evaluations is exceeded.\n",
       "          success: False\n",
       "           status: 0\n",
       "              fun: 0.4024069677864479\n",
       "                x: [ 5.708e-02  5.784e-02 ...  3.082e-02  2.535e-02]\n",
       "              nit: 1000\n",
       "             nfev: 1000\n",
       "             njev: 656\n",
       "             nhev: 656\n",
       "         cg_niter: 4816\n",
       "     cg_stop_cond: 4\n",
       "             grad: [-1.418e-03  1.562e-04 ...  4.161e-04  3.633e-04]\n",
       "  lagrangian_grad: [-1.418e-03  1.562e-04 ...  4.161e-04  3.633e-04]\n",
       "           constr: []\n",
       "              jac: []\n",
       "      constr_nfev: []\n",
       "      constr_njev: []\n",
       "      constr_nhev: []\n",
       "                v: []\n",
       "           method: equality_constrained_sqp\n",
       "       optimality: 0.011475959038518332\n",
       " constr_violation: 0\n",
       "   execution_time: 107.94629120826721\n",
       "        tr_radius: 0.002880982400880797\n",
       "   constr_penalty: 1.0\n",
       "            niter: 1000"
      ]
     },
     "execution_count": 25,
     "metadata": {},
     "output_type": "execute_result"
    }
   ],
   "source": [
    "xstar"
   ]
  },
  {
   "cell_type": "code",
   "execution_count": null,
   "id": "e4c485a9-9543-46cb-8c90-c61a179aa4f8",
   "metadata": {},
   "outputs": [],
   "source": []
  }
 ],
 "metadata": {
  "kernelspec": {
   "display_name": "jax2024",
   "language": "python",
   "name": "jax2024"
  },
  "language_info": {
   "codemirror_mode": {
    "name": "ipython",
    "version": 3
   },
   "file_extension": ".py",
   "mimetype": "text/x-python",
   "name": "python",
   "nbconvert_exporter": "python",
   "pygments_lexer": "ipython3",
   "version": "3.12.0"
  }
 },
 "nbformat": 4,
 "nbformat_minor": 5
}
