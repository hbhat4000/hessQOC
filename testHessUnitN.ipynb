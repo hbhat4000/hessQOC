{
 "cells": [
  {
   "cell_type": "code",
   "execution_count": 1,
   "id": "e79eb24d-7d78-4dfb-a808-427ca75f13cb",
   "metadata": {},
   "outputs": [],
   "source": [
    "import os\n",
    "os.environ[\"XLA_PYTHON_CLIENT_PREALLOCATE\"]=\"false\"\n",
    "\n",
    "import jax\n",
    "jax.config.update(\"jax_enable_x64\", True)\n",
    "\n",
    "import jax.numpy as jnp\n",
    "from jax import jit, grad, jacobian, lax\n",
    "\n",
    "import numpy as np\n",
    "import matplotlib.pyplot as plt"
   ]
  },
  {
   "cell_type": "code",
   "execution_count": 2,
   "id": "c85a0138-a2d5-410d-af91-43db11149fa7",
   "metadata": {
    "tags": []
   },
   "outputs": [
    {
     "name": "stdout",
     "output_type": "stream",
     "text": [
      "0.0\n",
      "0.0\n"
     ]
    }
   ],
   "source": [
    "n = 3\n",
    "\n",
    "h0 = jnp.array(np.diag(np.sort(np.pi*np.random.uniform(size=n))))\n",
    "mraw = np.random.normal(size=n**2).reshape((n,n))\n",
    "m = jnp.array(0.5*(mraw + mraw.T))\n",
    "\n",
    "print(jnp.mean(jnp.abs(h0 - h0.T)))\n",
    "print(jnp.mean(jnp.abs(m - m.T)))"
   ]
  },
  {
   "cell_type": "code",
   "execution_count": 3,
   "id": "d843dd7f-2bc3-4a59-9b37-4eadb4e19bcc",
   "metadata": {
    "tags": []
   },
   "outputs": [],
   "source": [
    "z = h0 - 0.25*m\n",
    "evals, evecs = jnp.linalg.eigh(z)\n",
    "expevals = jnp.exp(evals)"
   ]
  },
  {
   "cell_type": "code",
   "execution_count": 4,
   "id": "2d677181-e6cd-4731-bee5-f06d688257b9",
   "metadata": {
    "tags": []
   },
   "outputs": [
    {
     "data": {
      "text/plain": [
       "Array(2.28527812e-15, dtype=float64)"
      ]
     },
     "execution_count": 4,
     "metadata": {},
     "output_type": "execute_result"
    }
   ],
   "source": [
    "jnp.linalg.norm(z - evecs @ jnp.diag(evals) @ evecs.conj().T)"
   ]
  },
  {
   "cell_type": "code",
   "execution_count": 5,
   "id": "f34a3555-b596-45a2-8c6d-48a312b0fcc1",
   "metadata": {
    "tags": []
   },
   "outputs": [
    {
     "data": {
      "text/plain": [
       "Array(1.27859491e-15, dtype=float64)"
      ]
     },
     "execution_count": 5,
     "metadata": {},
     "output_type": "execute_result"
    }
   ],
   "source": [
    "jnp.linalg.norm(evecs @ evecs.conj().T - jnp.eye(n))"
   ]
  },
  {
   "cell_type": "code",
   "execution_count": 6,
   "id": "9ccf1066-66b5-4298-b239-d793d6dea8fc",
   "metadata": {
    "tags": []
   },
   "outputs": [],
   "source": [
    "a = evecs.conj().T @ m @ evecs"
   ]
  },
  {
   "cell_type": "code",
   "execution_count": 7,
   "id": "123ec865-48a0-4a78-8c90-beb88016d44b",
   "metadata": {
    "tags": []
   },
   "outputs": [],
   "source": [
    "evals1, evals2 = jnp.meshgrid(evals, evals, indexing='ij')\n",
    "mask = jnp.ones((n,n)) - jnp.eye(n)\n",
    "expevals1, expevals2 = jnp.meshgrid(expevals, expevals, indexing='ij')"
   ]
  },
  {
   "cell_type": "code",
   "execution_count": 8,
   "id": "14a39afa-d5a2-46f9-a9f3-9e0bb93d3c80",
   "metadata": {
    "tags": []
   },
   "outputs": [
    {
     "name": "stdout",
     "output_type": "stream",
     "text": [
      "[[ 1.21999498  0.          0.        ]\n",
      " [ 0.          1.80893493  0.        ]\n",
      " [ 0.          0.         15.95829431]]\n"
     ]
    }
   ],
   "source": [
    "diagterm1 = expevals1*jnp.diag(jnp.diag(a*a))\n",
    "print(diagterm1)"
   ]
  },
  {
   "cell_type": "code",
   "execution_count": 9,
   "id": "464f1fb3-a07a-4f21-8fe9-b0507c6a44bb",
   "metadata": {
    "tags": []
   },
   "outputs": [
    {
     "name": "stdout",
     "output_type": "stream",
     "text": [
      "0.0\n"
     ]
    }
   ],
   "source": [
    "testmat3 = np.zeros((n,n))\n",
    "for i in range(3):\n",
    "    for k in range(3):\n",
    "        if i==k:\n",
    "            testmat3[i,k] = 0.5*expevals[i]*(a[i,i]*a[i,k])*2\n",
    "\n",
    "print(jnp.linalg.norm(diagterm1-testmat3))"
   ]
  },
  {
   "cell_type": "code",
   "execution_count": 10,
   "id": "bdb8cd79-1cf6-4ad0-b588-938a16e0d3f9",
   "metadata": {
    "tags": []
   },
   "outputs": [],
   "source": [
    "numer1 = -expevals1 + evals1*expevals1 - evals2*expevals1 + expevals2\n",
    "denom1 = (evals1-evals2)**2 * mask + jnp.eye(n)\n",
    "frac1 = numer1/denom1 * mask\n",
    "term1 = frac1*2*(jnp.diag(a)*a).T"
   ]
  },
  {
   "cell_type": "code",
   "execution_count": 12,
   "id": "fe6cba56-20e0-47c8-bda3-6db0f9437fd6",
   "metadata": {
    "tags": []
   },
   "outputs": [
    {
     "name": "stdout",
     "output_type": "stream",
     "text": [
      "4.577566798522237e-16\n"
     ]
    }
   ],
   "source": [
    "testmat = np.zeros((n,n))\n",
    "testmat2 = np.zeros((n,n))\n",
    "testmat3 = np.zeros((n,n))\n",
    "for i in range(3):\n",
    "    for k in range(3):\n",
    "        if i != k:\n",
    "            testmat[i,k] = (-expevals[i]+evals[i]*expevals[i]-evals[k]*expevals[i]+expevals[k])/(evals[i]-evals[k])**2\n",
    "        testmat2[i,k] = a[i,i]*a[i,k] + a[i,i]*a[i,k]\n",
    "        testmat3[i,k] = testmat[i,k] * testmat2[i,k]\n",
    "print(jnp.linalg.norm(term1-testmat3))"
   ]
  },
  {
   "cell_type": "code",
   "execution_count": 13,
   "id": "e3d937f1-bb82-4485-911f-044b65e3cf8e",
   "metadata": {
    "tags": []
   },
   "outputs": [],
   "source": [
    "numer2 = -expevals1 + evals1*expevals2 - evals2*expevals2 + expevals2\n",
    "denom2 = (evals1-evals2)**2 * mask + jnp.eye(n)\n",
    "frac2 = numer2/denom2 * mask\n",
    "term2 = frac2*2*(a*jnp.diag(a))"
   ]
  },
  {
   "cell_type": "code",
   "execution_count": 14,
   "id": "08ebb0e8-bbc3-41c5-aa7d-b97e12ab6d13",
   "metadata": {
    "tags": []
   },
   "outputs": [
    {
     "name": "stdout",
     "output_type": "stream",
     "text": [
      "0.0\n"
     ]
    }
   ],
   "source": [
    "testmat = np.zeros((n,n))\n",
    "testmat2 = np.zeros((n,n))\n",
    "testmat3 = np.zeros((n,n))\n",
    "for i in range(3):\n",
    "    for k in range(3):\n",
    "        if i != k:\n",
    "            testmat[i,k] = (-expevals[i]+evals[i]*expevals[k]-evals[k]*expevals[k]+expevals[k])/(evals[i]-evals[k])**2\n",
    "        testmat2[i,k] = a[i,k]*a[k,k] + a[i,k]*a[k,k]\n",
    "        testmat3[i,k] = testmat[i,k] * testmat2[i,k]\n",
    "print(jnp.linalg.norm(term2-testmat3))"
   ]
  },
  {
   "cell_type": "code",
   "execution_count": 15,
   "id": "a9d71228-8427-4948-9c37-d8c6e80ccb36",
   "metadata": {
    "tags": []
   },
   "outputs": [],
   "source": [
    "paren = 2*jnp.einsum('ij,jk->ijk',a,a)"
   ]
  },
  {
   "cell_type": "code",
   "execution_count": 47,
   "id": "c09896e5-e8cc-4e0e-a40a-e190ee775e05",
   "metadata": {
    "tags": []
   },
   "outputs": [
    {
     "name": "stdout",
     "output_type": "stream",
     "text": [
      "[[ 0.         -0.50614114 -0.94470172]\n",
      " [-0.50614114  0.         -0.34890753]\n",
      " [-0.94470172 -0.34890753  0.        ]]\n"
     ]
    }
   ],
   "source": [
    "evals1, evals2, evals3 = jnp.meshgrid(evals, evals, evals, indexing='ij')\n",
    "expevals1, expevals2, expevals3 = jnp.meshgrid(expevals, expevals, expevals, indexing='ij')\n",
    "\n",
    "numer3 = evals1*(expevals2-expevals3)-evals2*(expevals1-expevals3)+evals3*(expevals1-expevals2)\n",
    "\n",
    "mask = np.zeros((3,3,3))\n",
    "for i in range(3):\n",
    "    for j in range(3):\n",
    "        for k in range(3):\n",
    "            if i!=j and i!=k and j!=k:\n",
    "                mask[i,j,k] = 1\n",
    "\n",
    "mask = jnp.array(mask)\n",
    "# print(mask)\n",
    "\n",
    "denom3 = (evals1-evals2)*(evals1-evals3)*(evals2-evals3) + jnp.ones((3,3,3)) - mask\n",
    "\n",
    "term3 = jnp.sum( (numer3/denom3 * mask) * paren, axis=1 )\n",
    "print(term3)"
   ]
  },
  {
   "cell_type": "code",
   "execution_count": 60,
   "id": "6aae63cc-3708-4b27-8d7d-262b03243fda",
   "metadata": {
    "tags": []
   },
   "outputs": [
    {
     "name": "stdout",
     "output_type": "stream",
     "text": [
      "[[ 0.         -0.50614114 -0.94470172]\n",
      " [-0.50614114  0.         -0.34890753]\n",
      " [-0.94470172 -0.34890753  0.        ]]\n",
      "[[ 0.         -0.50614114 -0.94470172]\n",
      " [-0.50614114  0.         -0.34890753]\n",
      " [-0.94470172 -0.34890753  0.        ]]\n"
     ]
    }
   ],
   "source": [
    "evals1, evals2 = jnp.meshgrid(evals, evals, indexing='ij')\n",
    "expevals1, expevals2 = jnp.meshgrid(expevals, expevals, indexing='ij')\n",
    "mask = jnp.ones((n,n)) - jnp.eye(n)\n",
    "\n",
    "matij = mask*(1.0/((evals1-evals2) + jnp.eye(n)))\n",
    "matind1 = expevals1 * matij\n",
    "matind2 = expevals2 * matij\n",
    "\n",
    "testmatL = np.zeros((n,n))\n",
    "for i in range(n):\n",
    "    for j in range(n):\n",
    "        if i != j:\n",
    "            testmatL[i,j] = a[i,j]*expevals[i]/(evals[i]-evals[j])\n",
    "\n",
    "# print(testmatL)\n",
    "# print(matind2*a)\n",
    "\n",
    "testmatR = np.zeros((n,n))\n",
    "for j in range(n):\n",
    "    for k in range(n):\n",
    "        if j != k:\n",
    "            testmatR[j,k] = a[j,k]\n",
    "\n",
    "# print(testmatR)\n",
    "# print(matij*a)\n",
    "\n",
    "testmat = np.zeros((n,n))\n",
    "for i in range(n):\n",
    "    for k in range(n):\n",
    "        for j in range(n):\n",
    "            if i != k and j != i and j != k:\n",
    "                testmat[i,k] += (testmatL[i,j]*testmatR[j,k])/(evals[i]-evals[k])\n",
    "\n",
    "# print(testmat)\n",
    "# print(matij*( (matind1*a) @ (mask*a) ))\n",
    "\n",
    "\n",
    "term3new = 2*mask*((matind2*a) @ (matij*a))\n",
    "term3new -= 2*matij*( (matind1*a) @ (mask*a) )\n",
    "term3new -= 2*matij*( (mask*a) @ (matind2*a) ) \n",
    "\n",
    "print(term3new)\n",
    "print(term3)\n"
   ]
  },
  {
   "cell_type": "code",
   "execution_count": 17,
   "id": "6c7122d8-0cb3-4e7e-9a8d-72c9574b8583",
   "metadata": {},
   "outputs": [],
   "source": [
    "testmat3 = np.zeros((3,3))\n",
    "for i in range(3):\n",
    "    for j in range(3):\n",
    "        for k in range(3):\n",
    "            if i!=j and i!=k and j!=k:\n",
    "                fractermN = evals[i]*(expevals[j]-expevals[k])-evals[j]*(expevals[i]-expevals[k])+evals[k]*(expevals[i]-expevals[j])\n",
    "                fractermD = (evals[i]-evals[j])*(evals[i]-evals[k])*(evals[j]-evals[k])\n",
    "                fracterm = fractermN/fractermD\n",
    "                parenterm = a[i,j]*a[j,k]*2\n",
    "                testmat3[i,k] += fracterm*parenterm"
   ]
  },
  {
   "cell_type": "code",
   "execution_count": 18,
   "id": "936dca3a-7ba9-455f-b20e-44c020205a6a",
   "metadata": {
    "tags": []
   },
   "outputs": [
    {
     "name": "stdout",
     "output_type": "stream",
     "text": [
      "1.5700924586837752e-16\n"
     ]
    }
   ],
   "source": [
    "print(jnp.linalg.norm(term3-testmat3))"
   ]
  },
  {
   "cell_type": "code",
   "execution_count": 19,
   "id": "d8b03325-3c43-4009-b8d1-bcdc86365d4f",
   "metadata": {},
   "outputs": [
    {
     "name": "stdout",
     "output_type": "stream",
     "text": [
      "[[0.41328424 0.         0.        ]\n",
      " [0.         2.28269261 0.        ]\n",
      " [0.         0.         3.03765877]]\n"
     ]
    }
   ],
   "source": [
    "newmask = np.zeros((3,3,3))\n",
    "for i in range(3):\n",
    "    for j in range(3):\n",
    "        for k in range(3):\n",
    "            if i!=j and i==k:\n",
    "                newmask[i,j,k] = 1\n",
    "\n",
    "diagnumer2 = -expevals1 + evals1*expevals1 - evals2*expevals1 + expevals2\n",
    "diagdenom2 = (evals1-evals2)**2 + jnp.ones((3,3,3)) - newmask\n",
    "diagfrac2 = (diagnumer2/diagdenom2)*newmask\n",
    "diagterm2 = jnp.sum( diagfrac2*paren, axis=1 )\n",
    "print(diagterm2)"
   ]
  },
  {
   "cell_type": "code",
   "execution_count": 72,
   "id": "72a86a06-024b-409a-9018-a05be318d907",
   "metadata": {
    "tags": []
   },
   "outputs": [
    {
     "data": {
      "text/plain": [
       "Array([[ 0.41328424,  0.        , -0.        ],\n",
       "       [-0.        ,  2.28269261, -0.        ],\n",
       "       [ 0.        ,  0.        ,  3.03765877]], dtype=float64)"
      ]
     },
     "execution_count": 72,
     "metadata": {},
     "output_type": "execute_result"
    }
   ],
   "source": [
    "numer1 = -expevals1 + evals1*expevals1 - evals2*expevals1 + expevals2\n",
    "np.eye(n) * 2*((numer1/denom1 * a) @ ( a))"
   ]
  },
  {
   "cell_type": "code",
   "execution_count": 20,
   "id": "4688d413-124f-4512-ad7b-c88ea225b935",
   "metadata": {
    "tags": []
   },
   "outputs": [],
   "source": [
    "testmat3 = np.zeros((3,3))\n",
    "for i in range(3):\n",
    "    for j in range(3):\n",
    "        for k in range(3):\n",
    "            if i!=j and i==k:\n",
    "                fractermN = -expevals[i] + evals[i]*expevals[i] - evals[j]*expevals[i] + expevals[j]\n",
    "                fractermD = (evals[i]-evals[j])**2\n",
    "                fracterm = fractermN/fractermD\n",
    "                parenterm = 2*a[i,j]*a[j,k]\n",
    "                testmat3[i,k] += fracterm*parenterm"
   ]
  },
  {
   "cell_type": "code",
   "execution_count": 21,
   "id": "4bd29ba1-4d5f-4c71-a9b4-34087eea4083",
   "metadata": {
    "tags": []
   },
   "outputs": [
    {
     "name": "stdout",
     "output_type": "stream",
     "text": [
      "0.0\n"
     ]
    }
   ],
   "source": [
    "print(jnp.linalg.norm(diagterm2-testmat3))"
   ]
  },
  {
   "cell_type": "code",
   "execution_count": 22,
   "id": "0119c910-b449-4e2a-ab95-f7c5eb9e0492",
   "metadata": {
    "tags": []
   },
   "outputs": [
    {
     "name": "stdout",
     "output_type": "stream",
     "text": [
      "[[ 1.62698398  0.62982758 -1.28962078]\n",
      " [ 0.62982758  5.41068761 -5.11032187]\n",
      " [-1.28962078 -5.11032187 17.68318824]]\n"
     ]
    }
   ],
   "source": [
    "r = evecs @ (term1 - term2 - term3 + diagterm1 + diagterm2) @ evecs.conj().T\n",
    "print(r)"
   ]
  },
  {
   "cell_type": "code",
   "execution_count": null,
   "id": "ecc0fea6-e75a-43af-8ee0-cb536eb07864",
   "metadata": {},
   "outputs": [],
   "source": []
  }
 ],
 "metadata": {
  "kernelspec": {
   "display_name": "jax2024",
   "language": "python",
   "name": "jax2024"
  },
  "language_info": {
   "codemirror_mode": {
    "name": "ipython",
    "version": 3
   },
   "file_extension": ".py",
   "mimetype": "text/x-python",
   "name": "python",
   "nbconvert_exporter": "python",
   "pygments_lexer": "ipython3",
   "version": "3.12.0"
  }
 },
 "nbformat": 4,
 "nbformat_minor": 5
}
