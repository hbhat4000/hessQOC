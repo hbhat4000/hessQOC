{
 "cells": [
  {
   "cell_type": "code",
   "execution_count": 1,
   "id": "27d04d0f-0c4b-4ad9-bc0b-6601bec71432",
   "metadata": {
    "tags": []
   },
   "outputs": [],
   "source": [
    "import os\n",
    "os.environ[\"XLA_PYTHON_CLIENT_PREALLOCATE\"]=\"false\"\n",
    "\n",
    "import jax\n",
    "jax.config.update(\"jax_enable_x64\", True)"
   ]
  },
  {
   "cell_type": "code",
   "execution_count": 2,
   "id": "adf9af5c-c953-4848-b5a8-7316dd0824e7",
   "metadata": {
    "tags": []
   },
   "outputs": [],
   "source": [
    "import jax.numpy as jnp\n",
    "from jax import jit, grad, jacobian, lax\n",
    "\n",
    "import numpy as np\n",
    "import matplotlib.pyplot as plt"
   ]
  },
  {
   "cell_type": "code",
   "execution_count": 3,
   "id": "598aa210-157a-48bb-886e-b8ed9d6ab861",
   "metadata": {
    "tags": []
   },
   "outputs": [],
   "source": [
    "import time"
   ]
  },
  {
   "cell_type": "code",
   "execution_count": 4,
   "id": "c6a929d3-bc28-43b6-9555-a914d36c8b30",
   "metadata": {
    "tags": []
   },
   "outputs": [
    {
     "name": "stdout",
     "output_type": "stream",
     "text": [
      "0.0\n",
      "0.0\n"
     ]
    }
   ],
   "source": [
    "n = 3\n",
    "\n",
    "h0 = jnp.array(np.diag(np.sort(np.pi*np.random.uniform(size=n))))\n",
    "mraw = np.random.normal(size=n**2).reshape((n,n))\n",
    "m = jnp.array(0.5*(mraw + mraw.T))\n",
    "\n",
    "print(jnp.mean(jnp.abs(h0 - h0.T)))\n",
    "print(jnp.mean(jnp.abs(m - m.T)))"
   ]
  },
  {
   "cell_type": "code",
   "execution_count": 5,
   "id": "0b5a663a-699b-4319-9f69-807836e6a2d3",
   "metadata": {
    "tags": []
   },
   "outputs": [],
   "source": [
    "dt = 1e-3"
   ]
  },
  {
   "cell_type": "code",
   "execution_count": 6,
   "id": "66db9c94-601d-4b6c-ad02-d7a479a48428",
   "metadata": {
    "tags": []
   },
   "outputs": [],
   "source": [
    "numsteps = 100"
   ]
  },
  {
   "cell_type": "code",
   "execution_count": 7,
   "id": "df3e307d-624d-4c3f-a712-46a188e77aa4",
   "metadata": {
    "tags": []
   },
   "outputs": [],
   "source": [
    "# given initial condition and forcing f, return trajectory a\n",
    "def propSchro(f, a0):\n",
    "    a = [a0]\n",
    "    for k in range(numsteps):\n",
    "        thisham = h0 + f[k]*m\n",
    "        evals, evecs = jnp.linalg.eigh(thisham)\n",
    "        a.append( evecs @ jnp.diag(jnp.exp(-1j*dt*evals)) @ evecs.conj().T @ a[k] )\n",
    "    \n",
    "    a = jnp.stack(a, axis=0)\n",
    "    return a"
   ]
  },
  {
   "cell_type": "code",
   "execution_count": 8,
   "id": "1a6d8dd0-40ce-47d2-8418-7ffabcde9d88",
   "metadata": {
    "tags": []
   },
   "outputs": [],
   "source": [
    "# given initial condition and forcing f, return trajectory a\n",
    "def propSchroRI(f, a0):\n",
    "    a = [a0]\n",
    "    for k in range(numsteps):\n",
    "        thisham = h0 + f[k]*m\n",
    "        evals, evecs = jnp.linalg.eigh(thisham)\n",
    "        a.append( evecs @ jnp.diag(jnp.exp(-1j*dt*evals)) @ evecs.conj().T @ a[k] )\n",
    "    \n",
    "    a = jnp.stack(a, axis=0)\n",
    "    return jnp.stack([a.real, a.imag], axis=0)"
   ]
  },
  {
   "cell_type": "code",
   "execution_count": 9,
   "id": "41262916-60f1-4ed0-a5d0-b789032b4d0d",
   "metadata": {
    "tags": []
   },
   "outputs": [],
   "source": [
    "jaxgrada = jacobian(propSchroRI, 0)"
   ]
  },
  {
   "cell_type": "code",
   "execution_count": 10,
   "id": "7a4b4674-6362-4e57-9403-9c98c35ec444",
   "metadata": {
    "tags": []
   },
   "outputs": [],
   "source": [
    "# given forcing f, IC a0, FC alpha, return cost\n",
    "rho = 1\n",
    "def cost(f, a0, alpha):\n",
    "    a = propSchro(f, a0)\n",
    "    resid = a[-1] - alpha\n",
    "    pen = jnp.real(jnp.sum(resid * resid.conj()))\n",
    "    return 0.5*jnp.sum(f**2) + 0.5*rho*pen"
   ]
  },
  {
   "cell_type": "code",
   "execution_count": 11,
   "id": "af6002a0-bcfc-46da-be09-e3de2a29a08f",
   "metadata": {
    "tags": []
   },
   "outputs": [],
   "source": [
    "mya0 = jnp.eye(n)[0]\n",
    "myalpha = jnp.array(np.random.normal(size=n))"
   ]
  },
  {
   "cell_type": "code",
   "execution_count": 12,
   "id": "695a1980-ae06-4adc-b8e8-5e538f3cbe13",
   "metadata": {
    "tags": []
   },
   "outputs": [
    {
     "data": {
      "text/plain": [
       "Array(54.44616496, dtype=float64)"
      ]
     },
     "execution_count": 12,
     "metadata": {},
     "output_type": "execute_result"
    }
   ],
   "source": [
    "a = propSchro( jnp.array(np.random.normal(size=numsteps)), mya0 )\n",
    "cost( jnp.array(np.random.normal(size=numsteps)), mya0, myalpha )"
   ]
  },
  {
   "cell_type": "code",
   "execution_count": 13,
   "id": "ab2fc9e7-ffc7-4062-bc49-1ae5fc921c95",
   "metadata": {
    "tags": []
   },
   "outputs": [],
   "source": [
    "gradcost = grad(cost, 0)"
   ]
  },
  {
   "cell_type": "code",
   "execution_count": 14,
   "id": "c4355251-80dc-41c0-88dd-9ec9b713914e",
   "metadata": {
    "tags": []
   },
   "outputs": [],
   "source": [
    "hesscost = jacobian(gradcost, 0)"
   ]
  },
  {
   "cell_type": "code",
   "execution_count": 15,
   "id": "4165ece3-bd2f-40fa-8c27-7c9105b732aa",
   "metadata": {
    "tags": []
   },
   "outputs": [],
   "source": [
    "# (d/dx) \\exp(-1j*dt*(h0 + x m))\n",
    "# where you pass in the eigenvectors and eigenvalues of (h0 + x m)\n",
    "def firstderiv(evecs, evals):\n",
    "    amat = evecs.conj().T @ (-1j*dt*m) @ evecs\n",
    "    dvec = -1j*dt*evals\n",
    "    dvec1, dvec2 = jnp.meshgrid(dvec, dvec)\n",
    "    mask = jnp.ones((n,n)) - jnp.eye(n)\n",
    "    numer = jnp.exp(dvec1) - jnp.exp(dvec2)\n",
    "    denom = (dvec1 - dvec2)*mask + jnp.eye(n)\n",
    "    derivmat = mask*numer/denom + jnp.diag(jnp.exp(dvec))\n",
    "    qmat = evecs @ (amat * derivmat) @ evecs.conj().T\n",
    "    return qmat"
   ]
  },
  {
   "cell_type": "code",
   "execution_count": 16,
   "id": "fd948038-8bff-4ee8-84ba-c1e9c3cc3faa",
   "metadata": {
    "tags": []
   },
   "outputs": [],
   "source": [
    "# adjoint method\n",
    "rho = 1\n",
    "def adjgrad(f, a0, alpha):\n",
    "    a = [a0]\n",
    "    allevals = []\n",
    "    allevecs = []\n",
    "    for k in range(numsteps):\n",
    "        thisham = h0 + f[k]*m\n",
    "        evals, evecs = jnp.linalg.eigh(thisham)\n",
    "        allevals.append( evals )\n",
    "        allevecs.append( evecs )\n",
    "        a.append( evecs @ jnp.diag(jnp.exp(-1j*dt*evals)) @ evecs.conj().T @ a[k] )\n",
    "    \n",
    "    # forward trajectory\n",
    "    a = jnp.stack(a, axis=0)\n",
    "    \n",
    "    # initialize lambda\n",
    "    resid = a[-1] - alpha\n",
    "    # we are storing \"lambda conjugate\" throughout this calculation\n",
    "    alllamb = [rho*resid.conj()]\n",
    "    for k in range(numsteps-1,-1,-1):\n",
    "        kk = (numsteps-1) - k\n",
    "        alllamb.append( alllamb[kk] @ allevecs[k] @ jnp.diag(jnp.exp(-1j*dt*allevals[k])) @ allevecs[k].conj().T )\n",
    "    \n",
    "    # backward trajectory\n",
    "    alllamb = jnp.flipud(jnp.stack(alllamb, axis=0))\n",
    "    \n",
    "    # set up mask\n",
    "    mask = jnp.ones((n, n)) - jnp.eye(n)\n",
    "    \n",
    "    # first critical calculation\n",
    "    allexpderivs = []\n",
    "    for k in range(numsteps):\n",
    "        allexpderivs.append( firstderiv(allevecs[k], allevals[k]) )\n",
    "    \n",
    "    # output gradient we want\n",
    "    ourgrad = []\n",
    "    for k in range(numsteps):\n",
    "        # because we have stored \"lambda conjugate\", we just need transpose here to get the dagger\n",
    "        ourgrad.append( alllamb[k+1].T @ allexpderivs[k] @ a[k] )\n",
    "    \n",
    "    return f + jnp.real(jnp.array(ourgrad))\n",
    "\n",
    "# simple finite-difference gradient checker\n",
    "def fdgrad(kk, a0, alpha, myeps=1e-6):\n",
    "    pertvec = jnp.eye(numsteps)[kk]\n",
    "    cplus = cost( ftest + myeps*pertvec, a0, alpha )\n",
    "    cminus = cost( ftest - myeps*pertvec, a0, alpha )\n",
    "    return (cplus - cminus)/(2*myeps)"
   ]
  },
  {
   "cell_type": "code",
   "execution_count": 17,
   "id": "ceac161c-36d3-42dc-8bdd-ff2dd7d4a30a",
   "metadata": {
    "tags": []
   },
   "outputs": [
    {
     "name": "stderr",
     "output_type": "stream",
     "text": [
      "/u/hbhat/.conda/envs/jax2024/lib/python3.12/site-packages/jax/_src/lax/lax.py:3373: ComplexWarning: Casting complex values to real discards the imaginary part\n",
      "  x_bar = _convert_element_type(x_bar, x.aval.dtype, x.aval.weak_type)\n"
     ]
    },
    {
     "name": "stdout",
     "output_type": "stream",
     "text": [
      "2.633310236532793e-17\n"
     ]
    }
   ],
   "source": [
    "ftest = jnp.array(np.random.normal(size=numsteps))\n",
    "adjres = adjgrad( ftest, mya0, myalpha )\n",
    "# print(adjres)\n",
    "jaxres = gradcost( ftest, mya0, myalpha )\n",
    "# print(jaxres)\n",
    "print(jnp.mean(jnp.abs(adjres - jaxres)))"
   ]
  },
  {
   "cell_type": "code",
   "execution_count": 18,
   "id": "516fdbf5-1db7-4189-8dc3-aef1360ce092",
   "metadata": {},
   "outputs": [],
   "source": [
    "def myexp(x):\n",
    "    thisham = h0 + x*m\n",
    "    evals, evecs = jnp.linalg.eigh(thisham)\n",
    "    out = evecs @ jnp.diag(jnp.exp(-1j*dt*evals)) @ evecs.conj().T\n",
    "    of = out.reshape((-1))\n",
    "    return jnp.stack([of.real, of.imag])"
   ]
  },
  {
   "cell_type": "code",
   "execution_count": 19,
   "id": "65ae0815-4ec5-4997-8166-283ce06ef911",
   "metadata": {
    "tags": []
   },
   "outputs": [],
   "source": [
    "mask = jnp.ones((n,n)) - jnp.eye(n)\n",
    "\n",
    "def myhess(x):\n",
    "    z = h0 + x*m\n",
    "    evals, evecs = jnp.linalg.eigh(z)\n",
    "    evals *= (-1j*dt)\n",
    "    a = (evecs.conj().T @ m @ evecs) * (-1j*dt)\n",
    "    expevals = jnp.exp(evals)\n",
    "    evals1, evals2 = jnp.meshgrid(evals, evals, indexing='ij')\n",
    "    mask = jnp.ones((n,n)) - jnp.eye(n)\n",
    "    expevals1, expevals2 = jnp.meshgrid(expevals, expevals, indexing='ij')\n",
    "    # first D_{ii}=D_{kk} term\n",
    "    diagterm1 = expevals1*jnp.diag(jnp.diag(a*a))\n",
    "    # second D_{ii}=D_{kk} term\n",
    "    numer1 = -expevals1 + evals1*expevals1 - evals2*expevals1 + expevals2\n",
    "    denom1 = (evals1-evals2)**2 + jnp.eye(n)\n",
    "    maska = mask * a\n",
    "    diagterm2 = np.eye(n) * 2*((numer1/denom1 * maska) @ maska)\n",
    "    # first D_{ii}!=D_{kk} term\n",
    "    frac1 = numer1/denom1 * mask\n",
    "    term1 = frac1*2*(jnp.diag(a)*a).T\n",
    "    # second D_{ii}!=D_{kk} term\n",
    "    numer2 = -expevals1 + evals1*expevals2 - evals2*expevals2 + expevals2\n",
    "    denom2 = (evals1-evals2)**2 + jnp.eye(n)\n",
    "    frac2 = numer2/denom2 * mask\n",
    "    term2 = frac2*2*(a*jnp.diag(a))\n",
    "    # third D_{ii}!=D_{kk} term\n",
    "    matij = mask*(1.0/((evals1-evals2) + jnp.eye(n)))\n",
    "    matind1a = (expevals1 * matij) * a\n",
    "    matind2a = (expevals2 * matij) * a\n",
    "    term3 = 2*mask*((matind2a) @ (matij*a))\n",
    "    term3 -= 2*matij*( matind1a @ maska )\n",
    "    term3 -= 2*matij*( maska @ matind2a ) \n",
    "    # put it all together\n",
    "    # udagru stands for \"U^{\\dagger} R U\"\n",
    "    udagru = term1 - term2 - term3 + diagterm1 + diagterm2\n",
    "    return evecs @ udagru @ evecs.conj().T"
   ]
  },
  {
   "cell_type": "code",
   "execution_count": 20,
   "id": "65fab340-f70a-4cea-8e37-b53aed688073",
   "metadata": {},
   "outputs": [],
   "source": [
    "u = (myexp(2.0)[0,:] + myexp(2.0)[1,:]*1j).reshape((n,n))"
   ]
  },
  {
   "cell_type": "code",
   "execution_count": 21,
   "id": "d72fdbdd-6bb0-4c71-bbff-df7e3825e794",
   "metadata": {
    "tags": []
   },
   "outputs": [
    {
     "data": {
      "text/plain": [
       "Array(2.58568317e-16, dtype=float64)"
      ]
     },
     "execution_count": 21,
     "metadata": {},
     "output_type": "execute_result"
    }
   ],
   "source": [
    "jnp.mean(jnp.abs(u @ u.conj().T - jnp.eye(n)))"
   ]
  },
  {
   "cell_type": "code",
   "execution_count": 22,
   "id": "77b2db6a-c3cf-442f-9902-51147daf6bf4",
   "metadata": {
    "tags": []
   },
   "outputs": [],
   "source": [
    "dmyexp = jacobian(myexp)\n",
    "ddmyexp = jacobian(dmyexp)"
   ]
  },
  {
   "cell_type": "code",
   "execution_count": 23,
   "id": "eafc7211-2de4-4508-83f3-35d3ae0d7e2a",
   "metadata": {
    "tags": []
   },
   "outputs": [
    {
     "name": "stderr",
     "output_type": "stream",
     "text": [
      "/u/hbhat/.conda/envs/jax2024/lib/python3.12/site-packages/jax/_src/lax/lax.py:3373: ComplexWarning: Casting complex values to real discards the imaginary part\n",
      "  x_bar = _convert_element_type(x_bar, x.aval.dtype, x.aval.weak_type)\n"
     ]
    }
   ],
   "source": [
    "jaxres = ddmyexp( 1.5 )[0,:] + ddmyexp( 1.5 )[1,:]*1j"
   ]
  },
  {
   "cell_type": "code",
   "execution_count": 24,
   "id": "eb50c190-2a73-42aa-b5c4-5626fadb6cd3",
   "metadata": {
    "tags": []
   },
   "outputs": [],
   "source": [
    "myres = myhess( 1.5 )"
   ]
  },
  {
   "cell_type": "code",
   "execution_count": 25,
   "id": "9ab45c05-b8ca-4c05-b306-bb120e3cee88",
   "metadata": {
    "tags": []
   },
   "outputs": [
    {
     "data": {
      "text/plain": [
       "Array(2.32297734e-16, dtype=float64)"
      ]
     },
     "execution_count": 25,
     "metadata": {},
     "output_type": "execute_result"
    }
   ],
   "source": [
    "jnp.mean(jnp.abs(jaxres.reshape((n,n)) - myres))"
   ]
  },
  {
   "cell_type": "code",
   "execution_count": 26,
   "id": "c6b2cecc-9342-4def-8c48-3f1795762089",
   "metadata": {
    "tags": []
   },
   "outputs": [],
   "source": [
    "mask = jnp.ones((n,n)) - jnp.eye(n)\n",
    "\n",
    "# (d^2/dx^2) \\exp(-1j*dt*(h0 + x m))\n",
    "# where you pass in the eigenvectors and eigenvalues of (h0 + x m)\n",
    "def secondderiv(evecs, rawevals):\n",
    "    evals = (-1j*dt)*rawevals\n",
    "    a = (evecs.conj().T @ m @ evecs) * (-1j*dt)\n",
    "    expevals = jnp.exp(evals)\n",
    "    evals1, evals2 = jnp.meshgrid(evals, evals, indexing='ij')\n",
    "    mask = jnp.ones((n,n)) - jnp.eye(n)\n",
    "    expevals1, expevals2 = jnp.meshgrid(expevals, expevals, indexing='ij')\n",
    "    # first D_{ii}=D_{kk} term\n",
    "    diagterm1 = expevals1*jnp.diag(jnp.diag(a*a))\n",
    "    # second D_{ii}=D_{kk} term\n",
    "    numer1 = -expevals1 + evals1*expevals1 - evals2*expevals1 + expevals2\n",
    "    denom1 = (evals1-evals2)**2 + jnp.eye(n)\n",
    "    maska = mask * a\n",
    "    diagterm2 = np.eye(n) * 2*((numer1/denom1 * maska) @ maska)\n",
    "    # first D_{ii}!=D_{kk} term\n",
    "    frac1 = numer1/denom1 * mask\n",
    "    term1 = frac1*2*(jnp.diag(a)*a).T\n",
    "    # second D_{ii}!=D_{kk} term\n",
    "    numer2 = -expevals1 + evals1*expevals2 - evals2*expevals2 + expevals2\n",
    "    denom2 = (evals1-evals2)**2 + jnp.eye(n)\n",
    "    frac2 = numer2/denom2 * mask\n",
    "    term2 = frac2*2*(a*jnp.diag(a))\n",
    "    # third D_{ii}!=D_{kk} term\n",
    "    matij = mask*(1.0/((evals1-evals2) + jnp.eye(n)))\n",
    "    matind1a = (expevals1 * matij) * a\n",
    "    matind2a = (expevals2 * matij) * a\n",
    "    term3 = 2*mask*((matind2a) @ (matij*a))\n",
    "    term3 -= 2*matij*( matind1a @ maska )\n",
    "    term3 -= 2*matij*( maska @ matind2a ) \n",
    "    # put it all together\n",
    "    # udagru stands for \"U^{\\dagger} R U\"\n",
    "    udagru = term1 - term2 - term3 + diagterm1 + diagterm2\n",
    "    return evecs @ udagru @ evecs.conj().T"
   ]
  },
  {
   "cell_type": "code",
   "execution_count": 27,
   "id": "6580ed8a-7fba-4490-9c15-c81f8931c280",
   "metadata": {
    "tags": []
   },
   "outputs": [],
   "source": [
    "# second-order adjoint method\n",
    "rho = 1\n",
    "def adjgradhess(f, a0, alpha):\n",
    "    a = [a0]\n",
    "    allevals = []\n",
    "    allevecs = []\n",
    "    for k in range(numsteps):\n",
    "        thisham = h0 + f[k]*m\n",
    "        evals, evecs = jnp.linalg.eigh(thisham)\n",
    "        allevals.append( evals )\n",
    "        allevecs.append( evecs )\n",
    "        a.append( evecs @ jnp.diag(jnp.exp(-1j*dt*evals)) @ evecs.conj().T @ a[k] )\n",
    "    \n",
    "    # forward trajectory\n",
    "    a = jnp.stack(a, axis=0)\n",
    "    \n",
    "    # initialize lambda\n",
    "    resid = a[-1] - alpha\n",
    "    # we are storing \"lambda conjugate\" throughout this calculation\n",
    "    alllamb = [rho*resid.conj()]\n",
    "    for k in range(numsteps-1,-1,-1):\n",
    "        kk = (numsteps-1) - k\n",
    "        alllamb.append( alllamb[kk] @ allevecs[k] @ jnp.diag(jnp.exp(-1j*dt*allevals[k])) @ allevecs[k].conj().T )\n",
    "    \n",
    "    # backward trajectory\n",
    "    alllamb = jnp.flipud(jnp.stack(alllamb, axis=0))\n",
    "    \n",
    "    # set up mask\n",
    "    mask = jnp.ones((n, n)) - jnp.eye(n)\n",
    "    \n",
    "    # first critical calculation\n",
    "    allexpderivs = []\n",
    "    for k in range(numsteps):\n",
    "        allexpderivs.append( firstderiv(allevecs[k], allevals[k]) )\n",
    "    \n",
    "    # output gradient we want\n",
    "    ourgrad = []\n",
    "    for k in range(numsteps):\n",
    "        # because we have stored \"lambda conjugate\", we just need transpose here to get the dagger\n",
    "        ourgrad.append( alllamb[k+1].T @ allexpderivs[k] @ a[k] )\n",
    "    \n",
    "    thegrad = f + jnp.real(jnp.array(ourgrad))\n",
    "    \n",
    "    # Hessian part of the calculation\n",
    "    \n",
    "    # compute gradient of a w.r.t. f\n",
    "    # this tensor stores the gradient of the n-dimensional vector a[k] with respect to f[l]\n",
    "    grada = jnp.zeros((numsteps,numsteps,n), dtype=jnp.complex128)\n",
    "    for l in range(numsteps):\n",
    "        gradvec = allexpderivs[l] @ a[l]\n",
    "        grada = grada.at[l,l,:].set(gradvec)\n",
    "        for k in range(l+1,numsteps):\n",
    "            gradvec = allevecs[k] @ jnp.diag(jnp.exp(-1j*dt*allevals[k])) @ allevecs[k].conj().T @ gradvec\n",
    "            grada = grada.at[k,l,:].set(gradvec)\n",
    "    \n",
    "    # create and propagate mu\n",
    "    # as before, let us store and propagate \"mu conjugate\"\n",
    "    allmu = [rho*grada[numsteps-1,:,:].conj()]\n",
    "    for k in range(numsteps-1,-1,-1):\n",
    "        kk = (numsteps-1) - k\n",
    "        prevmu = allmu[kk] @ allevecs[k] @ jnp.diag(jnp.exp(-1j*dt*allevals[k])) @ allevecs[k].conj().T\n",
    "        prevmu = prevmu.at[k].set( prevmu[k] + alllamb[k+1].T @ allexpderivs[k] )\n",
    "        allmu.append(prevmu)\n",
    "\n",
    "    # backward trajectory\n",
    "    allmu = jnp.flipud(jnp.stack(allmu, axis=0))\n",
    "        \n",
    "    # compute and store all Hessians\n",
    "    allexpderivs2 = []\n",
    "    for k in range(numsteps):\n",
    "        allexpderivs2.append( secondderiv(allevecs[k], allevals[k]) )\n",
    "    \n",
    "    # compute Hessian one row at a time\n",
    "    ourhess = []\n",
    "    for k in range(numsteps):\n",
    "        # because we have stored \"mu conjugate\", we just need transpose here to get the dagger\n",
    "        thisrow = jnp.real(allmu[k+1,:,:] @ allexpderivs[k] @ a[k])\n",
    "        thisrow += (k>=1)*jnp.real(alllamb[k+1].T @ allexpderivs[k] @ grada[k-1,:,:].T)\n",
    "        thisrow = thisrow.at[k].set( thisrow[k] + jnp.real(alllamb[k+1].T @ allexpderivs2[k] @ a[k]) )\n",
    "        ourhess.append(thisrow)    \n",
    "    \n",
    "    thehess = jnp.eye(numsteps) + jnp.stack(ourhess, axis=0)\n",
    "    \n",
    "    return thehess"
   ]
  },
  {
   "cell_type": "code",
   "execution_count": 28,
   "id": "f7afe79c-4f44-45de-8959-f9fc3ad7fe45",
   "metadata": {
    "tags": []
   },
   "outputs": [],
   "source": [
    "# debug with NumPy\n",
    "# allmuNP = np.zeros((numsteps+1, numsteps, n), dtype=np.complex128)\n",
    "# allmuNP[numsteps,:,:] = np.array(rho*grada[numsteps-1,:,:])\n",
    "# for k in range(numsteps-1, -1, -1):\n",
    "#     allmuNP[k,:,:] = allmuNP[k+1] @ np.array(allevecs[k] @ jnp.diag(jnp.exp(-1j*dt*allevals[k])) @ allevecs[k].conj().T)\n",
    "#     allmuNP[k,k,:] += np.array(alllamb[k+1].T @ allexpderivs[k])\n",
    "\n",
    "# jaxresraw = jaxgrada( ftest, mya0 )\n",
    "# jaxres = jaxresraw[0,:,:] + 1j*jaxresraw[1,:,:]\n",
    "# jaxres = jnp.transpose(jaxres[1:,:,:], axes=(0,2,1))"
   ]
  },
  {
   "cell_type": "code",
   "execution_count": 29,
   "id": "933f2d13-d013-4007-9784-487f9576bda9",
   "metadata": {
    "tags": []
   },
   "outputs": [
    {
     "name": "stdout",
     "output_type": "stream",
     "text": [
      "9.149816274642944\n"
     ]
    }
   ],
   "source": [
    "start = time.time()\n",
    "myhess = adjgradhess(ftest, mya0, myalpha)\n",
    "end = time.time()\n",
    "print(end-start)"
   ]
  },
  {
   "cell_type": "code",
   "execution_count": 30,
   "id": "6f5d9feb-7f4e-401d-b161-e10b3ba2e221",
   "metadata": {
    "tags": []
   },
   "outputs": [
    {
     "name": "stdout",
     "output_type": "stream",
     "text": [
      "1.7032138503389472e-21\n"
     ]
    }
   ],
   "source": [
    "print(jnp.mean(jnp.abs(myhess - myhess.T)))"
   ]
  },
  {
   "cell_type": "code",
   "execution_count": 31,
   "id": "e93486c4-6c10-4ec6-8c2f-ee267c4aee3a",
   "metadata": {
    "tags": []
   },
   "outputs": [
    {
     "name": "stderr",
     "output_type": "stream",
     "text": [
      "/u/hbhat/.conda/envs/jax2024/lib/python3.12/site-packages/jax/_src/lax/lax.py:3373: ComplexWarning: Casting complex values to real discards the imaginary part\n",
      "  x_bar = _convert_element_type(x_bar, x.aval.dtype, x.aval.weak_type)\n",
      "/u/hbhat/.conda/envs/jax2024/lib/python3.12/site-packages/jax/_src/lax/lax.py:3373: ComplexWarning: Casting complex values to real discards the imaginary part\n",
      "  x_bar = _convert_element_type(x_bar, x.aval.dtype, x.aval.weak_type)\n"
     ]
    },
    {
     "name": "stdout",
     "output_type": "stream",
     "text": [
      "10.308220624923706\n"
     ]
    }
   ],
   "source": [
    "start = time.time()\n",
    "jaxhess = hesscost(ftest, mya0, myalpha)\n",
    "end = time.time()\n",
    "print(end-start)"
   ]
  },
  {
   "cell_type": "code",
   "execution_count": 32,
   "id": "96da9711-5907-40ad-bb97-cfb858688225",
   "metadata": {
    "tags": []
   },
   "outputs": [
    {
     "data": {
      "text/plain": [
       "Array(8.07243871e-19, dtype=float64)"
      ]
     },
     "execution_count": 32,
     "metadata": {},
     "output_type": "execute_result"
    }
   ],
   "source": [
    "jnp.mean(jnp.abs(myhess-jaxhess))"
   ]
  },
  {
   "cell_type": "code",
   "execution_count": null,
   "id": "dc8d289b-556c-4a80-9bd8-a1daee92e881",
   "metadata": {},
   "outputs": [],
   "source": []
  }
 ],
 "metadata": {
  "kernelspec": {
   "display_name": "jax2024",
   "language": "python",
   "name": "jax2024"
  },
  "language_info": {
   "codemirror_mode": {
    "name": "ipython",
    "version": 3
   },
   "file_extension": ".py",
   "mimetype": "text/x-python",
   "name": "python",
   "nbconvert_exporter": "python",
   "pygments_lexer": "ipython3",
   "version": "3.12.0"
  }
 },
 "nbformat": 4,
 "nbformat_minor": 5
}
