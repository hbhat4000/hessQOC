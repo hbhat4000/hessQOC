{
 "cells": [
  {
   "cell_type": "code",
   "execution_count": 1,
   "id": "27d04d0f-0c4b-4ad9-bc0b-6601bec71432",
   "metadata": {
    "tags": []
   },
   "outputs": [],
   "source": [
    "import os\n",
    "os.environ[\"XLA_PYTHON_CLIENT_PREALLOCATE\"]=\"false\"\n",
    "\n",
    "import jax\n",
    "jax.config.update(\"jax_enable_x64\", True)"
   ]
  },
  {
   "cell_type": "code",
   "execution_count": 2,
   "id": "adf9af5c-c953-4848-b5a8-7316dd0824e7",
   "metadata": {
    "tags": []
   },
   "outputs": [],
   "source": [
    "import jax.numpy as jnp\n",
    "from jax import jit, grad, jacobian, lax, vmap\n",
    "\n",
    "import numpy as np\n",
    "import matplotlib.pyplot as plt"
   ]
  },
  {
   "cell_type": "code",
   "execution_count": 3,
   "id": "598aa210-157a-48bb-886e-b8ed9d6ab861",
   "metadata": {
    "tags": []
   },
   "outputs": [],
   "source": [
    "import time\n",
    "import scipy.optimize as so"
   ]
  },
  {
   "cell_type": "code",
   "execution_count": 4,
   "id": "c6a929d3-bc28-43b6-9555-a914d36c8b30",
   "metadata": {
    "tags": []
   },
   "outputs": [],
   "source": [
    "dt = 1e-2\n",
    "numsteps = 2000\n",
    "tvec = dt*jnp.arange(numsteps)\n",
    "rho = 1e6"
   ]
  },
  {
   "cell_type": "code",
   "execution_count": 5,
   "id": "384186ee-c207-4c1e-ac23-dbab9d077cf3",
   "metadata": {
    "tags": []
   },
   "outputs": [],
   "source": [
    "mol = 'heh+'\n",
    "\n",
    "# basis = 'sto-3g'\n",
    "# prefix = 'casscf22_s2_'\n",
    "\n",
    "basis = '6-31g'\n",
    "prefix = 'casscf24_s15_'\n",
    "\n",
    "# if basis=='sto-3g':\n",
    "#     prefix = 'casscf22_s2_'\n",
    "# elif basis=='6-31g':\n",
    "#     prefix = 'casscf24_s15_'"
   ]
  },
  {
   "cell_type": "code",
   "execution_count": 6,
   "id": "2099474c-fe5e-41fa-9e5d-8a703f8e86a9",
   "metadata": {
    "tags": []
   },
   "outputs": [
    {
     "name": "stdout",
     "output_type": "stream",
     "text": [
      "alpha = [1. 0. 0. 0. 0. 0. 0. 0. 0. 0. 0. 0. 0. 0. 0. 0.]\n",
      "beta = [0. 0. 0. 0. 0. 0. 0. 0. 0. 0. 0. 0. 0. 0. 0. 1.]\n"
     ]
    }
   ],
   "source": [
    "# load Hamiltonian\n",
    "h0 = np.load('./data/'+prefix+mol+'_'+basis+'_hamiltonian.npz')\n",
    "n = h0.shape[0]\n",
    "\n",
    "# load dipole moment matrix\n",
    "m = np.load('./data/'+prefix+mol+'_'+basis+'_CI_dimat.npz')\n",
    "\n",
    "# load initial and final states\n",
    "P0T = np.load('./data/'+mol+'_'+basis+'_P0T.npz')\n",
    "thisalpha = jnp.array(P0T['alpha'])\n",
    "thisbeta = jnp.array(P0T['beta'])\n",
    "\n",
    "print(\"alpha = \" + str(thisalpha))\n",
    "print(\"beta = \" + str(thisbeta))"
   ]
  },
  {
   "cell_type": "code",
   "execution_count": 7,
   "id": "4165ece3-bd2f-40fa-8c27-7c9105b732aa",
   "metadata": {
    "tags": []
   },
   "outputs": [],
   "source": [
    "# (d/dx) \\exp(-1j*dt*(h0 + x m))\n",
    "# where you pass in the eigenvectors and eigenvalues of (h0 + x m)\n",
    "def firstderiv(evecs, evals):\n",
    "    amat = evecs.conj().T @ (-1j*dt*m) @ evecs\n",
    "    dvec = -1j*dt*evals\n",
    "    dvec1, dvec2 = jnp.meshgrid(dvec, dvec)\n",
    "    mask = jnp.ones((n,n)) - jnp.eye(n)\n",
    "    numer = jnp.exp(dvec1) - jnp.exp(dvec2)\n",
    "    denom = (dvec1 - dvec2)*mask + jnp.eye(n)\n",
    "    derivmat = mask*numer/denom + jnp.diag(jnp.exp(dvec))\n",
    "    qmat = evecs @ (amat * derivmat) @ evecs.conj().T\n",
    "    return qmat"
   ]
  },
  {
   "cell_type": "code",
   "execution_count": 8,
   "id": "c6b2cecc-9342-4def-8c48-3f1795762089",
   "metadata": {
    "tags": []
   },
   "outputs": [],
   "source": [
    "mask = jnp.ones((n,n)) - jnp.eye(n)\n",
    "\n",
    "# (d^2/dx^2) \\exp(-1j*dt*(h0 + x m))\n",
    "# where you pass in the eigenvectors and eigenvalues of (h0 + x m)\n",
    "def secondderiv(evecs, rawevals):\n",
    "    evals = (-1j*dt)*rawevals\n",
    "    a = (evecs.conj().T @ m @ evecs) * (-1j*dt)\n",
    "    expevals = jnp.exp(evals)\n",
    "    evals1, evals2 = jnp.meshgrid(evals, evals, indexing='ij')\n",
    "    expevals1, expevals2 = jnp.meshgrid(expevals, expevals, indexing='ij')\n",
    "    # first D_{ii}=D_{kk} term\n",
    "    diagterm1 = expevals1*jnp.diag(jnp.diag(a*a))\n",
    "    # second D_{ii}=D_{kk} term\n",
    "    numer1 = -expevals1 + evals1*expevals1 - evals2*expevals1 + expevals2\n",
    "    denom1 = (evals1-evals2)**2 + jnp.eye(n)\n",
    "    maska = mask * a\n",
    "    diagterm2 = jnp.eye(n) * 2*((numer1/denom1 * maska) @ maska)\n",
    "    # first D_{ii}!=D_{kk} term\n",
    "    frac1 = numer1/denom1 * mask\n",
    "    term1 = frac1*2*(jnp.diag(a)*a).conj().T\n",
    "    # second D_{ii}!=D_{kk} term\n",
    "    numer2 = -expevals1 + evals1*expevals2 - evals2*expevals2 + expevals2\n",
    "    denom2 = (evals1-evals2)**2 + jnp.eye(n)\n",
    "    frac2 = numer2/denom2 * mask\n",
    "    term2 = frac2*2*(a*jnp.diag(a))\n",
    "    # third D_{ii}!=D_{kk} term\n",
    "    matij = mask*(1.0/((evals1-evals2) + jnp.eye(n)))\n",
    "    matind1a = (expevals1 * matij) * a\n",
    "    matind2a = (expevals2 * matij) * a\n",
    "    term3 = 2*mask*((matind2a) @ (matij*a))\n",
    "    term3 -= 2*matij*( matind1a @ maska )\n",
    "    term3 -= 2*matij*( maska @ matind2a ) \n",
    "    # put it all together\n",
    "    # udagru stands for \"U^{\\dagger} R U\"\n",
    "    udagru = term1 - term2 - term3 + diagterm1 + diagterm2\n",
    "    return evecs @ udagru @ evecs.conj().T"
   ]
  },
  {
   "cell_type": "code",
   "execution_count": 9,
   "id": "0176d3aa-118f-4fb0-900e-6d23337e54da",
   "metadata": {
    "tags": []
   },
   "outputs": [],
   "source": [
    "def gradal(l,expderiv,a,matexp):\n",
    "    ea = expderiv @ a\n",
    "    gradvecs = [(l==0)*ea + (l>0)*jnp.zeros(n, dtype=jnp.complex128)]\n",
    "    for k in range(1,numsteps):\n",
    "        thisvec = (k<l)*jnp.zeros(n, dtype=jnp.complex128)\n",
    "        thisvec += (k==l)*ea\n",
    "        thisvec += (k>l)*(matexp[k] @ gradvecs[k-1])\n",
    "        gradvecs.append( thisvec )\n",
    "    \n",
    "    # zeroblock = jnp.zeros((l, n), dtype=jnp.complex128)\n",
    "    return jnp.stack(gradvecs, axis=0)"
   ]
  },
  {
   "cell_type": "code",
   "execution_count": 10,
   "id": "50f5a286-267d-4198-a306-b4a19e5b5697",
   "metadata": {},
   "outputs": [],
   "source": [
    "def onematexp(evecs,expevals):\n",
    "    return evecs @ jnp.diag(expevals) @ evecs.conj().T"
   ]
  },
  {
   "cell_type": "code",
   "execution_count": 11,
   "id": "5dd6bfea-a7fc-4078-9cb5-95770d56c3bf",
   "metadata": {
    "tags": []
   },
   "outputs": [],
   "source": [
    "manyeigh = vmap(jnp.linalg.eigh)\n",
    "vfd = vmap(firstderiv, in_axes=(0,0))\n",
    "vsd = vmap(secondderiv, in_axes=(0,0))\n",
    "vgradal = vmap(gradal, in_axes=(0,0,0,None))\n",
    "vonematexp = vmap(onematexp)"
   ]
  },
  {
   "cell_type": "code",
   "execution_count": 12,
   "id": "0b7a77a8-cc46-4d63-95f7-0dbbe08106b1",
   "metadata": {
    "tags": []
   },
   "outputs": [],
   "source": [
    "# freqvec = jnp.array([0.62831853, 1.25663706, 1.88495559, 2.51327412, 3.14159265, 3.76991118, \n",
    "#                      4.39822972, 5.02654825, 5.65486678])\n",
    "# nf = freqvec.shape[0]\n",
    "# numparams = 1 + 2*nf\n",
    "# def fmodelraw(theta, t):\n",
    "#     return theta[0] + jnp.sum(theta[1:(1+nf)]*jnp.sin(freqvec*t)) + jnp.sum(theta[(1+nf):(1+2*nf)]*jnp.cos(freqvec*t))"
   ]
  },
  {
   "cell_type": "code",
   "execution_count": 13,
   "id": "8667cd5b-88e7-4232-ac1c-b6b26344390d",
   "metadata": {
    "tags": []
   },
   "outputs": [
    {
     "name": "stdout",
     "output_type": "stream",
     "text": [
      "number of neural network parameters = 53\n"
     ]
    }
   ],
   "source": [
    "# PARAMETERS THAT DEFINE NEURAL NET CONTROL (FIELD STRENGTH)\n",
    "layerwidths = [1, 4, 4, 4, 1]\n",
    "nlayers = len(layerwidths)-1\n",
    "numparams = 0\n",
    "numweights = 0\n",
    "for j in range(nlayers):\n",
    "    numparams += layerwidths[j]*layerwidths[j+1] + layerwidths[j+1]\n",
    "    numweights += layerwidths[j]*layerwidths[j+1]\n",
    "\n",
    "print(\"number of neural network parameters = \" + str(numparams))\n",
    "\n",
    "def fmodelraw(theta, t):\n",
    "    filt = []\n",
    "    for j in range(nlayers):\n",
    "        if j==0:\n",
    "            si = 0\n",
    "            ei = layerwidths[0]*layerwidths[1]\n",
    "        else:\n",
    "            si += layerwidths[j-1]*layerwidths[j]\n",
    "            ei += layerwidths[j]*layerwidths[j+1]\n",
    "        filt.append( theta[si:ei].reshape((layerwidths[j],layerwidths[j+1])) )\n",
    "\n",
    "    bias = []\n",
    "    for j in range(nlayers):\n",
    "        if j==0:\n",
    "            si += layerwidths[nlayers-1]*layerwidths[nlayers]\n",
    "            ei += layerwidths[1]\n",
    "        else:\n",
    "            si += layerwidths[j]\n",
    "            ei += layerwidths[j+1]\n",
    "        bias.append( theta[si:ei] )\n",
    "    \n",
    "    f = jax.nn.softplus( t * filt[0] + bias[0] )\n",
    "    for j in range(nlayers-2):\n",
    "        if j==(nlayers-3):\n",
    "            activation = jnp.sin\n",
    "        else:\n",
    "            activation = jax.nn.softplus\n",
    "        f = activation( f @ filt[j+1] + bias[j+1] )\n",
    "    \n",
    "    f = f @ filt[nlayers-1] + bias[nlayers-1]\n",
    "    return f[0,0]"
   ]
  },
  {
   "cell_type": "code",
   "execution_count": 14,
   "id": "93876163-75e9-457f-9bcf-7648dec7c67e",
   "metadata": {
    "tags": []
   },
   "outputs": [],
   "source": [
    "# XAVIER WEIGHT INITIALIZATION\n",
    "def xavier():\n",
    "    params = []\n",
    "    for i in range(nlayers):\n",
    "        a = 1.0/np.sqrt(layerwidths[i])\n",
    "        params.append( np.random.uniform(size=layerwidths[i]*layerwidths[i+1], low=-a, high=a) )\n",
    "    params.append( np.zeros(numparams-numweights) )\n",
    "    return np.concatenate(params)"
   ]
  },
  {
   "cell_type": "code",
   "execution_count": 15,
   "id": "1fff5aa8-d3f2-4b13-b1e1-aafd5561afb0",
   "metadata": {
    "tags": []
   },
   "outputs": [],
   "source": [
    "fmodel = vmap(fmodelraw, in_axes=(None,0))\n",
    "\n",
    "gradfraw = jacobian(fmodelraw)\n",
    "gradf = vmap(gradfraw, in_axes=(None,0))\n",
    "\n",
    "hessfraw = jacobian(gradfraw)\n",
    "hessf = vmap(hessfraw, in_axes=(None,0))"
   ]
  },
  {
   "cell_type": "code",
   "execution_count": 16,
   "id": "22830383-41e7-471d-814f-55fb9da43a5f",
   "metadata": {
    "tags": []
   },
   "outputs": [],
   "source": [
    "# given initial condition and forcing f, return trajectory a\n",
    "def propSchro(theta, a0):\n",
    "    manyhams = jnp.expand_dims(h0,0) + jnp.expand_dims(fmodel(theta, tvec),(1,2))*jnp.expand_dims(m,0)\n",
    "    allevals, allevecs = manyeigh(manyhams)\n",
    "    expevals = jnp.exp(-1j*dt*allevals)\n",
    "    matexp = vonematexp(allevecs,expevals)\n",
    "    \n",
    "    a = jnp.concatenate([jnp.expand_dims(a0,0), jnp.zeros((numsteps, n), dtype=jnp.complex128)])\n",
    "    def amatbody(k, am):\n",
    "        return am.at[k+1].set( matexp[k] @ am[k] )\n",
    "    \n",
    "    # forward trajectory\n",
    "    a = lax.fori_loop(0, numsteps, amatbody, a)\n",
    "    return a\n",
    "\n",
    "# given forcing f, IC a0, FC alpha, return cost\n",
    "def cost(theta, a0, alpha):\n",
    "    a = propSchro(theta, a0)\n",
    "    resid = a[-1] - alpha\n",
    "    pen = jnp.real(jnp.sum(resid * resid.conj()))\n",
    "    return 0.5*jnp.sum(fmodel(theta, tvec)**2) + 0.5*rho*pen"
   ]
  },
  {
   "cell_type": "code",
   "execution_count": 17,
   "id": "a90b6562-ba20-4a80-b7f6-4010bab6376f",
   "metadata": {
    "tags": []
   },
   "outputs": [],
   "source": [
    "# adjoint method\n",
    "def adjgrad(theta, a0, alpha):\n",
    "    f = fmodel(theta, tvec)\n",
    "    gf = gradf(theta, tvec)\n",
    "    manyhams = jnp.expand_dims(h0,0) + jnp.expand_dims(f,(1,2))*jnp.expand_dims(m,0)\n",
    "    allevals, allevecs = manyeigh(manyhams)\n",
    "    expevals = jnp.exp(-1j*dt*allevals)\n",
    "    matexp = vonematexp(allevecs,expevals)\n",
    "    \n",
    "    a = jnp.concatenate([jnp.expand_dims(a0,0), jnp.zeros((numsteps, n), dtype=jnp.complex128)])\n",
    "    def amatbody(k, am):\n",
    "        return am.at[k+1].set( matexp[k] @ am[k] )\n",
    "    \n",
    "    # forward trajectory\n",
    "    a = lax.fori_loop(0, numsteps, amatbody, a)\n",
    "    \n",
    "    # initialize lambda\n",
    "    resid = a[-1] - alpha\n",
    "    \n",
    "    # we are storing \"lambda conjugate\" throughout this calculation\n",
    "    alllamb = jnp.concatenate([jnp.expand_dims(rho*resid.conj(),0), jnp.zeros((numsteps, n), dtype=jnp.complex128)])\n",
    "    def lambbody(i, al):\n",
    "        k = (numsteps-1) - i\n",
    "        return al.at[i+1].set( al[i] @ matexp[k] )\n",
    "    \n",
    "    # backward trajectory\n",
    "    alllamb = lax.fori_loop(0, numsteps, lambbody, alllamb)\n",
    "    alllamb = jnp.flipud(alllamb)\n",
    "    \n",
    "    # first critical calculation\n",
    "    allexpderivs = vfd(allevecs, allevals)\n",
    "    \n",
    "    # output gradient we want\n",
    "    ourgrad = jnp.einsum('ai,aij,al,aj->l',alllamb[1:],allexpderivs,gf,a[:-1])\n",
    "    thegrad = f @ gf + jnp.real(ourgrad)\n",
    "    \n",
    "    return thegrad"
   ]
  },
  {
   "cell_type": "code",
   "execution_count": 18,
   "id": "6580ed8a-7fba-4490-9c15-c81f8931c280",
   "metadata": {
    "tags": []
   },
   "outputs": [],
   "source": [
    "# second-order adjoint method\n",
    "def adjhess(theta, a0, alpha):\n",
    "    f = fmodel(theta, tvec)\n",
    "    gf = gradf(theta, tvec)\n",
    "    hf = hessf(theta, tvec)\n",
    "    manyhams = jnp.expand_dims(h0,0) + jnp.expand_dims(f,(1,2))*jnp.expand_dims(m,0)\n",
    "    allevals, allevecs = manyeigh(manyhams)\n",
    "    expevals = jnp.exp(-1j*dt*allevals)\n",
    "    matexp = vonematexp(allevecs,expevals)\n",
    "\n",
    "    a = jnp.concatenate([jnp.expand_dims(a0,0), jnp.zeros((numsteps, n), dtype=jnp.complex128)])\n",
    "    def amatbody(k, am):\n",
    "        return am.at[k+1].set( matexp[k] @ am[k] )\n",
    "    \n",
    "    # forward trajectory\n",
    "    a = lax.fori_loop(0, numsteps, amatbody, a)\n",
    "    \n",
    "    # initialize lambda\n",
    "    resid = a[-1] - alpha\n",
    "    \n",
    "    # we are storing \"lambda conjugate\" throughout this calculation\n",
    "    alllamb = jnp.concatenate([jnp.expand_dims(rho*resid.conj(),0), jnp.zeros((numsteps, n), dtype=jnp.complex128)])\n",
    "    def lambbody(i, al):\n",
    "        k = (numsteps-1) - i\n",
    "        return al.at[i+1].set( al[i] @ matexp[k] )\n",
    "    \n",
    "    # backward trajectory\n",
    "    alllamb = lax.fori_loop(0, numsteps, lambbody, alllamb)\n",
    "    alllamb = jnp.flipud(alllamb)\n",
    "    \n",
    "    # first critical calculation\n",
    "    allexpderivs = vfd(allevecs, allevals)\n",
    "    \n",
    "    # compute gradient of a w.r.t. f\n",
    "    # grada tensor stores the gradient of the n-dimensional vector a[k] with respect to f[l]\n",
    "    lvec = jnp.arange(numsteps,dtype=jnp.int16)\n",
    "    grada = vgradal(lvec, allexpderivs, a[:-1], matexp)\n",
    "    grada = jnp.transpose(grada,(1,0,2))\n",
    "    grada = jnp.einsum('ijk,jl->ilk',grada,gf)\n",
    "    \n",
    "    # create and propagate mu\n",
    "    # as before, let us store and propagate \"mu conjugate\"\n",
    "    allmu0 = rho*grada[numsteps-1,:,:].conj()\n",
    "    allmu = jnp.concatenate([jnp.expand_dims(allmu0,0),\n",
    "                             jnp.zeros((numsteps, numparams, n), dtype=jnp.complex128)])\n",
    "    # allprevmu2 = jnp.flipud(jnp.outer(jnp.ones(n),jnp.eye(numsteps)).T.reshape((numsteps,numsteps,n)))\n",
    "    def mubody(kk, amu):\n",
    "        k = (numsteps-1) - kk\n",
    "        prevmu1 = amu[kk] @ matexp[k]\n",
    "        prevmu2 = jnp.outer(gf[k],alllamb[k+1].T @ allexpderivs[k])\n",
    "        return amu.at[kk+1].set( prevmu1+prevmu2 )\n",
    "\n",
    "    # backward trajectory\n",
    "    allmu = lax.fori_loop(0, numsteps, mubody, allmu)\n",
    "    allmu = jnp.flipud(allmu)\n",
    "        \n",
    "    # second critical calculation\n",
    "    allexpderivs2 = vsd(allevecs, allevals)\n",
    "    \n",
    "    # compute Hessian\n",
    "    gradapad = jnp.concatenate([jnp.zeros((1,numparams,n),dtype=jnp.complex128), grada[:-1,:,:]])\n",
    "    # j -> numsteps\n",
    "    # l -> numparams\n",
    "    # k -> n\n",
    "    term1 = jnp.einsum('jlk,jka,jm,ja->lm',allmu[1:],allexpderivs,gf,a[:-1])\n",
    "    term2a = jnp.einsum('jk,jka,jlm,ja->lm',alllamb[1:],allexpderivs,hf,a[:-1])\n",
    "    term2b = jnp.einsum('jk,jka,jl,jm,ja->lm',alllamb[1:],allexpderivs2,gf,gf,a[:-1])\n",
    "    term3 = jnp.einsum('jk,jka,jm,jla->lm',alllamb[1:],allexpderivs,gf,gradapad)\n",
    "    pcc = term1 + term2a + term2b + term3\n",
    "    hcc = jnp.einsum('ai,aj->ij',gf,gf) + jnp.einsum('a,aij->ij',f,hf)\n",
    "    thehess = hcc + jnp.real(pcc)\n",
    "    \n",
    "    return thehess"
   ]
  },
  {
   "cell_type": "code",
   "execution_count": 19,
   "id": "1199bfe0-2d89-47a5-ba6e-d1c6f026d2c3",
   "metadata": {
    "tags": []
   },
   "outputs": [],
   "source": [
    "jcost = jit(cost)\n",
    "jadjgrad = jit(adjgrad)\n",
    "jadjhess = jit(adjhess)"
   ]
  },
  {
   "cell_type": "code",
   "execution_count": 20,
   "id": "65f611e6-345d-4326-b8a2-0ed493eae5b6",
   "metadata": {
    "tags": []
   },
   "outputs": [],
   "source": [
    "mya0 = jnp.eye(n)[0]\n",
    "myalpha = jnp.eye(n)[n-1]"
   ]
  },
  {
   "cell_type": "code",
   "execution_count": 21,
   "id": "fd77ced0-5346-4299-bc02-fd77e2b0325b",
   "metadata": {
    "tags": []
   },
   "outputs": [
    {
     "name": "stdout",
     "output_type": "stream",
     "text": [
      "(53,)\n",
      "841.1578342871533\n",
      "4969.208630834285\n",
      "0.0011683124078297393\n"
     ]
    }
   ],
   "source": [
    "thetastar = np.load('./NNoutput/nnresult_'+mol+'_'+basis+'_14441.npz')['thetastar']\n",
    "print(thetastar.shape)\n",
    "print(cost(thetastar, mya0, myalpha))\n",
    "print(np.linalg.norm(adjgrad(thetastar, mya0, myalpha)))\n",
    "traj = propSchro(thetastar, a0=mya0)\n",
    "print(np.linalg.norm(traj[-1,:]-thisbeta))"
   ]
  },
  {
   "cell_type": "code",
   "execution_count": 22,
   "id": "3712675f-29af-4dfd-a179-632f7245d3be",
   "metadata": {
    "tags": []
   },
   "outputs": [],
   "source": [
    "# thetatest = xavier() # jnp.array(0.1*np.random.normal(size=numparams))\n",
    "# mycost = jcost(thetatest, mya0, myalpha)\n",
    "# mygrad = jadjgrad(thetatest, mya0, myalpha)\n",
    "# myhess = jadjhess(thetatest, mya0, myalpha)"
   ]
  },
  {
   "cell_type": "code",
   "execution_count": 23,
   "id": "33f1e8e6-de8c-4683-93b4-e05d2b31e1a7",
   "metadata": {
    "tags": []
   },
   "outputs": [],
   "source": [
    "# def obj(x):\n",
    "#     jx = jnp.array(x)\n",
    "#     return jcost(jx,mya0,myalpha).item()"
   ]
  },
  {
   "cell_type": "code",
   "execution_count": 24,
   "id": "a1c82073-491a-4d84-b58a-60172f72232d",
   "metadata": {
    "tags": []
   },
   "outputs": [],
   "source": [
    "# def gradobj(x):\n",
    "#     jx = jnp.array(x)\n",
    "#     return np.array(jadjgrad(jx,mya0,myalpha))"
   ]
  },
  {
   "cell_type": "code",
   "execution_count": 25,
   "id": "5ba2cd9e-3c17-473f-a663-8da797852cf8",
   "metadata": {
    "tags": []
   },
   "outputs": [],
   "source": [
    "# def hessobj(x):\n",
    "#     jx = jnp.array(x)\n",
    "#     return np.array(jadjhess(jx,mya0,myalpha))"
   ]
  },
  {
   "cell_type": "code",
   "execution_count": 26,
   "id": "c1ef5bc4-8088-4b82-b301-43cdcaab6e71",
   "metadata": {
    "tags": []
   },
   "outputs": [],
   "source": [
    "# for j in range(1000):\n",
    "#     thetatest = jnp.array(0.25*np.random.normal(size=numparams))\n",
    "#     thisobj = obj(thetatest)\n",
    "#     if thisobj < 200000:\n",
    "#         print(thisobj)\n",
    "#         break"
   ]
  },
  {
   "cell_type": "code",
   "execution_count": 27,
   "id": "3f3fba76-267f-430d-a0d2-de1fdf9971cb",
   "metadata": {
    "tags": []
   },
   "outputs": [],
   "source": [
    "# np.savez('Feb16resultsGreen.npz',thetatest=thetatest,xstarx=xstar.x)"
   ]
  },
  {
   "cell_type": "code",
   "execution_count": 28,
   "id": "b5d10228-6a22-41c5-a6c8-2e9b9876cdbc",
   "metadata": {
    "scrolled": true,
    "tags": []
   },
   "outputs": [],
   "source": [
    "# thetatest = xavier()\n",
    "\n",
    "# start = time.time()\n",
    "# xstar = so.minimize(obj, x0=np.array(thetatest), method='trust-constr', jac=gradobj, hess=hessobj,\n",
    "#                     options={'gtol':1e-16,'xtol':1e-16,'verbose':2,'maxiter':10000})\n",
    "# end = time.time()\n",
    "# print(end-start)\n",
    "\n",
    "# np.savez('nnresult_'+mol+'_'+basis+'_14441.npz',thetastar=xstar.x,thetainit=np.array(thetatest))"
   ]
  },
  {
   "cell_type": "code",
   "execution_count": 29,
   "id": "015a5e93-5952-498f-8e68-28225db5e8bf",
   "metadata": {
    "tags": []
   },
   "outputs": [
    {
     "name": "stdout",
     "output_type": "stream",
     "text": [
      "(2001, 16)\n"
     ]
    }
   ],
   "source": [
    "# thetastar = xstar.x\n",
    "traj = propSchro(thetastar, a0=mya0)\n",
    "trajNP = np.array(traj)\n",
    "print(trajNP.shape)"
   ]
  },
  {
   "cell_type": "code",
   "execution_count": 30,
   "id": "c1e7a3d0-8364-4fa4-a71d-d78531959cfa",
   "metadata": {
    "tags": []
   },
   "outputs": [],
   "source": [
    "# # matplotlib, with Agg to save to disk\n",
    "# import matplotlib\n",
    "# matplotlib.use('Agg')\n",
    "\n",
    "# # set plot font+size\n",
    "# font = {'weight' : 'bold', 'size' : 16}\n",
    "# matplotlib.rc('font', **font)\n",
    "\n",
    "# plt.rcParams['pdf.fonttype'] = 42"
   ]
  },
  {
   "cell_type": "code",
   "execution_count": 31,
   "id": "84d8d1db-c2a2-4e3e-b52f-eaf432d40a16",
   "metadata": {
    "tags": []
   },
   "outputs": [],
   "source": [
    "# # autogenerate labels\n",
    "# labels=[]\n",
    "# for i in range(n):\n",
    "#     labels.append(r'| $a_{'+str(i+1)+'}(t)$ |')\n",
    "\n",
    "# # time vector\n",
    "# plottvec = np.arange(numsteps+1)*dt\n",
    "\n",
    "# # this only works because we've hard-coded i==0 and i==11 for the case of 2x2 and 6x6 matrices\n",
    "# labeled = False\n",
    "# plt.figure(figsize=(9,6))\n",
    "# for i in range(n):\n",
    "#     if i==0:\n",
    "#         plt.plot(plottvec, np.abs(trajNP[:,i]), label=labels[i], color='#d01c8b', zorder=10, linewidth=2)\n",
    "#     elif i==(n-1):\n",
    "#         plt.plot(plottvec, np.abs(trajNP[:,i]), label=labels[i], color='#4dac26', zorder=10, linewidth=2)\n",
    "#     else:\n",
    "#         plt.plot(plottvec, np.abs(trajNP[:,i]), color='silver')\n",
    "\n",
    "# plt.legend(loc='upper center', bbox_to_anchor=(.5, 1.12), ncol=3, fancybox=False, shadow=False, frameon=False)\n",
    "\n",
    "# plt.xlabel('time')\n",
    "# plt.savefig('NNcontroltraj_'+mol+'_'+basis+'_14441.pdf',bbox_inches = \"tight\")\n",
    "# plt.close()"
   ]
  },
  {
   "cell_type": "code",
   "execution_count": 32,
   "id": "9b08e88c-fc64-4ea7-b0f4-a92e6252bb0c",
   "metadata": {
    "tags": []
   },
   "outputs": [],
   "source": [
    "# fm = fmodel(thetastar, plottvec)"
   ]
  },
  {
   "cell_type": "code",
   "execution_count": 33,
   "id": "0a37323c-35fc-4ae9-b2ff-15d155ab422d",
   "metadata": {
    "tags": []
   },
   "outputs": [],
   "source": [
    "# plt.figure(figsize=(8,6))\n",
    "# plt.plot(plottvec, fm)\n",
    "# plt.xlabel('time (a.u.)')\n",
    "# plt.ylabel('control f(t)')\n",
    "# plt.savefig('NNcontrolsig_'+mol+'_'+basis+'_14441.pdf',bbox_inches = \"tight\")\n",
    "# plt.close()"
   ]
  },
  {
   "cell_type": "code",
   "execution_count": 34,
   "id": "c39969d3-b72d-4b14-90f9-0ac6a812a057",
   "metadata": {
    "tags": []
   },
   "outputs": [],
   "source": [
    "# def cheaphessobj(x):\n",
    "#     jx = jnp.array(x)\n",
    "#     return np.array(adjhess(jx,mya0,myalpha))"
   ]
  },
  {
   "cell_type": "code",
   "execution_count": 35,
   "id": "c989c824-86ec-4e47-aa3d-d21d97fb7b09",
   "metadata": {
    "tags": []
   },
   "outputs": [],
   "source": [
    "# np.save('hessevals_'+mol+'_'+basis+'.npy',np.linalg.eigvalsh(cheaphessobj(thetastar)))"
   ]
  },
  {
   "cell_type": "code",
   "execution_count": 36,
   "id": "cb6f4d85-6460-41ae-933d-17d02d6fdfd4",
   "metadata": {},
   "outputs": [],
   "source": [
    "# # set plot font+size\n",
    "# font = {'weight' : 'bold', 'size' : 14}\n",
    "# matplotlib.rc('font', **font)\n",
    "\n",
    "# numparams = 53\n",
    "\n",
    "# plt.figure(figsize=(5,6))\n",
    "# allevals = np.zeros((2,2,numparams))\n",
    "# mols = ['heh+', 'h2']\n",
    "# bases = ['sto-3g', '6-31g']\n",
    "# for ii in range(2):\n",
    "#     for jj in range(2):\n",
    "#         allevals[ii,jj,:] = np.load('./NNoutput/hessevals_'+mols[ii]+'_'+bases[jj]+'.npy')\n",
    "#         plt.plot(np.arange(numparams)+1,allevals[ii,jj,:],label=mols[ii]+', '+bases[jj])\n",
    "\n",
    "# # plt.yscale('log')\n",
    "# plt.yscale('symlog')\n",
    "# plt.title('Neural network with ' + r\"$|\\theta| = 53$\")\n",
    "# plt.ylabel('eigenvalues of final Hessian')\n",
    "# # plt.legend(loc='center right',bbox_to_anchor=(1.75, 0.5))\n",
    "# plt.legend(loc='upper left')\n",
    "# plt.grid()\n",
    "# negexp = np.log(-np.min(allevals))/np.log(10)+1\n",
    "# posexp = np.log(np.max(allevals))/np.log(10)+1\n",
    "# plt.yticks(np.concatenate([np.flipud(-10**np.arange(negexp)),10**np.arange(posexp)]))\n",
    "# plt.xticks([1, 10, 20, 30, 40, 53])\n",
    "# plt.savefig('NNeigs_14441.pdf',bbox_inches = \"tight\")\n",
    "# plt.close()"
   ]
  },
  {
   "cell_type": "code",
   "execution_count": 37,
   "id": "2a0b1981-45a3-4567-aca4-0b91e3cfca4b",
   "metadata": {
    "tags": []
   },
   "outputs": [],
   "source": [
    "# np.linalg.eigvalsh(hessobj(thetastar))"
   ]
  },
  {
   "cell_type": "code",
   "execution_count": null,
   "id": "db6f72a7-7ab1-42c5-98cb-96be7fe1eada",
   "metadata": {},
   "outputs": [],
   "source": []
  }
 ],
 "metadata": {
  "kernelspec": {
   "display_name": "jax2024",
   "language": "python",
   "name": "jax2024"
  },
  "language_info": {
   "codemirror_mode": {
    "name": "ipython",
    "version": 3
   },
   "file_extension": ".py",
   "mimetype": "text/x-python",
   "name": "python",
   "nbconvert_exporter": "python",
   "pygments_lexer": "ipython3",
   "version": "3.12.0"
  }
 },
 "nbformat": 4,
 "nbformat_minor": 5
}
