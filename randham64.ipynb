{
 "cells": [
  {
   "cell_type": "code",
   "execution_count": 1,
   "id": "e6394845-e08a-4293-b167-e652e9363acd",
   "metadata": {
    "tags": []
   },
   "outputs": [],
   "source": [
    "import numpy as np"
   ]
  },
  {
   "cell_type": "code",
   "execution_count": 2,
   "id": "6ab044ea-20ae-45dc-afad-d5b9897c973a",
   "metadata": {
    "tags": []
   },
   "outputs": [],
   "source": [
    "n = 144"
   ]
  },
  {
   "cell_type": "code",
   "execution_count": 3,
   "id": "c9a7fc73-10cd-46c6-ab0a-d49ea17bdc93",
   "metadata": {
    "tags": []
   },
   "outputs": [
    {
     "name": "stdout",
     "output_type": "stream",
     "text": [
      "(144, 144)\n"
     ]
    }
   ],
   "source": [
    "h0 = np.sort(np.pi*np.random.uniform(size=n))\n",
    "h0 = np.diag(h0)\n",
    "print(h0.shape)"
   ]
  },
  {
   "cell_type": "code",
   "execution_count": 4,
   "id": "92328bb1-7af1-4549-8c79-5a3fe85716c1",
   "metadata": {
    "tags": []
   },
   "outputs": [],
   "source": [
    "mraw = 2*np.random.uniform(size=n**2) - 1.0\n",
    "mraw = mraw.reshape((n,n))\n",
    "m = 0.5*(mraw + mraw.T)"
   ]
  },
  {
   "cell_type": "code",
   "execution_count": 5,
   "id": "1d4e4c5c-28f3-4917-9c4b-08ef228f56d7",
   "metadata": {
    "tags": []
   },
   "outputs": [
    {
     "name": "stdout",
     "output_type": "stream",
     "text": [
      "(144, 144)\n",
      "0.0\n"
     ]
    }
   ],
   "source": [
    "print(m.shape)\n",
    "print(np.linalg.norm(m-m.T))"
   ]
  },
  {
   "cell_type": "code",
   "execution_count": 6,
   "id": "802f7ecc-c324-4b03-988a-852a2987138f",
   "metadata": {
    "tags": []
   },
   "outputs": [],
   "source": [
    "alpha = np.eye(n)[0]\n",
    "beta = np.eye(n)[n-1]"
   ]
  },
  {
   "cell_type": "code",
   "execution_count": 7,
   "id": "a9104263-689f-43e4-aae5-2fc318bdb459",
   "metadata": {
    "tags": []
   },
   "outputs": [],
   "source": [
    "np.savez('system144.npz',h0=h0,m=m,alpha=alpha,beta=beta)"
   ]
  },
  {
   "cell_type": "code",
   "execution_count": null,
   "id": "0ca9b595-a274-4bbb-82d0-714eb4400bdc",
   "metadata": {},
   "outputs": [],
   "source": []
  }
 ],
 "metadata": {
  "kernelspec": {
   "display_name": "jax2024",
   "language": "python",
   "name": "jax2024"
  },
  "language_info": {
   "codemirror_mode": {
    "name": "ipython",
    "version": 3
   },
   "file_extension": ".py",
   "mimetype": "text/x-python",
   "name": "python",
   "nbconvert_exporter": "python",
   "pygments_lexer": "ipython3",
   "version": "3.12.0"
  }
 },
 "nbformat": 4,
 "nbformat_minor": 5
}
