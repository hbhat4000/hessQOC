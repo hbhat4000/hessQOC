{
 "cells": [
  {
   "cell_type": "code",
   "execution_count": 1,
   "id": "459170dc-07c5-4f2d-83cc-c871a87023f9",
   "metadata": {
    "tags": []
   },
   "outputs": [],
   "source": [
    "from scipy.optimize import rosen, rosen_der, rosen_hess\n",
    "import logging\n",
    "import fides\n",
    "import numpy as np"
   ]
  },
  {
   "cell_type": "code",
   "execution_count": 2,
   "id": "0079a801-10be-4407-a514-88b78e0c6a95",
   "metadata": {
    "tags": []
   },
   "outputs": [],
   "source": [
    "logging.basicConfig(filename='test.log', encoding='utf-8', level=logging.INFO)"
   ]
  },
  {
   "cell_type": "code",
   "execution_count": 3,
   "id": "48226520-d428-4f53-a8a5-57bd2840794e",
   "metadata": {
    "tags": []
   },
   "outputs": [],
   "source": [
    "def obj(x):\n",
    "    return rosen(x), rosen_der(x) # , rosen_hess(x)"
   ]
  },
  {
   "cell_type": "code",
   "execution_count": 4,
   "id": "54b3ebc6-6bdd-42e2-8ca3-88744fdee8ef",
   "metadata": {},
   "outputs": [],
   "source": [
    "opt = fides.Optimizer(\n",
    "    obj, ub=np.asarray([np.inf, 1.5]), lb=np.asarray([-1.5, -np.inf]), hessian_update=fides.hessian_approximation.BG(), verbose=logging.INFO,\n",
    ")"
   ]
  },
  {
   "cell_type": "code",
   "execution_count": 5,
   "id": "b966c62a-9425-476c-8288-1de24c5ac52e",
   "metadata": {
    "tags": []
   },
   "outputs": [
    {
     "name": "stderr",
     "output_type": "stream",
     "text": [
      "2025-02-11 14:07:52 fides(INFO)  iter|    fval   |   fdiff  | tr ratio |tr radius|  ||g||  | ||step||| step|acc\n",
      "2025-02-11 14:07:52 fides(INFO)     0| +1.00E+00 |    NaN   |    NaN   | 1.0E+00 | 2.0E+00 |   NaN   | NaN |1\n",
      "2025-02-11 14:07:52 fides(INFO)     1| +1.00E+00 | +9.9E+01 | -6.6E+01 | 1.0E+00 | 2.0E+00 | 1.0E+00 |  2d |0\n",
      "2025-02-11 14:07:52 fides(INFO)     2| +9.53E-01 | -4.7E-02 | +1.0E-01 | 2.5E-01 | 2.0E+00 | 2.5E-01 |  2d |1\n",
      "2025-02-11 14:07:52 fides(INFO)     3| +6.33E-01 | -3.2E-01 | +3.3E-01 | 6.2E-02 | 1.3E+01 | 7.7E-02 |  2d |1\n",
      "2025-02-11 14:07:52 fides(INFO)     4| +5.00E-01 | -1.3E-01 | +1.1E+00 | 6.2E-02 | 5.4E+00 | 6.2E-02 |  2d |1\n",
      "2025-02-11 14:07:52 fides(INFO)     5| +3.98E-01 | -1.0E-01 | +6.5E-01 | 1.2E-01 | 1.2E+00 | 1.3E-01 |  2d |1\n",
      "2025-02-11 14:07:52 fides(INFO)     6| +3.79E-01 | -1.9E-02 | +4.4E-01 | 1.2E-01 | 4.9E+00 | 2.3E-02 |  2d |1\n",
      "2025-02-11 14:07:52 fides(INFO)     7| +3.49E-01 | -3.0E-02 | +1.9E+00 | 1.2E-01 | 1.9E+00 | 2.9E-02 |  2d |1\n",
      "2025-02-11 14:07:52 fides(INFO)     8| +2.61E-01 | -8.8E-02 | +8.7E-01 | 1.2E-01 | 1.3E+00 | 1.2E-01 |  2d |1\n",
      "2025-02-11 14:07:52 fides(INFO)     9| +2.43E-01 | -1.8E-02 | +9.0E-01 | 2.5E-01 | 3.3E+00 | 1.4E-02 |  2d |1\n",
      "2025-02-11 14:07:52 fides(INFO)  iter|    fval   |   fdiff  | tr ratio |tr radius|  ||g||  | ||step||| step|acc\n",
      "2025-02-11 14:07:52 fides(INFO)    10| +2.43E-01 | +7.2E-01 | -7.1E-01 | 2.5E-01 | 1.2E+00 | 2.5E-01 |  2d |0\n",
      "2025-02-11 14:07:52 fides(INFO)    11| +2.26E-01 | -1.7E-02 | +1.6E-01 | 6.2E-02 | 1.2E+00 | 6.3E-02 |  2d |1\n",
      "2025-02-11 14:07:52 fides(INFO)    12| +1.95E-01 | -3.1E-02 | +9.3E-01 | 1.6E-02 | 4.7E+00 | 1.7E-02 |  2d |1\n",
      "2025-02-11 14:07:52 fides(INFO)    13| +1.78E-01 | -1.7E-02 | +6.0E-01 | 3.1E-02 | 8.4E-01 | 3.2E-02 |  2d |1\n",
      "2025-02-11 14:07:52 fides(INFO)    14| +1.57E-01 | -2.1E-02 | +1.2E+00 | 3.1E-02 | 1.5E+00 | 3.7E-02 |  2d |1\n",
      "2025-02-11 14:07:52 fides(INFO)    15| +1.28E-01 | -2.9E-02 | +8.3E-01 | 6.2E-02 | 5.1E-01 | 6.5E-02 |  2d |1\n",
      "2025-02-11 14:07:52 fides(INFO)    16| +9.27E-02 | -3.5E-02 | +1.6E+00 | 1.2E-01 | 1.3E+00 | 8.9E-02 |  2d |1\n",
      "2025-02-11 14:07:52 fides(INFO)    17| +6.06E-02 | -3.2E-02 | +6.5E-01 | 1.2E-01 | 1.0E+00 | 1.4E-01 |  2d |1\n",
      "2025-02-11 14:07:52 fides(INFO)    18| +6.06E-02 | +1.1E-02 | -1.5E+00 | 1.2E-01 | 3.5E+00 | 6.3E-02 |  2d |0\n",
      "2025-02-11 14:07:52 fides(INFO)    19| +5.31E-02 | -7.5E-03 | +5.4E-01 | 1.4E-02 | 3.5E+00 | 1.4E-02 |  2d |1\n",
      "2025-02-11 14:07:52 fides(INFO)  iter|    fval   |   fdiff  | tr ratio |tr radius|  ||g||  | ||step||| step|acc\n",
      "2025-02-11 14:07:52 fides(INFO)    20| +4.99E-02 | -3.2E-03 | +1.8E-01 | 1.4E-02 | 2.4E+00 | 1.4E-02 |  2d |1\n",
      "2025-02-11 14:07:52 fides(INFO)    21| +4.58E-02 | -4.2E-03 | +8.9E-01 | 3.5E-03 | 2.3E+00 | 3.7E-03 |  2d |1\n",
      "2025-02-11 14:07:52 fides(INFO)    22| +4.42E-02 | -1.5E-03 | +1.0E+00 | 7.1E-03 | 2.3E-01 | 6.8E-03 |  2d |1\n",
      "2025-02-11 14:07:52 fides(INFO)    23| +4.12E-02 | -3.0E-03 | +1.0E+00 | 1.4E-02 | 2.2E-01 | 1.4E-02 |  2d |1\n",
      "2025-02-11 14:07:52 fides(INFO)    24| +3.57E-02 | -5.6E-03 | +1.0E+00 | 2.8E-02 | 2.2E-01 | 2.7E-02 |  2d |1\n",
      "2025-02-11 14:07:52 fides(INFO)    25| +2.55E-02 | -1.0E-02 | +9.6E-01 | 5.7E-02 | 2.4E-01 | 5.7E-02 |  2d |1\n",
      "2025-02-11 14:07:52 fides(INFO)    26| +1.29E-02 | -1.3E-02 | +6.3E-01 | 1.1E-01 | 5.9E-01 | 1.1E-01 |  2d |1\n",
      "2025-02-11 14:07:52 fides(INFO)    27| +1.11E-02 | -1.8E-03 | +7.1E-01 | 1.1E-01 | 1.9E+00 | 3.7E-03 |  2d |1\n",
      "2025-02-11 14:07:52 fides(INFO)    28| +1.06E-02 | -5.4E-04 | +2.0E+00 | 1.1E-01 | 4.3E-01 | 5.0E-03 |  2d |1\n",
      "2025-02-11 14:07:52 fides(INFO)    29| +3.25E-03 | -7.3E-03 | +1.1E+00 | 1.1E-01 | 3.6E-01 | 1.1E-01 |  2d |1\n",
      "2025-02-11 14:07:52 fides(INFO)  iter|    fval   |   fdiff  | tr ratio |tr radius|  ||g||  | ||step||| step|acc\n",
      "2025-02-11 14:07:52 fides(INFO)    30| +2.84E-03 | -4.1E-04 | +4.5E-01 | 2.3E-01 | 1.3E+00 | 9.0E-03 |  2d |1\n",
      "2025-02-11 14:07:52 fides(INFO)    31| +2.46E-03 | -3.8E-04 | +1.9E+00 | 2.3E-01 | 3.1E-01 | 7.2E-03 |  2d |1\n",
      "2025-02-11 14:07:52 fides(INFO)    32| +8.81E-04 | -1.6E-03 | +1.6E+00 | 2.3E-01 | 1.8E-01 | 4.3E-02 |  2d |1\n",
      "2025-02-11 14:07:52 fides(INFO)    33| +3.33E-04 | -5.5E-04 | +1.5E+00 | 2.3E-01 | 1.0E-01 | 2.5E-02 |  2d |1\n",
      "2025-02-11 14:07:52 fides(INFO)    34| +1.03E-04 | -2.3E-04 | +1.5E+00 | 2.3E-01 | 1.1E-01 | 1.8E-02 |  2d |1\n",
      "2025-02-11 14:07:52 fides(INFO)    35| +1.53E-05 | -8.8E-05 | +3.8E-01 | 2.3E-01 | 4.1E-02 | 2.8E-02 |  2d |1\n",
      "2025-02-11 14:07:52 fides(INFO)    36| +1.53E-05 | +4.7E-06 | -2.6E-01 | 2.3E-01 | 1.3E-01 | 1.5E-02 |  2d |0\n",
      "2025-02-11 14:07:52 fides(INFO)    37| +2.21E-06 | -1.3E-05 | +4.2E-01 | 5.0E-03 | 1.3E-01 | 3.3E-03 |  2d |1\n",
      "2025-02-11 14:07:52 fides(INFO)    38| +1.70E-06 | -5.0E-07 | +5.4E-01 | 5.0E-03 | 4.6E-02 | 5.2E-04 |  2d |1\n",
      "2025-02-11 14:07:52 fides(INFO)    39| +1.46E-06 | -2.4E-07 | +1.9E+00 | 5.0E-03 | 4.8E-03 | 2.1E-04 |  2d |1\n",
      "2025-02-11 14:07:52 fides(INFO)  iter|    fval   |   fdiff  | tr ratio |tr radius|  ||g||  | ||step||| step|acc\n",
      "2025-02-11 14:07:52 fides(INFO)    40| +7.87E-09 | -1.5E-06 | +9.3E-01 | 5.0E-03 | 4.6E-03 | 2.9E-03 |  2d |1\n",
      "2025-02-11 14:07:52 fides(INFO)    41| +1.96E-09 | -5.9E-09 | +1.5E+00 | 5.0E-03 | 4.6E-04 | 9.9E-05 |  2d |1\n",
      "2025-02-11 14:07:52 fides(INFO) Stopping as function difference 5.91E-09 was smaller than specified tolerances (atol=1.00E-08, rtol=1.00E-08)\n"
     ]
    }
   ],
   "source": [
    "opt_f, opt_x, opt_grad, opt_hess = opt.minimize(np.asarray([0, 0]))"
   ]
  },
  {
   "cell_type": "code",
   "execution_count": null,
   "id": "f7e42abb-d4e9-4d88-8f13-21225f33daad",
   "metadata": {},
   "outputs": [],
   "source": []
  }
 ],
 "metadata": {
  "kernelspec": {
   "display_name": "jax2024",
   "language": "python",
   "name": "jax2024"
  },
  "language_info": {
   "codemirror_mode": {
    "name": "ipython",
    "version": 3
   },
   "file_extension": ".py",
   "mimetype": "text/x-python",
   "name": "python",
   "nbconvert_exporter": "python",
   "pygments_lexer": "ipython3",
   "version": "3.12.0"
  }
 },
 "nbformat": 4,
 "nbformat_minor": 5
}
