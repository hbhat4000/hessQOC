{
 "cells": [
  {
   "cell_type": "code",
   "execution_count": 1,
   "id": "e89fa832-fc27-4ae9-b5fe-5a5160aaf141",
   "metadata": {
    "tags": []
   },
   "outputs": [],
   "source": [
    "import numpy as np\n",
    "import matplotlib.pyplot as plt"
   ]
  },
  {
   "cell_type": "code",
   "execution_count": 5,
   "id": "ce6b881c-5939-4d07-aebd-557d0aef47bd",
   "metadata": {
    "tags": []
   },
   "outputs": [],
   "source": [
    "# matplotlib, with Agg to save to disk\n",
    "import matplotlib\n",
    "matplotlib.use('Agg')\n",
    "\n",
    "plt.rcParams['pdf.fonttype'] = 42"
   ]
  },
  {
   "cell_type": "code",
   "execution_count": 9,
   "id": "8df6d05e-db70-44f3-bdef-e0af1c3dd891",
   "metadata": {
    "tags": []
   },
   "outputs": [],
   "source": [
    "# set plot font+size\n",
    "font = {'weight' : 'bold', 'size' : 14}\n",
    "matplotlib.rc('font', **font)\n",
    "\n",
    "numparams = 200\n",
    "\n",
    "plt.figure(figsize=(5,6))\n",
    "allevals = np.zeros((2,2,numparams))\n",
    "mols = ['heh+', 'h2']\n",
    "bases = ['sto-3g', '6-31g']\n",
    "for ii in range(2):\n",
    "    for jj in range(2):\n",
    "        allevals[ii,jj,:] = np.load('./output/bestcompare_'+mols[ii]+'_'+bases[jj]+'.npz')['evals']\n",
    "        plt.plot(np.arange(numparams)+1,allevals[ii,jj,:],label=mols[ii]+', '+bases[jj])\n",
    "\n",
    "plt.yscale('log')\n",
    "# plt.yscale('symlog')\n",
    "plt.title('Maximal model with ' + r\"$|\\theta| = J = 200$\")\n",
    "plt.ylabel('eigenvalues of final Hessian')\n",
    "plt.grid()\n",
    "# plt.legend(loc='center right',bbox_to_anchor=(1.75, 0.5))\n",
    "plt.legend(loc='upper left')\n",
    "# negexp = np.log(-np.min(allevals))/np.log(10)+1\n",
    "posexp = np.log(np.max(allevals))/np.log(10)+1\n",
    "# plt.yticks(np.concatenate([np.flipud(-10**np.arange(negexp)),10**np.arange(posexp)]))\n",
    "# plt.xticks([1, 10, 20, 30, 40, 53])\n",
    "# plt.savefig('NNeigs_14441.pdf',bbox_inches = \"tight\")\n",
    "plt.savefig('./output/bestcompare_eigs.pdf',bbox_inches = \"tight\")\n",
    "plt.close()"
   ]
  },
  {
   "cell_type": "code",
   "execution_count": null,
   "id": "3d01ab40-97d2-4c37-9c38-f4f87eeb264e",
   "metadata": {},
   "outputs": [],
   "source": []
  }
 ],
 "metadata": {
  "kernelspec": {
   "display_name": "jax2024",
   "language": "python",
   "name": "jax2024"
  },
  "language_info": {
   "codemirror_mode": {
    "name": "ipython",
    "version": 3
   },
   "file_extension": ".py",
   "mimetype": "text/x-python",
   "name": "python",
   "nbconvert_exporter": "python",
   "pygments_lexer": "ipython3",
   "version": "3.12.0"
  }
 },
 "nbformat": 4,
 "nbformat_minor": 5
}
