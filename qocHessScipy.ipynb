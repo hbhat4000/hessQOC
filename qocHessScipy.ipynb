{
 "cells": [
  {
   "cell_type": "code",
   "execution_count": 1,
   "id": "27d04d0f-0c4b-4ad9-bc0b-6601bec71432",
   "metadata": {
    "tags": []
   },
   "outputs": [],
   "source": [
    "import os\n",
    "os.environ[\"XLA_PYTHON_CLIENT_PREALLOCATE\"]=\"false\"\n",
    "\n",
    "import jax\n",
    "jax.config.update(\"jax_enable_x64\", True)"
   ]
  },
  {
   "cell_type": "code",
   "execution_count": 2,
   "id": "adf9af5c-c953-4848-b5a8-7316dd0824e7",
   "metadata": {
    "tags": []
   },
   "outputs": [],
   "source": [
    "import jax.numpy as jnp\n",
    "from jax import jit, grad, jacobian, lax, vmap\n",
    "\n",
    "import numpy as np\n",
    "import matplotlib.pyplot as plt"
   ]
  },
  {
   "cell_type": "code",
   "execution_count": 3,
   "id": "598aa210-157a-48bb-886e-b8ed9d6ab861",
   "metadata": {
    "tags": []
   },
   "outputs": [],
   "source": [
    "import time\n",
    "import scipy.optimize as so"
   ]
  },
  {
   "cell_type": "code",
   "execution_count": 111,
   "id": "c6a929d3-bc28-43b6-9555-a914d36c8b30",
   "metadata": {
    "tags": []
   },
   "outputs": [
    {
     "name": "stdout",
     "output_type": "stream",
     "text": [
      "0.0\n",
      "0.0\n"
     ]
    }
   ],
   "source": [
    "n = 3\n",
    "dt = 1e-2\n",
    "numsteps = 1000\n",
    "rho = 1e6\n",
    "\n",
    "h0 = np.load('workingh0.npz')['h0']\n",
    "m = jnp.array([[1.0,1.5,-1.0],[1.5,1.0,0.0],[-1.0,0.0,1.0]])\n",
    "\n",
    "# h0 = jnp.array(np.diag(np.sort(np.pi*np.random.uniform(size=n))))\n",
    "# mraw = np.random.normal(size=n**2).reshape((n,n)) + 1j*np.random.normal(size=n**2).reshape((n,n))\n",
    "# m = jnp.array(0.5*(mraw + mraw.conj().T))\n",
    "\n",
    "print(jnp.mean(jnp.abs(h0 - h0.T)))\n",
    "print(jnp.mean(jnp.abs(m - m.conj().T)))"
   ]
  },
  {
   "cell_type": "code",
   "execution_count": 112,
   "id": "4165ece3-bd2f-40fa-8c27-7c9105b732aa",
   "metadata": {
    "tags": []
   },
   "outputs": [],
   "source": [
    "# (d/dx) \\exp(-1j*dt*(h0 + x m))\n",
    "# where you pass in the eigenvectors and eigenvalues of (h0 + x m)\n",
    "def firstderiv(evecs, evals):\n",
    "    amat = evecs.conj().T @ (-1j*dt*m) @ evecs\n",
    "    dvec = -1j*dt*evals\n",
    "    dvec1, dvec2 = jnp.meshgrid(dvec, dvec)\n",
    "    mask = jnp.ones((n,n)) - jnp.eye(n)\n",
    "    numer = jnp.exp(dvec1) - jnp.exp(dvec2)\n",
    "    denom = (dvec1 - dvec2)*mask + jnp.eye(n)\n",
    "    derivmat = mask*numer/denom + jnp.diag(jnp.exp(dvec))\n",
    "    qmat = evecs @ (amat * derivmat) @ evecs.conj().T\n",
    "    return qmat"
   ]
  },
  {
   "cell_type": "code",
   "execution_count": 113,
   "id": "c6b2cecc-9342-4def-8c48-3f1795762089",
   "metadata": {
    "tags": []
   },
   "outputs": [],
   "source": [
    "mask = jnp.ones((n,n)) - jnp.eye(n)\n",
    "\n",
    "# (d^2/dx^2) \\exp(-1j*dt*(h0 + x m))\n",
    "# where you pass in the eigenvectors and eigenvalues of (h0 + x m)\n",
    "def secondderiv(evecs, rawevals):\n",
    "    evals = (-1j*dt)*rawevals\n",
    "    a = (evecs.conj().T @ m @ evecs) * (-1j*dt)\n",
    "    expevals = jnp.exp(evals)\n",
    "    evals1, evals2 = jnp.meshgrid(evals, evals, indexing='ij')\n",
    "    expevals1, expevals2 = jnp.meshgrid(expevals, expevals, indexing='ij')\n",
    "    # first D_{ii}=D_{kk} term\n",
    "    diagterm1 = expevals1*jnp.diag(jnp.diag(a*a))\n",
    "    # second D_{ii}=D_{kk} term\n",
    "    numer1 = -expevals1 + evals1*expevals1 - evals2*expevals1 + expevals2\n",
    "    denom1 = (evals1-evals2)**2 + jnp.eye(n)\n",
    "    maska = mask * a\n",
    "    diagterm2 = jnp.eye(n) * 2*((numer1/denom1 * maska) @ maska)\n",
    "    # first D_{ii}!=D_{kk} term\n",
    "    frac1 = numer1/denom1 * mask\n",
    "    term1 = frac1*2*(jnp.diag(a)*a).conj().T\n",
    "    # second D_{ii}!=D_{kk} term\n",
    "    numer2 = -expevals1 + evals1*expevals2 - evals2*expevals2 + expevals2\n",
    "    denom2 = (evals1-evals2)**2 + jnp.eye(n)\n",
    "    frac2 = numer2/denom2 * mask\n",
    "    term2 = frac2*2*(a*jnp.diag(a))\n",
    "    # third D_{ii}!=D_{kk} term\n",
    "    matij = mask*(1.0/((evals1-evals2) + jnp.eye(n)))\n",
    "    matind1a = (expevals1 * matij) * a\n",
    "    matind2a = (expevals2 * matij) * a\n",
    "    term3 = 2*mask*((matind2a) @ (matij*a))\n",
    "    term3 -= 2*matij*( matind1a @ maska )\n",
    "    term3 -= 2*matij*( maska @ matind2a ) \n",
    "    # put it all together\n",
    "    # udagru stands for \"U^{\\dagger} R U\"\n",
    "    udagru = term1 - term2 - term3 + diagterm1 + diagterm2\n",
    "    return evecs @ udagru @ evecs.conj().T"
   ]
  },
  {
   "cell_type": "code",
   "execution_count": 114,
   "id": "0176d3aa-118f-4fb0-900e-6d23337e54da",
   "metadata": {
    "tags": []
   },
   "outputs": [],
   "source": [
    "def gradal(l,expderiv,a,matexp):\n",
    "    ea = expderiv @ a\n",
    "    gradvecs = [(l==0)*ea + (l>0)*jnp.zeros(n, dtype=jnp.complex128)]\n",
    "    for k in range(1,numsteps):\n",
    "        thisvec = (k<l)*jnp.zeros(n, dtype=jnp.complex128)\n",
    "        thisvec += (k==l)*ea\n",
    "        thisvec += (k>l)*(matexp[k] @ gradvecs[k-1])\n",
    "        gradvecs.append( thisvec )\n",
    "    \n",
    "    # zeroblock = jnp.zeros((l, n), dtype=jnp.complex128)\n",
    "    return jnp.stack(gradvecs, axis=0)"
   ]
  },
  {
   "cell_type": "code",
   "execution_count": 115,
   "id": "608eb35c-93f4-4cc5-a48b-d8f5f14c74ef",
   "metadata": {
    "tags": []
   },
   "outputs": [],
   "source": [
    "def onehessrow(lamb,mu,ed,a,ga):\n",
    "    part1 = jnp.real(mu @ ed @ a)\n",
    "    part2 = jnp.real(lamb.T @ ed @ ga.T)\n",
    "    return part1 + part2"
   ]
  },
  {
   "cell_type": "code",
   "execution_count": 116,
   "id": "50f5a286-267d-4198-a306-b4a19e5b5697",
   "metadata": {},
   "outputs": [],
   "source": [
    "def onematexp(evecs,expevals):\n",
    "    return evecs @ jnp.diag(expevals) @ evecs.conj().T"
   ]
  },
  {
   "cell_type": "code",
   "execution_count": 117,
   "id": "5dd6bfea-a7fc-4078-9cb5-95770d56c3bf",
   "metadata": {
    "tags": []
   },
   "outputs": [],
   "source": [
    "manyeigh = vmap(jnp.linalg.eigh)\n",
    "vfd = vmap(firstderiv, in_axes=(0,0))\n",
    "vsd = vmap(secondderiv, in_axes=(0,0))\n",
    "vgradal = vmap(gradal, in_axes=(0,0,0,None))\n",
    "vohr = vmap(onehessrow)\n",
    "vonematexp = vmap(onematexp)"
   ]
  },
  {
   "cell_type": "code",
   "execution_count": 118,
   "id": "22830383-41e7-471d-814f-55fb9da43a5f",
   "metadata": {
    "tags": []
   },
   "outputs": [],
   "source": [
    "# given initial condition and forcing f, return trajectory a\n",
    "def propSchro(f, a0):\n",
    "    manyhams = jnp.expand_dims(h0,0) + jnp.expand_dims(f,(1,2))*jnp.expand_dims(m,0)\n",
    "    allevals, allevecs = manyeigh(manyhams)\n",
    "    expevals = jnp.exp(-1j*dt*allevals)\n",
    "    matexp = vonematexp(allevecs,expevals)\n",
    "    \n",
    "    a = jnp.concatenate([jnp.expand_dims(a0,0), jnp.zeros((numsteps, n), dtype=jnp.complex128)])\n",
    "    def amatbody(k, am):\n",
    "        return am.at[k+1].set( matexp[k] @ am[k] )\n",
    "    \n",
    "    # forward trajectory\n",
    "    a = lax.fori_loop(0, numsteps, amatbody, a)\n",
    "    return a\n",
    "\n",
    "# given forcing f, IC a0, FC alpha, return cost\n",
    "def cost(f, a0, alpha):\n",
    "    a = propSchro(f, a0)\n",
    "    resid = a[-1] - alpha\n",
    "    pen = jnp.real(jnp.sum(resid * resid.conj()))\n",
    "    return 0.5*jnp.sum(f**2) + 0.5*rho*pen"
   ]
  },
  {
   "cell_type": "code",
   "execution_count": 119,
   "id": "a90b6562-ba20-4a80-b7f6-4010bab6376f",
   "metadata": {
    "tags": []
   },
   "outputs": [],
   "source": [
    "# adjoint method\n",
    "def adjgrad(f, a0, alpha):\n",
    "    manyhams = jnp.expand_dims(h0,0) + jnp.expand_dims(f,(1,2))*jnp.expand_dims(m,0)\n",
    "    allevals, allevecs = manyeigh(manyhams)\n",
    "    expevals = jnp.exp(-1j*dt*allevals)\n",
    "    matexp = vonematexp(allevecs,expevals)\n",
    "    \n",
    "    a = jnp.concatenate([jnp.expand_dims(a0,0), jnp.zeros((numsteps, n), dtype=jnp.complex128)])\n",
    "    def amatbody(k, am):\n",
    "        return am.at[k+1].set( matexp[k] @ am[k] )\n",
    "    \n",
    "    # forward trajectory\n",
    "    a = lax.fori_loop(0, numsteps, amatbody, a)\n",
    "    \n",
    "    # initialize lambda\n",
    "    resid = a[-1] - alpha\n",
    "    \n",
    "    # we are storing \"lambda conjugate\" throughout this calculation\n",
    "    alllamb = jnp.concatenate([jnp.expand_dims(rho*resid.conj(),0), jnp.zeros((numsteps, n), dtype=jnp.complex128)])\n",
    "    def lambbody(i, al):\n",
    "        k = (numsteps-1) - i\n",
    "        return al.at[i+1].set( al[i] @ matexp[k] )\n",
    "    \n",
    "    # backward trajectory\n",
    "    alllamb = lax.fori_loop(0, numsteps, lambbody, alllamb)\n",
    "    alllamb = jnp.flipud(alllamb)\n",
    "    \n",
    "    # first critical calculation\n",
    "    allexpderivs = vfd(allevecs, allevals)\n",
    "    \n",
    "    # output gradient we want\n",
    "    ourgrad = jnp.einsum('ai,aij,aj->a',alllamb[1:],allexpderivs,a[:-1])\n",
    "    thegrad = f + jnp.real(ourgrad)\n",
    "    \n",
    "    return thegrad"
   ]
  },
  {
   "cell_type": "code",
   "execution_count": 120,
   "id": "6580ed8a-7fba-4490-9c15-c81f8931c280",
   "metadata": {
    "tags": []
   },
   "outputs": [],
   "source": [
    "# second-order adjoint method\n",
    "def adjhess(f, a0, alpha):\n",
    "    manyhams = jnp.expand_dims(h0,0) + jnp.expand_dims(f,(1,2))*jnp.expand_dims(m,0)\n",
    "    allevals, allevecs = manyeigh(manyhams)\n",
    "    expevals = jnp.exp(-1j*dt*allevals)\n",
    "    matexp = vonematexp(allevecs,expevals)\n",
    "\n",
    "    a = jnp.concatenate([jnp.expand_dims(a0,0), jnp.zeros((numsteps, n), dtype=jnp.complex128)])\n",
    "    def amatbody(k, am):\n",
    "        return am.at[k+1].set( matexp[k] @ am[k] )\n",
    "    \n",
    "    # forward trajectory\n",
    "    a = lax.fori_loop(0, numsteps, amatbody, a)\n",
    "    \n",
    "    # initialize lambda\n",
    "    resid = a[-1] - alpha\n",
    "    \n",
    "    # we are storing \"lambda conjugate\" throughout this calculation\n",
    "    alllamb = jnp.concatenate([jnp.expand_dims(rho*resid.conj(),0), jnp.zeros((numsteps, n), dtype=jnp.complex128)])\n",
    "    def lambbody(i, al):\n",
    "        k = (numsteps-1) - i\n",
    "        return al.at[i+1].set( al[i] @ matexp[k] )\n",
    "    \n",
    "    # backward trajectory\n",
    "    alllamb = lax.fori_loop(0, numsteps, lambbody, alllamb)\n",
    "    alllamb = jnp.flipud(alllamb)\n",
    "    \n",
    "    # first critical calculation\n",
    "    allexpderivs = vfd(allevecs, allevals)\n",
    "    \n",
    "    # compute gradient of a w.r.t. f\n",
    "    # grada tensor stores the gradient of the n-dimensional vector a[k] with respect to f[l]\n",
    "    lvec = jnp.arange(numsteps,dtype=jnp.int16)\n",
    "    grada = vgradal(lvec, allexpderivs, a[:-1], matexp)\n",
    "    grada = jnp.transpose(grada,(1,0,2))\n",
    "     \n",
    "    # create and propagate mu\n",
    "    # as before, let us store and propagate \"mu conjugate\"\n",
    "    allmu0 = rho*grada[numsteps-1,:,:].conj()\n",
    "    allmu = jnp.concatenate([jnp.expand_dims(allmu0,0),\n",
    "                             jnp.zeros((numsteps, numsteps, n), dtype=jnp.complex128)])\n",
    "    allprevmu2 = jnp.flipud(jnp.outer(jnp.ones(n),jnp.eye(numsteps)).T.reshape((numsteps,numsteps,n)))\n",
    "    def mubody(kk, amu):\n",
    "        k = (numsteps-1) - kk\n",
    "        prevmu1 = amu[kk] @ matexp[k]\n",
    "        prevmu2 = allprevmu2[kk] * jnp.expand_dims(alllamb[k+1].T @ allexpderivs[k],0)\n",
    "        return amu.at[kk+1].set( prevmu1+prevmu2 )\n",
    "\n",
    "    # backward trajectory\n",
    "    allmu = lax.fori_loop(0, numsteps, mubody, allmu)\n",
    "    allmu = jnp.flipud(allmu)\n",
    "        \n",
    "    # second critical calculation\n",
    "    allexpderivs2 = vsd(allevecs, allevals)\n",
    "    \n",
    "    # compute Hessian\n",
    "    gradapad = jnp.concatenate([jnp.zeros((1,numsteps,n),dtype=jnp.complex128), grada[:-1,:,:]])\n",
    "    parts12 = vohr(alllamb[1:],allmu[1:],allexpderivs,a[:-1],gradapad)\n",
    "    part3 = jnp.diag(jnp.real(jnp.einsum('ai,aij,aj->a',alllamb[1:],allexpderivs2,a[:-1])))\n",
    "    thehess = jnp.eye(numsteps) + parts12 + part3\n",
    "    \n",
    "    return thehess"
   ]
  },
  {
   "cell_type": "code",
   "execution_count": 121,
   "id": "1199bfe0-2d89-47a5-ba6e-d1c6f026d2c3",
   "metadata": {
    "tags": []
   },
   "outputs": [],
   "source": [
    "jcost = jit(cost)\n",
    "jadjgrad = jit(adjgrad)\n",
    "jadjhess = jit(adjhess)"
   ]
  },
  {
   "cell_type": "code",
   "execution_count": 122,
   "id": "65f611e6-345d-4326-b8a2-0ed493eae5b6",
   "metadata": {
    "tags": []
   },
   "outputs": [],
   "source": [
    "mya0 = jnp.eye(n)[0]\n",
    "# myalpha = jnp.array([jnp.sqrt(0.0),0,jnp.sqrt(1.0)])\n",
    "myalpha = jnp.abs(jnp.array(np.random.normal(size=n)))\n",
    "myalpha /= jnp.linalg.norm(myalpha)"
   ]
  },
  {
   "cell_type": "code",
   "execution_count": 123,
   "id": "3712675f-29af-4dfd-a179-632f7245d3be",
   "metadata": {
    "tags": []
   },
   "outputs": [],
   "source": [
    "ftest = jnp.array(np.random.normal(size=numsteps))\n",
    "mycost = jcost(ftest, mya0, myalpha)\n",
    "mygrad = jadjgrad(ftest, mya0, myalpha)\n",
    "myhess = jadjhess(ftest, mya0, myalpha)"
   ]
  },
  {
   "cell_type": "code",
   "execution_count": 124,
   "id": "0ad7d2a1-3848-4452-a8ed-ca4511178b04",
   "metadata": {
    "tags": []
   },
   "outputs": [],
   "source": [
    "# gradcost = grad(cost)\n",
    "# jgradcost = jit(gradcost)\n",
    "# jaxgrad = jgradcost(ftest, mya0, myalpha)\n",
    "\n",
    "# numruns = 100\n",
    "# mytimes = np.zeros(numruns)\n",
    "# jaxtimes = np.zeros(numruns)\n",
    "\n",
    "# for j in range(numruns):\n",
    "#     start = time.time()\n",
    "#     myhess = jadjgrad(ftest, mya0, myalpha)\n",
    "#     end = time.time()\n",
    "#     mytimes[j] = end-start\n",
    "\n",
    "# for j in range(numruns):\n",
    "#     start = time.time()\n",
    "#     myhess = jgradcost(ftest, mya0, myalpha)\n",
    "#     end = time.time()\n",
    "#     jaxtimes[j] = end-start\n",
    "\n",
    "# print(np.mean(mytimes))\n",
    "# print(np.mean(jaxtimes))\n",
    "# print(np.mean(jaxtimes)/np.mean(mytimes))\n",
    "\n",
    "# hesscost = jacobian(gradcost)\n",
    "# jhesscost = jit(hesscost)\n",
    "# jaxhess = jhesscost(ftest, mya0, myalpha)\n",
    "\n",
    "# numruns = 100\n",
    "# mytimes = np.zeros(numruns)\n",
    "# jaxtimes = np.zeros(numruns)\n",
    "\n",
    "# for j in range(numruns):\n",
    "#     start = time.time()\n",
    "#     myhess = jadjhess(ftest, mya0, myalpha)\n",
    "#     end = time.time()\n",
    "#     mytimes[j] = end-start\n",
    "\n",
    "# for j in range(numruns):\n",
    "#     start = time.time()\n",
    "#     myhess = jhesscost(ftest, mya0, myalpha)\n",
    "#     end = time.time()\n",
    "#     jaxtimes[j] = end-start\n",
    "\n",
    "# print(np.mean(mytimes))\n",
    "# print(np.mean(jaxtimes))\n",
    "# print(np.mean(jaxtimes)/np.mean(mytimes))"
   ]
  },
  {
   "cell_type": "code",
   "execution_count": 125,
   "id": "cf4f6647-dbc1-4905-80b5-170ff461e328",
   "metadata": {
    "tags": []
   },
   "outputs": [],
   "source": [
    "# # simple finite-difference gradient checker\n",
    "# def fdgrad(kk, a0, alpha, myeps=1e-6):\n",
    "#     pertvec = jnp.eye(numsteps)[kk]\n",
    "#     cplus = cost( ftest + myeps*pertvec, a0, alpha )\n",
    "#     cminus = cost( ftest - myeps*pertvec, a0, alpha )\n",
    "#     return (cplus - cminus)/(2*myeps)\n",
    "\n",
    "# # simple finite-difference gradient checker\n",
    "# def fdhess(kk, a0, alpha, myeps=1e-6):\n",
    "#     pertvec = jnp.eye(numsteps)[kk]\n",
    "#     cplus = gradcost( ftest + myeps*pertvec, a0, alpha )\n",
    "#     cminus = gradcost( ftest - myeps*pertvec, a0, alpha )\n",
    "#     return (cplus - cminus)/(2*myeps)\n",
    "\n",
    "# lvec = jnp.arange(numsteps)\n",
    "# vfdgrad = vmap(fdgrad, in_axes=(0,None,None))\n",
    "# myfdgrad = vfdgrad(lvec, mya0, myalpha)\n",
    "# vfdhess = vmap(fdhess, in_axes=(0,None,None))\n",
    "# myfdhess = vfdhess(lvec, mya0, myalpha)"
   ]
  },
  {
   "cell_type": "code",
   "execution_count": 126,
   "id": "33f1e8e6-de8c-4683-93b4-e05d2b31e1a7",
   "metadata": {
    "tags": []
   },
   "outputs": [],
   "source": [
    "def obj(x):\n",
    "    jx = jnp.array(x)\n",
    "    return jcost(jx,mya0,myalpha).item()"
   ]
  },
  {
   "cell_type": "code",
   "execution_count": 127,
   "id": "a1c82073-491a-4d84-b58a-60172f72232d",
   "metadata": {
    "tags": []
   },
   "outputs": [],
   "source": [
    "def gradobj(x):\n",
    "    jx = jnp.array(x)\n",
    "    return np.array(jadjgrad(jx,mya0,myalpha))"
   ]
  },
  {
   "cell_type": "code",
   "execution_count": 128,
   "id": "5ba2cd9e-3c17-473f-a663-8da797852cf8",
   "metadata": {
    "tags": []
   },
   "outputs": [],
   "source": [
    "def hessobj(x):\n",
    "    jx = jnp.array(x)\n",
    "    return np.array(jadjhess(jx,mya0,myalpha))"
   ]
  },
  {
   "cell_type": "code",
   "execution_count": 133,
   "id": "36211503-54d6-4273-ad81-bf45b8cf64df",
   "metadata": {
    "tags": []
   },
   "outputs": [],
   "source": [
    "ftest = np.load('beautifulFeb18results.npz')['xstarx']\n",
    "ftest = np.repeat(ftest,10)"
   ]
  },
  {
   "cell_type": "code",
   "execution_count": 134,
   "id": "b5d10228-6a22-41c5-a6c8-2e9b9876cdbc",
   "metadata": {
    "tags": []
   },
   "outputs": [
    {
     "name": "stdout",
     "output_type": "stream",
     "text": [
      "`xtol` termination condition is satisfied.\n",
      "Number of iterations: 145, function evaluations: 139, CG iterations: 789, optimality: 1.40e-09, constraint violation: 0.00e+00, execution time: 1.4e+01 s.\n",
      "14.087724208831787\n",
      "1.8992936337206122e-08\n",
      "5.700463405050766e-05\n"
     ]
    }
   ],
   "source": [
    "start = time.time()\n",
    "xstar = so.minimize(obj, x0=ftest, method='trust-constr', jac=gradobj, hess=hessobj,\n",
    "                    options={'gtol':1e-16,'xtol':1e-16,'verbose':1})\n",
    "end = time.time()\n",
    "print(end-start)\n",
    "\n",
    "print(np.linalg.norm(gradobj(xstar.x)))\n",
    "print(obj(xstar.x)/obj(ftest))"
   ]
  },
  {
   "cell_type": "code",
   "execution_count": 23,
   "id": "3f953b85-b492-453a-be49-d986f76dbddf",
   "metadata": {
    "tags": []
   },
   "outputs": [
    {
     "data": {
      "text/plain": [
       "3.6595709323883057"
      ]
     },
     "execution_count": 23,
     "metadata": {},
     "output_type": "execute_result"
    }
   ],
   "source": [
    "xstar.execution_time"
   ]
  },
  {
   "cell_type": "code",
   "execution_count": 24,
   "id": "2d7c0a8a-12f1-4569-af4f-99a62f80cb03",
   "metadata": {
    "tags": []
   },
   "outputs": [
    {
     "name": "stdout",
     "output_type": "stream",
     "text": [
      "`xtol` termination condition is satisfied.\n",
      "Number of iterations: 715, function evaluations: 715, CG iterations: 8051, optimality: 2.77e-07, constraint violation: 0.00e+00, execution time:  4.6 s.\n",
      "4.588289976119995\n",
      "1.5009297693243143e-06\n",
      "8.605920929133867e-07\n"
     ]
    }
   ],
   "source": [
    "start = time.time()\n",
    "xstar = so.minimize(obj, x0=ftest, method='trust-constr', jac=gradobj,\n",
    "                    options={'gtol':1e-16,'xtol':1e-16,'maxiter':10000,'verbose':1})\n",
    "end = time.time()\n",
    "print(end-start)\n",
    "\n",
    "print(np.linalg.norm(gradobj(xstar.x)))\n",
    "print(obj(xstar.x)/obj(ftest))"
   ]
  },
  {
   "cell_type": "code",
   "execution_count": 25,
   "id": "faeece7b-ecad-4dc0-89b1-9377e9ceb492",
   "metadata": {
    "tags": []
   },
   "outputs": [
    {
     "data": {
      "text/plain": [
       "8.605920929133867e-07"
      ]
     },
     "execution_count": 25,
     "metadata": {},
     "output_type": "execute_result"
    }
   ],
   "source": [
    "obj(xstar.x)/obj(ftest)"
   ]
  },
  {
   "cell_type": "code",
   "execution_count": 110,
   "id": "bbde88eb-de4b-4db6-bc41-d7a44d130771",
   "metadata": {
    "tags": []
   },
   "outputs": [
    {
     "data": {
      "text/plain": [
       "Array(2.59070792e-07, dtype=float64)"
      ]
     },
     "execution_count": 110,
     "metadata": {},
     "output_type": "execute_result"
    }
   ],
   "source": [
    "jnp.mean(jnp.abs(propSchro(jnp.array(xstar.x), mya0)[-1] - myalpha))"
   ]
  },
  {
   "cell_type": "code",
   "execution_count": 27,
   "id": "e2f1c827-3c42-4c19-b139-9d2fb201d3ae",
   "metadata": {
    "tags": []
   },
   "outputs": [
    {
     "data": {
      "text/plain": [
       "Array([0.98989852, 0.00756198, 0.0025395 ], dtype=float64)"
      ]
     },
     "execution_count": 27,
     "metadata": {},
     "output_type": "execute_result"
    }
   ],
   "source": [
    "myalpha**2"
   ]
  },
  {
   "cell_type": "code",
   "execution_count": 135,
   "id": "d4c4c7d7-000f-4c23-9135-1c482d4dd88c",
   "metadata": {
    "tags": []
   },
   "outputs": [
    {
     "data": {
      "image/png": "[encoded data removed]",
      "text/plain": [
       "<Figure size 640x480 with 1 Axes>"
      ]
     },
     "metadata": {},
     "output_type": "display_data"
    }
   ],
   "source": [
    "plt.plot(xstar.x)\n",
    "plt.show()"
   ]
  },
  {
   "cell_type": "code",
   "execution_count": 136,
   "id": "2be1604e-afd4-43ff-86b8-9cf0ab7bead4",
   "metadata": {
    "tags": []
   },
   "outputs": [],
   "source": [
    "tvec = np.arange(numsteps)*dt"
   ]
  },
  {
   "cell_type": "code",
   "execution_count": 137,
   "id": "7bd3022e-711e-447a-9b2f-609264892b54",
   "metadata": {
    "tags": []
   },
   "outputs": [],
   "source": [
    "fhat = np.fft.fftshift(np.fft.fft(xstar.x))"
   ]
  },
  {
   "cell_type": "code",
   "execution_count": 140,
   "id": "c275be40-50d2-4c70-902d-b72c708d043a",
   "metadata": {},
   "outputs": [
    {
     "data": {
      "image/png": "[encoded data removed]",
      "text/plain": [
       "<Figure size 640x480 with 1 Axes>"
      ]
     },
     "metadata": {},
     "output_type": "display_data"
    }
   ],
   "source": [
    "plt.plot(np.abs(fhat)[(numsteps//2+1):(numsteps//2+10)])\n",
    "plt.show()"
   ]
  },
  {
   "cell_type": "code",
   "execution_count": 145,
   "id": "c73ebe5c-bb4f-4dab-944a-02f083e5430d",
   "metadata": {
    "tags": []
   },
   "outputs": [
    {
     "name": "stdout",
     "output_type": "stream",
     "text": [
      "[0.62831853 1.25663706 1.88495559 2.51327412 3.14159265 3.76991118\n",
      " 4.39822972 5.02654825 5.65486678]\n",
      "[[0.0829621  0.         0.        ]\n",
      " [0.         1.54424839 0.        ]\n",
      " [0.         0.         1.89484206]]\n"
     ]
    }
   ],
   "source": [
    "kvec = np.arange(numsteps//2)/(dt*numsteps)\n",
    "print(2*np.pi*kvec[1:10])\n",
    "print(h0)"
   ]
  },
  {
   "cell_type": "code",
   "execution_count": 143,
   "id": "ee287cdf-bab4-4a42-95f3-4036a207d056",
   "metadata": {
    "tags": []
   },
   "outputs": [
    {
     "name": "stdout",
     "output_type": "stream",
     "text": [
      "-0.0806043490086633\n"
     ]
    }
   ],
   "source": [
    "bias = np.real(fhat[numsteps//2]/numsteps)\n",
    "print(bias)\n",
    "# fhat[numsteps//2+3]*np.exp(1j*kvec[3]*tvec)"
   ]
  },
  {
   "cell_type": "code",
   "execution_count": 144,
   "id": "a5a4c9f1-3e3f-4f5d-a5a8-47552f52b922",
   "metadata": {
    "tags": []
   },
   "outputs": [
    {
     "data": {
      "image/png": "[encoded data removed]",
      "text/plain": [
       "<Figure size 640x480 with 1 Axes>"
      ]
     },
     "metadata": {},
     "output_type": "display_data"
    }
   ],
   "source": [
    "plt.plot(tvec, xstar.x, color='black')\n",
    "plt.plot(tvec, bias*np.ones(numsteps) +\n",
    "         2*np.real(fhat[(numsteps//2)+1]*np.exp(2*np.pi*1j*kvec[1]*tvec))/numsteps + \n",
    "         2*np.real(fhat[(numsteps//2)+2]*np.exp(2*np.pi*1j*kvec[2]*tvec))/numsteps +\n",
    "         2*np.real(fhat[(numsteps//2)+3]*np.exp(2*np.pi*1j*kvec[3]*tvec))/numsteps, color='red')\n",
    "plt.show()"
   ]
  },
  {
   "cell_type": "code",
   "execution_count": 30,
   "id": "e4c485a9-9543-46cb-8c90-c61a179aa4f8",
   "metadata": {},
   "outputs": [],
   "source": [
    "np.savez('beautifulFeb18results.npz',ftest=ftest,xstarx=xstar.x)"
   ]
  },
  {
   "cell_type": "code",
   "execution_count": null,
   "id": "ad8feeb9-af95-474a-8d82-6340857c6969",
   "metadata": {},
   "outputs": [],
   "source": []
  }
 ],
 "metadata": {
  "kernelspec": {
   "display_name": "jax2024",
   "language": "python",
   "name": "jax2024"
  },
  "language_info": {
   "codemirror_mode": {
    "name": "ipython",
    "version": 3
   },
   "file_extension": ".py",
   "mimetype": "text/x-python",
   "name": "python",
   "nbconvert_exporter": "python",
   "pygments_lexer": "ipython3",
   "version": "3.12.0"
  }
 },
 "nbformat": 4,
 "nbformat_minor": 5
}
