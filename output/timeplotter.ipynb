{
 "cells": [
  {
   "cell_type": "code",
   "execution_count": 1,
   "id": "f745049a-b2c9-49f9-8145-f41c0dab90e7",
   "metadata": {
    "tags": []
   },
   "outputs": [],
   "source": [
    "import numpy as np"
   ]
  },
  {
   "cell_type": "code",
   "execution_count": 2,
   "id": "2cbf5022-a9aa-420b-9a48-6dd021795fae",
   "metadata": {
    "tags": []
   },
   "outputs": [],
   "source": [
    "import matplotlib.pyplot as plt"
   ]
  },
  {
   "cell_type": "code",
   "execution_count": 3,
   "id": "8a2f8979-cc81-4a4a-8a71-512d6f2adb4d",
   "metadata": {
    "tags": []
   },
   "outputs": [],
   "source": [
    "import matplotlib\n",
    "matplotlib.use('Agg')"
   ]
  },
  {
   "cell_type": "code",
   "execution_count": 4,
   "id": "e382656b-f803-4832-9765-4a7f0bb4e653",
   "metadata": {
    "tags": []
   },
   "outputs": [],
   "source": [
    "gtimes = np.zeros((2,10,100))\n",
    "htimes = np.zeros((2,10,100))\n",
    "for j in range(2,12):\n",
    "    four = np.load('times_4_'+str(2**j)+'.npz')\n",
    "    gtimes[0,j-2,:] = four['gt']\n",
    "    htimes[0,j-2,:] = four['ht']\n",
    "    sixteen = np.load('times_16_'+str(2**j)+'.npz')\n",
    "    gtimes[1,j-2,:] = sixteen['gt']\n",
    "    htimes[1,j-2,:] = sixteen['ht']\n",
    "    "
   ]
  },
  {
   "cell_type": "code",
   "execution_count": 5,
   "id": "01bd67f4-bfcd-4f9f-a130-f3d2a3eeb62d",
   "metadata": {
    "tags": []
   },
   "outputs": [],
   "source": [
    "# set plot font+size\n",
    "font = {'weight' : 'bold', 'size' : 16}\n",
    "matplotlib.rc('font', **font)\n",
    "\n",
    "plt.rcParams['pdf.fonttype'] = 42\n",
    "\n",
    "plt.figure(figsize=(8,8))\n",
    "xx = 2**np.arange(2,12)\n",
    "plt.loglog(xx, np.mean(gtimes,axis=2)[0,:], '-o', base=2, label='Alg 1: gradient (N=4)')\n",
    "plt.loglog(xx, np.mean(gtimes,axis=2)[1,:], '-o', base=2, label='Alg 1: gradient (N=16)')\n",
    "plt.loglog(xx, np.mean(htimes,axis=2)[0,:], '-o', base=2, label='Alg 2: hessian (N=4)')\n",
    "plt.loglog(xx, np.mean(htimes,axis=2)[1,:], '-o', base=2, label='Alg 2: hessian (N=16)')\n",
    "plt.loglog(xx, xx/(2**16), '-o', base=2, label='fixed slope reference line')\n",
    "plt.xlabel('J (number of steps)')\n",
    "plt.ylabel('average wall clock time (seconds)')\n",
    "plt.legend(loc='upper left',frameon=False)\n",
    "plt.grid(True,linewidth=0.5)\n",
    "plt.savefig('timings.pdf')\n",
    "plt.close()"
   ]
  },
  {
   "cell_type": "code",
   "execution_count": null,
   "id": "8daaa7ab-bfd0-48ca-9487-a18a2d21250b",
   "metadata": {},
   "outputs": [],
   "source": []
  }
 ],
 "metadata": {
  "kernelspec": {
   "display_name": "jax2024",
   "language": "python",
   "name": "jax2024"
  },
  "language_info": {
   "codemirror_mode": {
    "name": "ipython",
    "version": 3
   },
   "file_extension": ".py",
   "mimetype": "text/x-python",
   "name": "python",
   "nbconvert_exporter": "python",
   "pygments_lexer": "ipython3",
   "version": "3.12.0"
  }
 },
 "nbformat": 4,
 "nbformat_minor": 5
}
