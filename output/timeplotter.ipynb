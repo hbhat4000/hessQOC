{
 "cells": [
  {
   "cell_type": "code",
   "execution_count": 1,
   "id": "f745049a-b2c9-49f9-8145-f41c0dab90e7",
   "metadata": {
    "tags": []
   },
   "outputs": [],
   "source": [
    "import numpy as np"
   ]
  },
  {
   "cell_type": "code",
   "execution_count": 2,
   "id": "2cbf5022-a9aa-420b-9a48-6dd021795fae",
   "metadata": {
    "tags": []
   },
   "outputs": [],
   "source": [
    "import matplotlib.pyplot as plt"
   ]
  },
  {
   "cell_type": "code",
   "execution_count": 3,
   "id": "8a2f8979-cc81-4a4a-8a71-512d6f2adb4d",
   "metadata": {
    "tags": []
   },
   "outputs": [],
   "source": [
    "import matplotlib\n",
    "matplotlib.use('Agg')"
   ]
  },
  {
   "cell_type": "code",
   "execution_count": 4,
   "id": "e382656b-f803-4832-9765-4a7f0bb4e653",
   "metadata": {
    "tags": []
   },
   "outputs": [],
   "source": [
    "gtimes = np.zeros((3,10,1000))\n",
    "htimes = np.zeros((3,10,1000))\n",
    "for j in range(2,12):\n",
    "    four = np.load('times_4_'+str(2**j)+'.npz')\n",
    "    gtimes[0,j-2,:] = four['gt']\n",
    "    htimes[0,j-2,:] = four['ht']\n",
    "    sixteen = np.load('times_16_'+str(2**j)+'.npz')\n",
    "    gtimes[1,j-2,:] = sixteen['gt']\n",
    "    htimes[1,j-2,:] = sixteen['ht']\n",
    "    sixtyfour = np.load('times_64_'+str(2**j)+'.npz')\n",
    "    gtimes[2,j-2,:] = sixtyfour['gt']\n",
    "    htimes[2,j-2,:] = sixtyfour['ht']\n"
   ]
  },
  {
   "cell_type": "code",
   "execution_count": 43,
   "id": "d6f08932-b897-4f3e-9e75-19a2c0a7a0fc",
   "metadata": {
    "tags": []
   },
   "outputs": [],
   "source": [
    "gtm = np.mean(gtimes,axis=2)\n",
    "gtmp = 2*np.std(gtimes,axis=2) # ,q=np.array([0.05,0.95]))\n",
    "htm = np.mean(htimes,axis=2)\n",
    "htmp = 2*np.std(htimes,axis=2) #,q=np.array([0.05,0.95]))\n"
   ]
  },
  {
   "cell_type": "code",
   "execution_count": null,
   "id": "046e4e64-3187-4528-ae68-7d1cffeefec4",
   "metadata": {},
   "outputs": [],
   "source": []
  },
  {
   "cell_type": "code",
   "execution_count": 63,
   "id": "01bd67f4-bfcd-4f9f-a130-f3d2a3eeb62d",
   "metadata": {
    "tags": []
   },
   "outputs": [],
   "source": [
    "# set plot font+size\n",
    "font = {'weight' : 'bold', 'size' : 12}\n",
    "matplotlib.rc('font', **font)\n",
    "\n",
    "plt.rcParams['pdf.fonttype'] = 42\n",
    "\n",
    "fig = plt.figure(figsize=(8,8))\n",
    "ax = plt.axes()\n",
    "xx = 2**np.arange(2,12)\n",
    "ax.set_xscale(\"log\",base=2)\n",
    "ax.set_yscale(\"log\",base=2)\n",
    "ax.errorbar(xx, gtm[0,:], yerr=gtmp[0,:], fmt='-o', label='Alg 1: grad (N=4)')\n",
    "ax.errorbar(xx, gtm[1,:], yerr=gtmp[1,:], fmt='-o', label='Alg 1: grad (N=16)')\n",
    "ax.errorbar(xx, gtm[2,:], yerr=gtmp[2,:], fmt='-o', label='Alg 1: grad (N=64)')\n",
    "ax.errorbar(xx, htm[0,:], yerr=htmp[0,:], fmt='-o', label='Alg 2: hess & grad (N=4)')\n",
    "ax.errorbar(xx, htm[1,:], yerr=htmp[1,:], fmt='-o', label='Alg 2: hess & grad (N=16)')\n",
    "ax.errorbar(xx, htm[2,:], yerr=htmp[2,:], fmt='-o', label='Alg 2: hess & grad (N=64)')\n",
    "ax.plot(xx, xx/(2**16), '-o', label=r'reference line of slope $2^{-16}$')\n",
    "plt.xticks(2**np.arange(2,12,2))\n",
    "plt.yticks(2.0**np.arange(-14,2,2))\n",
    "plt.xlabel('J (number of steps)')\n",
    "plt.ylabel('average wall clock time (seconds)')\n",
    "plt.legend(loc='upper left',frameon=False)\n",
    "ax.set_xlim([3, 2**11 + 2**9])\n",
    "plt.grid(True,linewidth=0.5)\n",
    "plt.savefig('timings.pdf',bbox_inches='tight')\n",
    "plt.close()"
   ]
  },
  {
   "cell_type": "code",
   "execution_count": 12,
   "id": "8daaa7ab-bfd0-48ca-9487-a18a2d21250b",
   "metadata": {},
   "outputs": [
    {
     "data": {
      "text/plain": [
       "array([[1.90258026e-04, 2.79903412e-04, 4.57525253e-04, 8.07273388e-04,\n",
       "        1.52629614e-03, 3.38625908e-03, 6.53948784e-03, 1.33512020e-02,\n",
       "        2.57303715e-02, 5.27915478e-02],\n",
       "       [1.83105469e-04, 2.72989273e-04, 4.45604324e-04, 7.97975063e-04,\n",
       "        1.69870853e-03, 3.24583054e-03, 6.73384666e-03, 1.30414724e-02,\n",
       "        2.56080627e-02, 5.40766716e-02],\n",
       "       [3.97253036e-03, 7.90880919e-03, 1.61351681e-02, 3.25796723e-02,\n",
       "        6.48159742e-02, 1.27742028e-01, 2.58491659e-01, 5.20328414e-01,\n",
       "        1.02568047e+00, 2.06345303e+00]])"
      ]
     },
     "execution_count": 12,
     "metadata": {},
     "output_type": "execute_result"
    }
   ],
   "source": [
    "np.quantile(gtimes,axis=2,q=0.05)"
   ]
  },
  {
   "cell_type": "code",
   "execution_count": null,
   "id": "82d21c12-d990-41f9-b22e-1165a35962e0",
   "metadata": {},
   "outputs": [],
   "source": []
  }
 ],
 "metadata": {
  "kernelspec": {
   "display_name": "jax2024",
   "language": "python",
   "name": "jax2024"
  },
  "language_info": {
   "codemirror_mode": {
    "name": "ipython",
    "version": 3
   },
   "file_extension": ".py",
   "mimetype": "text/x-python",
   "name": "python",
   "nbconvert_exporter": "python",
   "pygments_lexer": "ipython3",
   "version": "3.12.0"
  }
 },
 "nbformat": 4,
 "nbformat_minor": 5
}
