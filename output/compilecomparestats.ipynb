{
 "cells": [
  {
   "cell_type": "code",
   "execution_count": 1,
   "id": "b1e8f5ba-7bf4-4bd0-a3d2-77c5232d3e50",
   "metadata": {
    "tags": []
   },
   "outputs": [],
   "source": [
    "import numpy as np"
   ]
  },
  {
   "cell_type": "code",
   "execution_count": 16,
   "id": "8e1cac0f-7997-4f2f-bdea-a8c88a2dfa64",
   "metadata": {
    "tags": []
   },
   "outputs": [],
   "source": [
    "import tabulate"
   ]
  },
  {
   "cell_type": "code",
   "execution_count": 2,
   "id": "784ca4c2-cd22-45e4-ab8b-240a67591d5a",
   "metadata": {
    "tags": []
   },
   "outputs": [],
   "source": [
    "mols = ['h2','heh+']\n",
    "bases = ['sto-3g','6-31g']"
   ]
  },
  {
   "cell_type": "code",
   "execution_count": 3,
   "id": "d0ac4e3c-3d03-45c5-a7a3-0403ef4747de",
   "metadata": {},
   "outputs": [],
   "source": [
    "# what are the column headings?\n",
    "# 0 -> number of iterations\n",
    "# 1 -> execution time\n",
    "# 2 -> cost(\\theta^{\\ast})\n",
    "# 3 -> \\| \\nabla cost(\\theta^{\\ast}) \\|\n",
    "# 4 -> \\| a(T) - \\beta \\|\n",
    "# 5 -> cost(\\theta^{\\ast}) / cost(\\theta^{(0)})\n"
   ]
  },
  {
   "cell_type": "code",
   "execution_count": 4,
   "id": "a1aec094-acac-424f-984a-62a1bb999197",
   "metadata": {
    "tags": []
   },
   "outputs": [],
   "source": [
    "# all grad stats\n",
    "ags = np.zeros((2,2,100,6))\n",
    "# all hess stats\n",
    "ahs = np.zeros((2,2,100,6))"
   ]
  },
  {
   "cell_type": "code",
   "execution_count": 5,
   "id": "0d753f37-fa98-41d2-b708-0f14009ef82f",
   "metadata": {
    "tags": []
   },
   "outputs": [],
   "source": [
    "# sto-3g stats are easy\n",
    "for i in range(2):\n",
    "    mol = mols[i]\n",
    "    j = 0\n",
    "    base = bases[j]\n",
    "    tmp = np.load('compare_'+mol+'_'+base+'.npz')\n",
    "    ags[i,j,:,:] = tmp['gradstats']\n",
    "    ahs[i,j,:,:] = tmp['hessstats']"
   ]
  },
  {
   "cell_type": "code",
   "execution_count": 8,
   "id": "f58ffc8f-9cb5-455a-b0e4-f554f83595aa",
   "metadata": {},
   "outputs": [],
   "source": [
    "# 6-31g stats will take a bit of work\n",
    "for i in range(2):\n",
    "    mol = mols[i]\n",
    "    j = 1\n",
    "    base = bases[j]\n",
    "    for n in range(100):\n",
    "        tmp = np.load('./compare_'+mol+'_'+base+'/compare_'+mol+'_'+base+str(n)+'.npz')\n",
    "        ags[i,j,n,:] = tmp['gradstats']\n",
    "        ahs[i,j,n,:] = tmp['hessstats']"
   ]
  },
  {
   "cell_type": "code",
   "execution_count": 9,
   "id": "b50215e9-0805-4865-a5f3-e4835142fcc7",
   "metadata": {
    "tags": []
   },
   "outputs": [
    {
     "name": "stdout",
     "output_type": "stream",
     "text": [
      "(2, 2, 6)\n",
      "(2, 2, 6)\n"
     ]
    }
   ],
   "source": [
    "meanags = np.mean(ags,axis=2)\n",
    "print(meanags.shape)\n",
    "meanahs = np.mean(ahs,axis=2)\n",
    "print(meanahs.shape)\n"
   ]
  },
  {
   "cell_type": "code",
   "execution_count": 13,
   "id": "4b262851-fbea-4947-83db-b20921daea51",
   "metadata": {
    "tags": []
   },
   "outputs": [
    {
     "name": "stdout",
     "output_type": "stream",
     "text": [
      "[[8.93480000e+02 6.65270573e+00 7.28420451e+04 1.04883585e-02\n",
      "  3.80505219e-01 7.74411016e-02]\n",
      " [3.02302000e+03 2.04856619e+01 4.80914950e+02 1.05167237e-04\n",
      "  2.96553387e-03 4.94406976e-04]]\n",
      "[[9.01700000e+01 7.39638677e-01 7.12248050e+04 3.45583252e-04\n",
      "  3.76489872e-01 7.54987231e-02]\n",
      " [8.59980000e+02 6.68788102e+00 5.76181816e+01 1.87190150e-05\n",
      "  7.42660755e-05 5.91709487e-05]]\n"
     ]
    }
   ],
   "source": [
    "# sto-3g final stats\n",
    "print(meanags[:,0,:])\n",
    "print(meanahs[:,0,:])"
   ]
  },
  {
   "cell_type": "code",
   "execution_count": 14,
   "id": "30a5142f-685c-4a8d-88ec-a6c2140da870",
   "metadata": {
    "tags": []
   },
   "outputs": [
    {
     "name": "stdout",
     "output_type": "stream",
     "text": [
      "[[5.18039000e+03 7.45290432e+01 1.47247002e+01 2.87876371e+00\n",
      "  2.64478220e-05 1.56582385e-05]\n",
      " [6.60774000e+03 9.93308288e+01 1.64207019e+01 3.90320351e+00\n",
      "  1.99019869e-05 1.69499049e-05]]\n",
      "[[1.34276000e+03 2.15856878e+01 1.42151089e+01 3.24519986e-05\n",
      "  2.51896377e-05 1.51851816e-05]\n",
      " [2.10289000e+03 3.39749972e+01 1.56177253e+01 5.90312188e-05\n",
      "  1.76828806e-05 1.61284316e-05]]\n"
     ]
    }
   ],
   "source": [
    "# 6-31 final stats\n",
    "print(meanags[:,1,:])\n",
    "print(meanahs[:,1,:])"
   ]
  },
  {
   "cell_type": "code",
   "execution_count": 20,
   "id": "8bee2937-cd0c-4eec-8408-2f5548632725",
   "metadata": {
    "tags": []
   },
   "outputs": [
    {
     "name": "stdout",
     "output_type": "stream",
     "text": [
      "-------  ---------  ----------  -----------  -----------  -----------\n",
      " 893.48   6.65271   72842       0.0104884    0.380505     0.0774411\n",
      "3023.02  20.4857      480.915   0.000105167  0.00296553   0.000494407\n",
      "5180.39  74.529        14.7247  2.87876      2.64478e-05  1.56582e-05\n",
      "6607.74  99.3308       16.4207  3.9032       1.9902e-05   1.69499e-05\n",
      "  90.17   0.739639  71224.8     0.000345583  0.37649      0.0754987\n",
      " 859.98   6.68788      57.6182  1.8719e-05   7.42661e-05  5.91709e-05\n",
      "1342.76  21.5857       14.2151  3.2452e-05   2.51896e-05  1.51852e-05\n",
      "2102.89  33.975        15.6177  5.90312e-05  1.76829e-05  1.61284e-05\n",
      "-------  ---------  ----------  -----------  -----------  -----------\n"
     ]
    }
   ],
   "source": [
    "mytab = np.concatenate([meanags[:,0,:],meanags[:,1,:],meanahs[:,0,:],meanahs[:,1,:]])\n",
    "print(tabulate.tabulate(mytab))"
   ]
  },
  {
   "cell_type": "code",
   "execution_count": 34,
   "id": "264352f6-c7b1-4c83-8813-b9f6342b4a00",
   "metadata": {
    "tags": []
   },
   "outputs": [
    {
     "name": "stdout",
     "output_type": "stream",
     "text": [
      "                # iters    execution time    final cost    final norm of grad    terminal constr viol    cost reduction\n",
      "----  ------  ---------  ----------------  ------------  --------------------  ----------------------  ----------------\n",
      "h2    sto-3g     893.48           6.65271    72842                0.0104884               0.380505          0.0774411\n",
      "h2    sto-3g    5180.39          74.529         14.7247           2.87876                 2.64478e-05       1.56582e-05\n",
      "heh+  6-31g     3023.02          20.4857       480.915            0.000105167             0.00296553        0.000494407\n",
      "heh+  6-31g     6607.74          99.3308        16.4207           3.9032                  1.9902e-05        1.69499e-05\n",
      "\n",
      "                # iters    execution time    final cost    final norm of grad    terminal constr viol    cost reduction\n",
      "----  ------  ---------  ----------------  ------------  --------------------  ----------------------  ----------------\n",
      "h2    sto-3g      90.17          0.739639    71224.8              0.000345583             0.37649           0.0754987\n",
      "h2    sto-3g    1342.76         21.5857         14.2151           3.2452e-05              2.51896e-05       1.51852e-05\n",
      "heh+  6-31g      859.98          6.68788        57.6182           1.8719e-05              7.42661e-05       5.91709e-05\n",
      "heh+  6-31g     2102.89         33.975          15.6177           5.90312e-05             1.76829e-05       1.61284e-05\n"
     ]
    }
   ],
   "source": [
    "headings = ['# iters','execution time','final cost','final norm of grad','terminal constr viol','cost reduction']\n",
    "rows = []\n",
    "for i in range(2):\n",
    "    for j in range(2):\n",
    "        row = [mols[i]] + [bases[i]] + [x.item() for x in meanags[i,j,:]]\n",
    "        rows.append(row)\n",
    "\n",
    "print(tabulate.tabulate(rows, headers=headings))\n",
    "print(\"\")\n",
    "\n",
    "rows = []\n",
    "for i in range(2):\n",
    "    for j in range(2):\n",
    "        row = [mols[i]] + [bases[i]] + [x.item() for x in meanahs[i,j,:]]\n",
    "        rows.append(row)\n",
    "\n",
    "print(tabulate.tabulate(rows, headers=headings))"
   ]
  },
  {
   "cell_type": "code",
   "execution_count": null,
   "id": "7b1b3c36-7404-42b6-a964-3b78b5b439e8",
   "metadata": {},
   "outputs": [],
   "source": []
  }
 ],
 "metadata": {
  "kernelspec": {
   "display_name": "jax2024",
   "language": "python",
   "name": "jax2024"
  },
  "language_info": {
   "codemirror_mode": {
    "name": "ipython",
    "version": 3
   },
   "file_extension": ".py",
   "mimetype": "text/x-python",
   "name": "python",
   "nbconvert_exporter": "python",
   "pygments_lexer": "ipython3",
   "version": "3.12.0"
  }
 },
 "nbformat": 4,
 "nbformat_minor": 5
}
