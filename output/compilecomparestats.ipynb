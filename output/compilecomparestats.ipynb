{
 "cells": [
  {
   "cell_type": "code",
   "execution_count": 1,
   "id": "b1e8f5ba-7bf4-4bd0-a3d2-77c5232d3e50",
   "metadata": {
    "tags": []
   },
   "outputs": [],
   "source": [
    "import numpy as np"
   ]
  },
  {
   "cell_type": "code",
   "execution_count": 2,
   "id": "8e1cac0f-7997-4f2f-bdea-a8c88a2dfa64",
   "metadata": {
    "tags": []
   },
   "outputs": [],
   "source": [
    "import tabulate"
   ]
  },
  {
   "cell_type": "code",
   "execution_count": 3,
   "id": "784ca4c2-cd22-45e4-ab8b-240a67591d5a",
   "metadata": {
    "tags": []
   },
   "outputs": [],
   "source": [
    "mols = ['h2','heh+']\n",
    "bases = ['sto-3g','6-31g']"
   ]
  },
  {
   "cell_type": "code",
   "execution_count": 4,
   "id": "d0ac4e3c-3d03-45c5-a7a3-0403ef4747de",
   "metadata": {},
   "outputs": [],
   "source": [
    "# what are the column headings?\n",
    "# 0 -> number of iterations\n",
    "# 1 -> execution time\n",
    "# 2 -> cost(\\theta^{\\ast})\n",
    "# 3 -> \\| \\nabla cost(\\theta^{\\ast}) \\|\n",
    "# 4 -> \\| a(T) - \\beta \\|\n",
    "# 5 -> cost(\\theta^{\\ast}) / cost(\\theta^{(0)})\n"
   ]
  },
  {
   "cell_type": "code",
   "execution_count": 5,
   "id": "a1aec094-acac-424f-984a-62a1bb999197",
   "metadata": {
    "tags": []
   },
   "outputs": [],
   "source": [
    "# all grad stats\n",
    "ags = np.zeros((2,2,1000,6))\n",
    "# all hess stats\n",
    "ahs = np.zeros((2,2,1000,6))"
   ]
  },
  {
   "cell_type": "code",
   "execution_count": 8,
   "id": "0d753f37-fa98-41d2-b708-0f14009ef82f",
   "metadata": {
    "tags": []
   },
   "outputs": [],
   "source": [
    "# sto-3g stats are easy\n",
    "for i in range(2):\n",
    "    mol = mols[i]\n",
    "    j = 0\n",
    "    base = bases[j]\n",
    "    for n in range(10):\n",
    "        tmp = np.load('./compare_'+mol+'_'+base+'/compare_'+mol+'_'+base+str(n)+'.npz')\n",
    "        si = n*100\n",
    "        ei = (n+1)*100\n",
    "        ags[i,j,si:ei,:] = tmp['gradstats']\n",
    "        ahs[i,j,si:ei,:] = tmp['hessstats']"
   ]
  },
  {
   "cell_type": "code",
   "execution_count": 9,
   "id": "f58ffc8f-9cb5-455a-b0e4-f554f83595aa",
   "metadata": {},
   "outputs": [],
   "source": [
    "# 6-31g stats will take a bit of work\n",
    "for i in range(2):\n",
    "    mol = mols[i]\n",
    "    j = 1\n",
    "    base = bases[j]\n",
    "    for n in range(100):\n",
    "        tmp = np.load('./compare_'+mol+'_'+base+'/compare_'+mol+'_'+base+str(n)+'.npz')\n",
    "        ags[i,j,n,:] = tmp['gradstats']\n",
    "        ahs[i,j,n,:] = tmp['hessstats']"
   ]
  },
  {
   "cell_type": "code",
   "execution_count": 10,
   "id": "b50215e9-0805-4865-a5f3-e4835142fcc7",
   "metadata": {
    "tags": []
   },
   "outputs": [
    {
     "name": "stdout",
     "output_type": "stream",
     "text": [
      "(2, 2, 6)\n",
      "(2, 2, 6)\n"
     ]
    }
   ],
   "source": [
    "meanags = np.mean(ags,axis=2)\n",
    "print(meanags.shape)\n",
    "meanahs = np.mean(ahs,axis=2)\n",
    "print(meanahs.shape)\n"
   ]
  },
  {
   "cell_type": "code",
   "execution_count": 11,
   "id": "404d6f6f-c323-4d88-81cf-97a7dc385366",
   "metadata": {
    "tags": []
   },
   "outputs": [],
   "source": [
    "stdags = np.std(ags,axis=2)\n",
    "stdahs = np.std(ahs,axis=2)"
   ]
  },
  {
   "cell_type": "code",
   "execution_count": 12,
   "id": "20538ce2-587e-44ff-acad-7bc7774dfb75",
   "metadata": {
    "tags": []
   },
   "outputs": [
    {
     "name": "stdout",
     "output_type": "stream",
     "text": [
      "[[[1.90299157e+03 2.55230873e+01 2.09168113e+00 7.13183398e+00\n",
      "   5.06911122e-06 4.32184804e-06]\n",
      "  [1.77231216e+03 2.83004821e+01 4.64895473e+00 1.49896026e+00\n",
      "   7.34014103e-06 4.92261306e-06]]\n",
      "\n",
      " [[2.08894218e+03 2.56563392e+01 3.96566116e+00 9.30845745e+00\n",
      "   8.09487874e-06 5.45603428e-06]\n",
      "  [2.27659068e+03 3.94494687e+01 4.85388579e+00 2.94055505e+00\n",
      "   5.98365659e-06 5.09204392e-06]]]\n",
      "[[[8.84884676e+02 1.38345801e+01 2.00747160e+00 1.14181211e-04\n",
      "   2.56469269e-06 4.28585418e-06]\n",
      "  [4.64959938e+02 7.52133908e+00 4.71767422e+00 3.99188766e-05\n",
      "   8.21374720e-06 5.05486240e-06]]\n",
      "\n",
      " [[1.34598357e+03 2.10058584e+01 2.89092423e+00 1.72347577e+00\n",
      "   6.83425191e-06 5.23267624e-06]\n",
      "  [7.46762555e+02 1.19940279e+01 4.73595950e+00 3.17945256e-05\n",
      "   5.49311358e-06 4.96833996e-06]]]\n"
     ]
    }
   ],
   "source": [
    "print(stdags)\n",
    "print(stdahs)"
   ]
  },
  {
   "cell_type": "code",
   "execution_count": 13,
   "id": "4b262851-fbea-4947-83db-b20921daea51",
   "metadata": {
    "tags": []
   },
   "outputs": [
    {
     "name": "stdout",
     "output_type": "stream",
     "text": [
      "[[5.74812500e+03 7.34883775e+01 1.27696851e+01 8.82973998e-01\n",
      "  1.60399999e-05 1.36284932e-05]\n",
      " [7.70769500e+03 9.20180916e+01 2.10352185e+01 2.38340916e+00\n",
      "  3.23744288e-05 2.15939196e-05]]\n",
      "[[1.42166800e+03 2.13366210e+01 1.27794507e+01 6.26159538e-05\n",
      "  1.57277226e-05 1.36417517e-05]\n",
      " [2.72995300e+03 4.22175982e+01 2.08100566e+01 5.45807678e-02\n",
      "  3.22242370e-05 2.14213573e-05]]\n"
     ]
    }
   ],
   "source": [
    "# sto-3g final stats\n",
    "print(meanags[:,0,:])\n",
    "print(meanahs[:,0,:])"
   ]
  },
  {
   "cell_type": "code",
   "execution_count": 14,
   "id": "30a5142f-685c-4a8d-88ec-a6c2140da870",
   "metadata": {
    "tags": []
   },
   "outputs": [
    {
     "name": "stdout",
     "output_type": "stream",
     "text": [
      "[[5.45515000e+02 8.47509160e+00 1.48681591e+00 8.83242591e-02\n",
      "  2.27653288e-06 1.54151392e-06]\n",
      " [7.17624000e+02 1.20251971e+01 1.59259389e+00 2.13287214e-01\n",
      "  1.85398636e-06 1.63987537e-06]]\n",
      "[[1.33504000e+02 2.15018452e+00 1.50446181e+00 5.58279408e-06\n",
      "  2.50227583e-06 1.56999229e-06]\n",
      " [2.14925000e+02 3.41597297e+00 1.55392875e+00 4.04306776e-06\n",
      "  1.77972182e-06 1.60017440e-06]]\n"
     ]
    }
   ],
   "source": [
    "# 6-31 final stats\n",
    "print(meanags[:,1,:])\n",
    "print(meanahs[:,1,:])"
   ]
  },
  {
   "cell_type": "code",
   "execution_count": 16,
   "id": "8bee2937-cd0c-4eec-8408-2f5548632725",
   "metadata": {
    "tags": []
   },
   "outputs": [
    {
     "name": "stdout",
     "output_type": "stream",
     "text": [
      "--------  --------  --------  -----------  -----------  -----------\n",
      "5748.12   73.4884   12.7697   0.882974     1.604e-05    1.36285e-05\n",
      "7707.69   92.0181   21.0352   2.38341      3.23744e-05  2.15939e-05\n",
      " 545.515   8.47509   1.48682  0.0883243    2.27653e-06  1.54151e-06\n",
      " 717.624  12.0252    1.59259  0.213287     1.85399e-06  1.63988e-06\n",
      "1421.67   21.3366   12.7795   6.2616e-05   1.57277e-05  1.36418e-05\n",
      "2729.95   42.2176   20.8101   0.0545808    3.22242e-05  2.14214e-05\n",
      " 133.504   2.15018   1.50446  5.58279e-06  2.50228e-06  1.56999e-06\n",
      " 214.925   3.41597   1.55393  4.04307e-06  1.77972e-06  1.60017e-06\n",
      "--------  --------  --------  -----------  -----------  -----------\n",
      "--------  --------  -------  -----------  -----------  -----------\n",
      "1902.99   25.5231   2.09168  7.13183      5.06911e-06  4.32185e-06\n",
      "2088.94   25.6563   3.96566  9.30846      8.09488e-06  5.45603e-06\n",
      "1772.31   28.3005   4.64895  1.49896      7.34014e-06  4.92261e-06\n",
      "2276.59   39.4495   4.85389  2.94056      5.98366e-06  5.09204e-06\n",
      " 884.885  13.8346   2.00747  0.000114181  2.56469e-06  4.28585e-06\n",
      "1345.98   21.0059   2.89092  1.72348      6.83425e-06  5.23268e-06\n",
      " 464.96    7.52134  4.71767  3.99189e-05  8.21375e-06  5.05486e-06\n",
      " 746.763  11.994    4.73596  3.17945e-05  5.49311e-06  4.96834e-06\n",
      "--------  --------  -------  -----------  -----------  -----------\n"
     ]
    }
   ],
   "source": [
    "mytab = np.concatenate([meanags[:,0,:],meanags[:,1,:],meanahs[:,0,:],meanahs[:,1,:]])\n",
    "print(tabulate.tabulate(mytab))\n",
    "\n",
    "mytab = np.concatenate([stdags[:,0,:],stdags[:,1,:],stdahs[:,0,:],stdahs[:,1,:]])\n",
    "print(tabulate.tabulate(mytab))"
   ]
  },
  {
   "cell_type": "code",
   "execution_count": 12,
   "id": "264352f6-c7b1-4c83-8813-b9f6342b4a00",
   "metadata": {
    "tags": []
   },
   "outputs": [
    {
     "name": "stdout",
     "output_type": "stream",
     "text": [
      "\\begin{tabular}{llrrrrrr}\n",
      "\\hline\n",
      "      &        &   \\# iters &   execution time &   final cost &   final norm of grad &   terminal constr viol &   cost reduction \\\\\n",
      "\\hline\n",
      " h2   & sto-3g &   5758.72 &          72.1495 &      12.6598 &              1.12363 &            1.59526e-05 &      1.34204e-05 \\\\\n",
      " h2   & 6-31g  &   5180.39 &          74.529  &      14.7247 &              2.87876 &            2.64478e-05 &      1.56582e-05 \\\\\n",
      " heh+ & sto-3g &   7638.19 &          90.3189 &      21.6517 &              2.94015 &            3.44921e-05 &      2.19726e-05 \\\\\n",
      " heh+ & 6-31g  &   6607.74 &          99.3308 &      16.4207 &              3.9032  &            1.9902e-05  &      1.69499e-05 \\\\\n",
      "\\hline\n",
      "\\end{tabular}\n",
      "\n",
      "\\begin{tabular}{llrrrrrr}\n",
      "\\hline\n",
      "      &        &   \\# iters &   execution time &   final cost &   final norm of grad &   terminal constr viol &   cost reduction \\\\\n",
      "\\hline\n",
      " h2   & sto-3g &   1442.37 &          21.582  &      13.005  &          6.73511e-05 &            1.58275e-05 &      1.37648e-05 \\\\\n",
      " h2   & 6-31g  &   1342.76 &          21.5857 &      14.2151 &          3.2452e-05  &            2.51896e-05 &      1.51852e-05 \\\\\n",
      " heh+ & sto-3g &   2691.43 &          41.1616 &      20.7509 &          5.07409e-05 &            3.28318e-05 &      2.11691e-05 \\\\\n",
      " heh+ & 6-31g  &   2102.89 &          33.975  &      15.6177 &          5.90312e-05 &            1.76829e-05 &      1.61284e-05 \\\\\n",
      "\\hline\n",
      "\\end{tabular}\n"
     ]
    }
   ],
   "source": [
    "headings = ['# iters','execution time','final cost','final norm of grad','terminal constr viol','cost reduction']\n",
    "rows = []\n",
    "for i in range(2):\n",
    "    for j in range(2):\n",
    "        row = [mols[i]] + [bases[j]] + [x.item() for x in meanags[i,j,:]]\n",
    "        rows.append(row)\n",
    "\n",
    "print(tabulate.tabulate(rows, headers=headings, tablefmt=\"latex\"))\n",
    "print(\"\")\n",
    "\n",
    "rows = []\n",
    "for i in range(2):\n",
    "    for j in range(2):\n",
    "        row = [mols[i]] + [bases[j]] + [x.item() for x in meanahs[i,j,:]]\n",
    "        rows.append(row)\n",
    "\n",
    "print(tabulate.tabulate(rows, headers=headings, tablefmt=\"latex\"))"
   ]
  },
  {
   "cell_type": "code",
   "execution_count": 13,
   "id": "7b1b3c36-7404-42b6-a964-3b78b5b439e8",
   "metadata": {},
   "outputs": [
    {
     "data": {
      "text/plain": [
       "array([12.18013485, 14.7377194 , 11.55582636, 12.5691156 , 10.89457391,\n",
       "       13.88929397, 13.45661222, 14.14043219, 14.95274848, 16.23125616,\n",
       "       15.68175397, 14.95274848, 11.95794099, 13.43569023, 15.29882531,\n",
       "       13.79400385, 10.89457391, 11.83004743, 12.18013485, 13.43569023,\n",
       "       15.81793198, 16.67690717, 15.68175397, 12.92228623, 13.97506085,\n",
       "       13.97506085, 13.44429556,  9.54635123, 12.92760575,  9.42990766,\n",
       "       12.20218433, 13.09265863,  9.89669147, 15.49142772, 14.65313782,\n",
       "       11.58335086, 14.90630857, 14.14043219, 15.28676382, 13.57434989,\n",
       "       14.65313782, 10.89457391,  8.23160512, 11.95794099, 10.74915651,\n",
       "       14.14043219,  9.54635123, 12.86439326, 13.39412181,  9.89850626,\n",
       "       12.10674691, 13.39412181, 10.05464019, 12.40008771, 13.36273567,\n",
       "       14.78362759, 11.18530969, 12.76703528, 12.79829341, 12.57471328,\n",
       "       11.8638855 , 14.2096619 , 12.18013485, 11.95794099, 13.72730077,\n",
       "       11.95794099, 13.39412181, 13.45661222, 12.42106042, 15.11591717,\n",
       "       12.92228623, 16.10247421, 15.18491428, 10.84904884, 11.95161074,\n",
       "       13.43569023, 14.7377194 , 10.12437202, 13.57434989, 11.58382537,\n",
       "       13.88929397, 13.79400385, 16.10247421,  8.23160512, 13.03885   ,\n",
       "       15.63801927, 15.12810342, 13.09265863,  9.80696548, 13.39412182,\n",
       "       13.03884998, 12.42106043, 10.89457391, 12.23178966, 14.10371095,\n",
       "       11.48605383, 16.23125616, 12.18013485, 13.88929397, 12.10674691])"
      ]
     },
     "execution_count": 13,
     "metadata": {},
     "output_type": "execute_result"
    }
   ],
   "source": [
    "ahs[0,0,:,2]"
   ]
  },
  {
   "cell_type": "code",
   "execution_count": null,
   "id": "db3ebb56-4e4f-47e5-b20f-d9dcd15b58e2",
   "metadata": {},
   "outputs": [],
   "source": []
  }
 ],
 "metadata": {
  "kernelspec": {
   "display_name": "jax2024",
   "language": "python",
   "name": "jax2024"
  },
  "language_info": {
   "codemirror_mode": {
    "name": "ipython",
    "version": 3
   },
   "file_extension": ".py",
   "mimetype": "text/x-python",
   "name": "python",
   "nbconvert_exporter": "python",
   "pygments_lexer": "ipython3",
   "version": "3.12.0"
  }
 },
 "nbformat": 4,
 "nbformat_minor": 5
}
