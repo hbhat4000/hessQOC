{
 "cells": [
  {
   "cell_type": "code",
   "execution_count": 1,
   "id": "b1e8f5ba-7bf4-4bd0-a3d2-77c5232d3e50",
   "metadata": {
    "tags": []
   },
   "outputs": [],
   "source": [
    "import numpy as np"
   ]
  },
  {
   "cell_type": "code",
   "execution_count": 2,
   "id": "8e1cac0f-7997-4f2f-bdea-a8c88a2dfa64",
   "metadata": {
    "tags": []
   },
   "outputs": [],
   "source": [
    "import tabulate"
   ]
  },
  {
   "cell_type": "code",
   "execution_count": 3,
   "id": "784ca4c2-cd22-45e4-ab8b-240a67591d5a",
   "metadata": {
    "tags": []
   },
   "outputs": [],
   "source": [
    "mols = ['h2','heh+']\n",
    "bases = ['sto-3g','6-31g']"
   ]
  },
  {
   "cell_type": "code",
   "execution_count": 4,
   "id": "d0ac4e3c-3d03-45c5-a7a3-0403ef4747de",
   "metadata": {},
   "outputs": [],
   "source": [
    "# what are the column headings?\n",
    "# 0 -> number of iterations\n",
    "# 1 -> execution time\n",
    "# 2 -> cost(\\theta^{\\ast})\n",
    "# 3 -> \\| \\nabla cost(\\theta^{\\ast}) \\|\n",
    "# 4 -> \\| a(T) - \\beta \\|\n",
    "# 5 -> cost(\\theta^{\\ast}) / cost(\\theta^{(0)})\n"
   ]
  },
  {
   "cell_type": "code",
   "execution_count": 5,
   "id": "a1aec094-acac-424f-984a-62a1bb999197",
   "metadata": {
    "tags": []
   },
   "outputs": [],
   "source": [
    "# all grad stats\n",
    "ags = np.zeros((2,2,100,6))\n",
    "# all hess stats\n",
    "ahs = np.zeros((2,2,100,6))"
   ]
  },
  {
   "cell_type": "code",
   "execution_count": 6,
   "id": "0d753f37-fa98-41d2-b708-0f14009ef82f",
   "metadata": {
    "tags": []
   },
   "outputs": [],
   "source": [
    "# sto-3g stats are easy\n",
    "for i in range(2):\n",
    "    mol = mols[i]\n",
    "    j = 0\n",
    "    base = bases[j]\n",
    "    tmp = np.load('compare_'+mol+'_'+base+'.npz')\n",
    "    ags[i,j,:,:] = tmp['gradstats']\n",
    "    ahs[i,j,:,:] = tmp['hessstats']"
   ]
  },
  {
   "cell_type": "code",
   "execution_count": 7,
   "id": "f58ffc8f-9cb5-455a-b0e4-f554f83595aa",
   "metadata": {},
   "outputs": [],
   "source": [
    "# 6-31g stats will take a bit of work\n",
    "for i in range(2):\n",
    "    mol = mols[i]\n",
    "    j = 1\n",
    "    base = bases[j]\n",
    "    for n in range(100):\n",
    "        tmp = np.load('./compare_'+mol+'_'+base+'/compare_'+mol+'_'+base+str(n)+'.npz')\n",
    "        ags[i,j,n,:] = tmp['gradstats']\n",
    "        ahs[i,j,n,:] = tmp['hessstats']"
   ]
  },
  {
   "cell_type": "code",
   "execution_count": 8,
   "id": "b50215e9-0805-4865-a5f3-e4835142fcc7",
   "metadata": {
    "tags": []
   },
   "outputs": [
    {
     "name": "stdout",
     "output_type": "stream",
     "text": [
      "(2, 2, 6)\n",
      "(2, 2, 6)\n"
     ]
    }
   ],
   "source": [
    "meanags = np.mean(ags,axis=2)\n",
    "print(meanags.shape)\n",
    "meanahs = np.mean(ahs,axis=2)\n",
    "print(meanahs.shape)\n"
   ]
  },
  {
   "cell_type": "code",
   "execution_count": 9,
   "id": "4b262851-fbea-4947-83db-b20921daea51",
   "metadata": {
    "tags": []
   },
   "outputs": [
    {
     "name": "stdout",
     "output_type": "stream",
     "text": [
      "[[5.75872000e+03 7.21495099e+01 1.26598428e+01 1.12362755e+00\n",
      "  1.59525588e-05 1.34204388e-05]\n",
      " [7.63819000e+03 9.03189123e+01 2.16516772e+01 2.94014591e+00\n",
      "  3.44920690e-05 2.19725799e-05]]\n",
      "[[1.44237000e+03 2.15820073e+01 1.30050155e+01 6.73510813e-05\n",
      "  1.58275067e-05 1.37647863e-05]\n",
      " [2.69143000e+03 4.11616403e+01 2.07509436e+01 5.07409487e-05\n",
      "  3.28318480e-05 2.11690630e-05]]\n"
     ]
    }
   ],
   "source": [
    "# sto-3g final stats\n",
    "print(meanags[:,0,:])\n",
    "print(meanahs[:,0,:])"
   ]
  },
  {
   "cell_type": "code",
   "execution_count": 10,
   "id": "30a5142f-685c-4a8d-88ec-a6c2140da870",
   "metadata": {
    "tags": []
   },
   "outputs": [
    {
     "name": "stdout",
     "output_type": "stream",
     "text": [
      "[[5.18039000e+03 7.45290432e+01 1.47247002e+01 2.87876371e+00\n",
      "  2.64478220e-05 1.56582385e-05]\n",
      " [6.60774000e+03 9.93308288e+01 1.64207019e+01 3.90320351e+00\n",
      "  1.99019869e-05 1.69499049e-05]]\n",
      "[[1.34276000e+03 2.15856878e+01 1.42151089e+01 3.24519986e-05\n",
      "  2.51896377e-05 1.51851816e-05]\n",
      " [2.10289000e+03 3.39749972e+01 1.56177253e+01 5.90312188e-05\n",
      "  1.76828806e-05 1.61284316e-05]]\n"
     ]
    }
   ],
   "source": [
    "# 6-31 final stats\n",
    "print(meanags[:,1,:])\n",
    "print(meanahs[:,1,:])"
   ]
  },
  {
   "cell_type": "code",
   "execution_count": 11,
   "id": "8bee2937-cd0c-4eec-8408-2f5548632725",
   "metadata": {
    "tags": []
   },
   "outputs": [
    {
     "name": "stdout",
     "output_type": "stream",
     "text": [
      "-------  -------  -------  -----------  -----------  -----------\n",
      "5758.72  72.1495  12.6598  1.12363      1.59526e-05  1.34204e-05\n",
      "7638.19  90.3189  21.6517  2.94015      3.44921e-05  2.19726e-05\n",
      "5180.39  74.529   14.7247  2.87876      2.64478e-05  1.56582e-05\n",
      "6607.74  99.3308  16.4207  3.9032       1.9902e-05   1.69499e-05\n",
      "1442.37  21.582   13.005   6.73511e-05  1.58275e-05  1.37648e-05\n",
      "2691.43  41.1616  20.7509  5.07409e-05  3.28318e-05  2.11691e-05\n",
      "1342.76  21.5857  14.2151  3.2452e-05   2.51896e-05  1.51852e-05\n",
      "2102.89  33.975   15.6177  5.90312e-05  1.76829e-05  1.61284e-05\n",
      "-------  -------  -------  -----------  -----------  -----------\n"
     ]
    }
   ],
   "source": [
    "mytab = np.concatenate([meanags[:,0,:],meanags[:,1,:],meanahs[:,0,:],meanahs[:,1,:]])\n",
    "print(tabulate.tabulate(mytab))"
   ]
  },
  {
   "cell_type": "code",
   "execution_count": 12,
   "id": "264352f6-c7b1-4c83-8813-b9f6342b4a00",
   "metadata": {
    "tags": []
   },
   "outputs": [
    {
     "name": "stdout",
     "output_type": "stream",
     "text": [
      "                # iters    execution time    final cost    final norm of grad    terminal constr viol    cost reduction\n",
      "----  ------  ---------  ----------------  ------------  --------------------  ----------------------  ----------------\n",
      "h2    sto-3g    5758.72           72.1495       12.6598               1.12363             1.59526e-05       1.34204e-05\n",
      "h2    6-31g     5180.39           74.529        14.7247               2.87876             2.64478e-05       1.56582e-05\n",
      "heh+  sto-3g    7638.19           90.3189       21.6517               2.94015             3.44921e-05       2.19726e-05\n",
      "heh+  6-31g     6607.74           99.3308       16.4207               3.9032              1.9902e-05        1.69499e-05\n",
      "\n",
      "                # iters    execution time    final cost    final norm of grad    terminal constr viol    cost reduction\n",
      "----  ------  ---------  ----------------  ------------  --------------------  ----------------------  ----------------\n",
      "h2    sto-3g    1442.37           21.582        13.005            6.73511e-05             1.58275e-05       1.37648e-05\n",
      "h2    6-31g     1342.76           21.5857       14.2151           3.2452e-05              2.51896e-05       1.51852e-05\n",
      "heh+  sto-3g    2691.43           41.1616       20.7509           5.07409e-05             3.28318e-05       2.11691e-05\n",
      "heh+  6-31g     2102.89           33.975        15.6177           5.90312e-05             1.76829e-05       1.61284e-05\n"
     ]
    }
   ],
   "source": [
    "headings = ['# iters','execution time','final cost','final norm of grad','terminal constr viol','cost reduction']\n",
    "rows = []\n",
    "for i in range(2):\n",
    "    for j in range(2):\n",
    "        row = [mols[i]] + [bases[j]] + [x.item() for x in meanags[i,j,:]]\n",
    "        rows.append(row)\n",
    "\n",
    "print(tabulate.tabulate(rows, headers=headings))\n",
    "print(\"\")\n",
    "\n",
    "rows = []\n",
    "for i in range(2):\n",
    "    for j in range(2):\n",
    "        row = [mols[i]] + [bases[j]] + [x.item() for x in meanahs[i,j,:]]\n",
    "        rows.append(row)\n",
    "\n",
    "print(tabulate.tabulate(rows, headers=headings))"
   ]
  },
  {
   "cell_type": "code",
   "execution_count": 13,
   "id": "7b1b3c36-7404-42b6-a964-3b78b5b439e8",
   "metadata": {},
   "outputs": [
    {
     "data": {
      "text/plain": [
       "array([12.18013485, 14.7377194 , 11.55582636, 12.5691156 , 10.89457391,\n",
       "       13.88929397, 13.45661222, 14.14043219, 14.95274848, 16.23125616,\n",
       "       15.68175397, 14.95274848, 11.95794099, 13.43569023, 15.29882531,\n",
       "       13.79400385, 10.89457391, 11.83004743, 12.18013485, 13.43569023,\n",
       "       15.81793198, 16.67690717, 15.68175397, 12.92228623, 13.97506085,\n",
       "       13.97506085, 13.44429556,  9.54635123, 12.92760575,  9.42990766,\n",
       "       12.20218433, 13.09265863,  9.89669147, 15.49142772, 14.65313782,\n",
       "       11.58335086, 14.90630857, 14.14043219, 15.28676382, 13.57434989,\n",
       "       14.65313782, 10.89457391,  8.23160512, 11.95794099, 10.74915651,\n",
       "       14.14043219,  9.54635123, 12.86439326, 13.39412181,  9.89850626,\n",
       "       12.10674691, 13.39412181, 10.05464019, 12.40008771, 13.36273567,\n",
       "       14.78362759, 11.18530969, 12.76703528, 12.79829341, 12.57471328,\n",
       "       11.8638855 , 14.2096619 , 12.18013485, 11.95794099, 13.72730077,\n",
       "       11.95794099, 13.39412181, 13.45661222, 12.42106042, 15.11591717,\n",
       "       12.92228623, 16.10247421, 15.18491428, 10.84904884, 11.95161074,\n",
       "       13.43569023, 14.7377194 , 10.12437202, 13.57434989, 11.58382537,\n",
       "       13.88929397, 13.79400385, 16.10247421,  8.23160512, 13.03885   ,\n",
       "       15.63801927, 15.12810342, 13.09265863,  9.80696548, 13.39412182,\n",
       "       13.03884998, 12.42106043, 10.89457391, 12.23178966, 14.10371095,\n",
       "       11.48605383, 16.23125616, 12.18013485, 13.88929397, 12.10674691])"
      ]
     },
     "execution_count": 13,
     "metadata": {},
     "output_type": "execute_result"
    }
   ],
   "source": [
    "ahs[0,0,:,2]"
   ]
  },
  {
   "cell_type": "code",
   "execution_count": null,
   "id": "db3ebb56-4e4f-47e5-b20f-d9dcd15b58e2",
   "metadata": {},
   "outputs": [],
   "source": []
  }
 ],
 "metadata": {
  "kernelspec": {
   "display_name": "jax2024",
   "language": "python",
   "name": "jax2024"
  },
  "language_info": {
   "codemirror_mode": {
    "name": "ipython",
    "version": 3
   },
   "file_extension": ".py",
   "mimetype": "text/x-python",
   "name": "python",
   "nbconvert_exporter": "python",
   "pygments_lexer": "ipython3",
   "version": "3.12.0"
  }
 },
 "nbformat": 4,
 "nbformat_minor": 5
}
