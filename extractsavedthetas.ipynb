{
 "cells": [
  {
   "cell_type": "code",
   "execution_count": 1,
   "id": "b68dc5a2-5701-42b0-987b-5cdf7c848ab3",
   "metadata": {
    "tags": []
   },
   "outputs": [],
   "source": [
    "import os\n",
    "os.environ[\"XLA_PYTHON_CLIENT_PREALLOCATE\"]=\"false\"\n",
    "\n",
    "import jax\n",
    "jax.config.update(\"jax_enable_x64\", True)"
   ]
  },
  {
   "cell_type": "code",
   "execution_count": 2,
   "id": "bac9a536-fb34-4232-8647-228c011cb664",
   "metadata": {
    "tags": []
   },
   "outputs": [],
   "source": [
    "import numpy as np"
   ]
  },
  {
   "cell_type": "code",
   "execution_count": 3,
   "id": "674be2c5-21d5-4352-b46a-49d91504d22a",
   "metadata": {
    "tags": []
   },
   "outputs": [],
   "source": [
    "import jax.numpy as jnp\n",
    "from jax import jit, grad, jacobian, lax, vmap"
   ]
  },
  {
   "cell_type": "code",
   "execution_count": 4,
   "id": "f297a818-287d-42bb-b053-be39e17211e8",
   "metadata": {
    "tags": []
   },
   "outputs": [],
   "source": [
    "mol = 'heh+'\n",
    "basis = '6-31g'"
   ]
  },
  {
   "cell_type": "code",
   "execution_count": 5,
   "id": "066668ab-c066-4ee5-b762-90d9799b5a2d",
   "metadata": {
    "tags": []
   },
   "outputs": [],
   "source": [
    "if basis=='sto-3g':\n",
    "    prefix = 'casscf22_s2_'\n",
    "elif basis=='6-31g':\n",
    "    prefix = 'casscf24_s15_'"
   ]
  },
  {
   "cell_type": "code",
   "execution_count": 6,
   "id": "657889a0-2a72-4169-b9a2-935eeca395da",
   "metadata": {
    "tags": []
   },
   "outputs": [
    {
     "name": "stdout",
     "output_type": "stream",
     "text": [
      "alpha = [1. 0. 0. 0. 0. 0. 0. 0. 0. 0. 0. 0. 0. 0. 0. 0.]\n",
      "beta = [0. 0. 0. 0. 0. 0. 0. 0. 0. 0. 0. 0. 0. 0. 0. 1.]\n"
     ]
    }
   ],
   "source": [
    "# load Hamiltonian\n",
    "h0 = np.load('./data/'+prefix+mol+'_'+basis+'_hamiltonian.npz')\n",
    "n = h0.shape[0]\n",
    "\n",
    "# load dipole moment matrix\n",
    "m = np.load('./data/'+prefix+mol+'_'+basis+'_CI_dimat.npz')\n",
    "\n",
    "# load initial and final states\n",
    "P0T = np.load('./data/'+mol+'_'+basis+'_P0T.npz')\n",
    "thisalpha = jnp.array(P0T['alpha'])\n",
    "thisbeta = jnp.array(P0T['beta'])\n",
    "\n",
    "print(\"alpha = \" + str(thisalpha))\n",
    "print(\"beta = \" + str(thisbeta))\n"
   ]
  },
  {
   "cell_type": "code",
   "execution_count": 7,
   "id": "62c825f0-c1d9-44f3-a06c-b033ebf317b3",
   "metadata": {
    "tags": []
   },
   "outputs": [],
   "source": [
    "numsteps = 200\n",
    "dt = 0.1\n",
    "rho = 1e6"
   ]
  },
  {
   "cell_type": "code",
   "execution_count": 8,
   "id": "dcbea202-4282-4eab-aafe-73b70ccc5d6b",
   "metadata": {
    "tags": []
   },
   "outputs": [],
   "source": [
    "# (d/dx) \\exp(-1j*dt*(h0 + x m))\n",
    "# where you pass in the eigenvectors and eigenvalues of (h0 + x m)\n",
    "def firstderiv(evecs, evals):\n",
    "    amat = evecs.conj().T @ (-1j*dt*m) @ evecs\n",
    "    dvec = -1j*dt*evals\n",
    "    dvec1, dvec2 = jnp.meshgrid(dvec, dvec)\n",
    "    mask = jnp.ones((n,n)) - jnp.eye(n)\n",
    "    numer = jnp.exp(dvec1) - jnp.exp(dvec2)\n",
    "    denom = (dvec1 - dvec2)*mask + jnp.eye(n)\n",
    "    derivmat = mask*numer/denom + jnp.diag(jnp.exp(dvec))\n",
    "    qmat = evecs @ (amat * derivmat) @ evecs.conj().T\n",
    "    return qmat\n",
    "\n",
    "mask = jnp.ones((n,n)) - jnp.eye(n)\n",
    "\n",
    "# (d^2/dx^2) \\exp(-1j*dt*(h0 + x m))\n",
    "# where you pass in the eigenvectors and eigenvalues of (h0 + x m)\n",
    "def secondderiv(evecs, rawevals):\n",
    "    evals = (-1j*dt)*rawevals\n",
    "    a = (evecs.conj().T @ m @ evecs) * (-1j*dt)\n",
    "    expevals = jnp.exp(evals)\n",
    "    evals1, evals2 = jnp.meshgrid(evals, evals, indexing='ij')\n",
    "    expevals1, expevals2 = jnp.meshgrid(expevals, expevals, indexing='ij')\n",
    "    # first D_{ii}=D_{kk} term\n",
    "    diagterm1 = expevals1*jnp.diag(jnp.diag(a*a))\n",
    "    # second D_{ii}=D_{kk} term\n",
    "    numer1 = -expevals1 + evals1*expevals1 - evals2*expevals1 + expevals2\n",
    "    denom1 = (evals1-evals2)**2 + jnp.eye(n)\n",
    "    maska = mask * a\n",
    "    diagterm2 = jnp.eye(n) * 2*((numer1/denom1 * maska) @ maska)\n",
    "    # first D_{ii}!=D_{kk} term\n",
    "    frac1 = numer1/denom1 * mask\n",
    "    term1 = frac1*2*(jnp.diag(a)*a).conj().T\n",
    "    # second D_{ii}!=D_{kk} term\n",
    "    numer2 = -expevals1 + evals1*expevals2 - evals2*expevals2 + expevals2\n",
    "    denom2 = (evals1-evals2)**2 + jnp.eye(n)\n",
    "    frac2 = numer2/denom2 * mask\n",
    "    term2 = frac2*2*(a*jnp.diag(a))\n",
    "    # third D_{ii}!=D_{kk} term\n",
    "    matij = mask*(1.0/((evals1-evals2) + jnp.eye(n)))\n",
    "    matind1a = (expevals1 * matij) * a\n",
    "    matind2a = (expevals2 * matij) * a\n",
    "    term3 = 2*mask*((matind2a) @ (matij*a))\n",
    "    term3 -= 2*matij*( matind1a @ maska )\n",
    "    term3 -= 2*matij*( maska @ matind2a ) \n",
    "    # put it all together\n",
    "    # udagru stands for \"U^{\\dagger} R U\"\n",
    "    udagru = term1 - term2 - term3 + diagterm1 + diagterm2\n",
    "    return evecs @ udagru @ evecs.conj().T\n",
    "\n",
    "def gradal(l,expderiv,a,matexp):\n",
    "    ea = expderiv @ a\n",
    "    gradvecs = [(l==0)*ea + (l>0)*jnp.zeros(n, dtype=jnp.complex128)]\n",
    "    for k in range(1,numsteps):\n",
    "        thisvec = (k<l)*jnp.zeros(n, dtype=jnp.complex128)\n",
    "        thisvec += (k==l)*ea\n",
    "        thisvec += (k>l)*(matexp[k] @ gradvecs[k-1])\n",
    "        gradvecs.append( thisvec )\n",
    "    \n",
    "    # zeroblock = jnp.zeros((l, n), dtype=jnp.complex128)\n",
    "    return jnp.stack(gradvecs, axis=0)\n",
    "\n",
    "def onehessrow(lamb,mu,ed,a,ga):\n",
    "    part1 = jnp.real(mu @ ed @ a)\n",
    "    part2 = jnp.real(lamb.T @ ed @ ga.T)\n",
    "    return part1 + part2\n",
    "\n",
    "def onematexp(evecs,expevals):\n",
    "    return evecs @ jnp.diag(expevals) @ evecs.conj().T\n",
    "\n",
    "manyeigh = vmap(jnp.linalg.eigh)\n",
    "vfd = vmap(firstderiv, in_axes=(0,0))\n",
    "vsd = vmap(secondderiv, in_axes=(0,0))\n",
    "vgradal = vmap(gradal, in_axes=(0,0,0,None))\n",
    "vohr = vmap(onehessrow)\n",
    "vonematexp = vmap(onematexp)\n",
    "\n",
    "# given initial condition and forcing f, return trajectory a\n",
    "def propSchro(f, alpha):\n",
    "    manyhams = jnp.expand_dims(h0,0) + jnp.expand_dims(f,(1,2))*jnp.expand_dims(m,0)\n",
    "    allevals, allevecs = manyeigh(manyhams)\n",
    "    expevals = jnp.exp(-1j*dt*allevals)\n",
    "    matexp = vonematexp(allevecs,expevals)\n",
    "    \n",
    "    a = jnp.concatenate([jnp.expand_dims(alpha,0), jnp.zeros((numsteps, n), dtype=jnp.complex128)])\n",
    "    def amatbody(k, am):\n",
    "        return am.at[k+1].set( matexp[k] @ am[k] )\n",
    "    \n",
    "    # forward trajectory\n",
    "    a = lax.fori_loop(0, numsteps, amatbody, a)\n",
    "    return a\n",
    "\n",
    "# given forcing f, IC alpha, FC beta, return cost\n",
    "def cost(f, alpha, beta):\n",
    "    a = propSchro(f, alpha)\n",
    "    resid = a[-1] - beta\n",
    "    pen = jnp.real(jnp.sum(resid * resid.conj()))\n",
    "    return 0.5*jnp.sum(f**2) + 0.5*rho*pen\n",
    "\n",
    "# first-order adjoint method\n",
    "def adjgrad(f, alpha, beta):\n",
    "    manyhams = jnp.expand_dims(h0,0) + jnp.expand_dims(f,(1,2))*jnp.expand_dims(m,0)\n",
    "    allevals, allevecs = manyeigh(manyhams)\n",
    "    expevals = jnp.exp(-1j*dt*allevals)\n",
    "    matexp = vonematexp(allevecs,expevals)\n",
    "    \n",
    "    a = jnp.concatenate([jnp.expand_dims(alpha,0), jnp.zeros((numsteps, n), dtype=jnp.complex128)])\n",
    "    def amatbody(k, am):\n",
    "        return am.at[k+1].set( matexp[k] @ am[k] )\n",
    "    \n",
    "    # forward trajectory\n",
    "    a = lax.fori_loop(0, numsteps, amatbody, a)\n",
    "    \n",
    "    # initialize lambda\n",
    "    resid = a[-1] - beta\n",
    "    \n",
    "    # we are storing \"lambda conjugate\" throughout this calculation\n",
    "    alllamb = jnp.concatenate([jnp.expand_dims(rho*resid.conj(),0), jnp.zeros((numsteps, n), dtype=jnp.complex128)])\n",
    "    def lambbody(i, al):\n",
    "        k = (numsteps-1) - i\n",
    "        return al.at[i+1].set( al[i] @ matexp[k] )\n",
    "    \n",
    "    # backward trajectory\n",
    "    alllamb = lax.fori_loop(0, numsteps, lambbody, alllamb)\n",
    "    alllamb = jnp.flipud(alllamb)\n",
    "    \n",
    "    # first critical calculation\n",
    "    allexpderivs = vfd(allevecs, allevals)\n",
    "    \n",
    "    # output gradient we want\n",
    "    ourgrad = jnp.einsum('ai,aij,aj->a',alllamb[1:],allexpderivs,a[:-1])\n",
    "    thegrad = f + jnp.real(ourgrad)\n",
    "    \n",
    "    return thegrad\n",
    "\n",
    "# second-order adjoint method\n",
    "def adjhess(f, alpha, beta):\n",
    "    manyhams = jnp.expand_dims(h0,0) + jnp.expand_dims(f,(1,2))*jnp.expand_dims(m,0)\n",
    "    allevals, allevecs = manyeigh(manyhams)\n",
    "    expevals = jnp.exp(-1j*dt*allevals)\n",
    "    matexp = vonematexp(allevecs,expevals)\n",
    "\n",
    "    a = jnp.concatenate([jnp.expand_dims(alpha,0), jnp.zeros((numsteps, n), dtype=jnp.complex128)])\n",
    "    def amatbody(k, am):\n",
    "        return am.at[k+1].set( matexp[k] @ am[k] )\n",
    "    \n",
    "    # forward trajectory\n",
    "    a = lax.fori_loop(0, numsteps, amatbody, a)\n",
    "    \n",
    "    # initialize lambda\n",
    "    resid = a[-1] - beta\n",
    "    \n",
    "    # we are storing \"lambda conjugate\" throughout this calculation\n",
    "    alllamb = jnp.concatenate([jnp.expand_dims(rho*resid.conj(),0), jnp.zeros((numsteps, n), dtype=jnp.complex128)])\n",
    "    def lambbody(i, al):\n",
    "        k = (numsteps-1) - i\n",
    "        return al.at[i+1].set( al[i] @ matexp[k] )\n",
    "    \n",
    "    # backward trajectory\n",
    "    alllamb = lax.fori_loop(0, numsteps, lambbody, alllamb)\n",
    "    alllamb = jnp.flipud(alllamb)\n",
    "    \n",
    "    # first critical calculation\n",
    "    allexpderivs = vfd(allevecs, allevals)\n",
    "    \n",
    "    # compute gradient of a w.r.t. f\n",
    "    # grada tensor stores the gradient of the n-dimensional vector a[k] with respect to f[l]\n",
    "    lvec = jnp.arange(numsteps,dtype=jnp.int16)\n",
    "    grada = vgradal(lvec, allexpderivs, a[:-1], matexp)\n",
    "    grada = jnp.transpose(grada,(1,0,2))\n",
    "     \n",
    "    # create and propagate mu\n",
    "    # as before, let us store and propagate \"mu conjugate\"\n",
    "    allmu0 = rho*grada[numsteps-1,:,:].conj()\n",
    "    allmu = jnp.concatenate([jnp.expand_dims(allmu0,0),\n",
    "                             jnp.zeros((numsteps, numsteps, n), dtype=jnp.complex128)])\n",
    "    allprevmu2 = jnp.flipud(jnp.outer(jnp.ones(n),jnp.eye(numsteps)).T.reshape((numsteps,numsteps,n)))\n",
    "    def mubody(kk, amu):\n",
    "        k = (numsteps-1) - kk\n",
    "        prevmu1 = amu[kk] @ matexp[k]\n",
    "        prevmu2 = allprevmu2[kk] * jnp.expand_dims(alllamb[k+1].T @ allexpderivs[k],0)\n",
    "        return amu.at[kk+1].set( prevmu1+prevmu2 )\n",
    "\n",
    "    # backward trajectory\n",
    "    allmu = lax.fori_loop(0, numsteps, mubody, allmu)\n",
    "    allmu = jnp.flipud(allmu)\n",
    "        \n",
    "    # second critical calculation\n",
    "    allexpderivs2 = vsd(allevecs, allevals)\n",
    "    \n",
    "    # compute Hessian\n",
    "    gradapad = jnp.concatenate([jnp.zeros((1,numsteps,n),dtype=jnp.complex128), grada[:-1,:,:]])\n",
    "    parts12 = vohr(alllamb[1:],allmu[1:],allexpderivs,a[:-1],gradapad)\n",
    "    part3 = jnp.diag(jnp.real(jnp.einsum('ai,aij,aj->a',alllamb[1:],allexpderivs2,a[:-1])))\n",
    "    thehess = jnp.eye(numsteps) + parts12 + part3\n",
    "    \n",
    "    return thehess\n",
    "\n",
    "jcost = jit(cost)\n",
    "jadjgrad = jit(adjgrad)\n",
    "jadjhess = jit(adjhess)\n",
    "\n",
    "# force JIT compilation\n",
    "finit = jnp.array(np.random.normal(size=numsteps))\n",
    "mycost = jcost(finit, thisalpha, thisbeta)\n",
    "mygrad = jadjgrad(finit, thisalpha, thisbeta)\n",
    "myhess = jadjhess(finit, thisalpha, thisbeta)"
   ]
  },
  {
   "cell_type": "code",
   "execution_count": 9,
   "id": "1ca11e81-a0ea-446c-b9bf-21d5f5d592ea",
   "metadata": {
    "tags": []
   },
   "outputs": [],
   "source": [
    "bestcost = np.inf\n",
    "besttheta = np.zeros(numsteps)\n",
    "for i in range(1000):\n",
    "    thistheta = np.load('./output/compare_'+mol+'_'+basis+'/compare_'+mol+'_'+basis+str(i)+'.npz')['bestHres']\n",
    "    thiscost = jcost(thistheta, thisalpha, thisbeta)\n",
    "    if thiscost < bestcost:\n",
    "        bestcost = thiscost\n",
    "        besttheta = np.copy(thistheta)"
   ]
  },
  {
   "cell_type": "code",
   "execution_count": 10,
   "id": "ac371d6a-989f-4c71-9f3f-28d8dd110c7c",
   "metadata": {
    "tags": []
   },
   "outputs": [],
   "source": [
    "evals = np.array(jnp.linalg.eigvalsh(jadjhess(besttheta, thisalpha, thisbeta)))"
   ]
  },
  {
   "cell_type": "code",
   "execution_count": 11,
   "id": "59a8b3ec-08c3-4860-b784-6ace9662373c",
   "metadata": {
    "tags": []
   },
   "outputs": [],
   "source": [
    "np.savez('./output/bestcompare_'+mol+'_'+basis+'.npz',evals=evals,besttheta=besttheta)"
   ]
  },
  {
   "cell_type": "code",
   "execution_count": 12,
   "id": "b71de9bb-798d-4953-aea5-fae01b7b6d91",
   "metadata": {
    "tags": []
   },
   "outputs": [],
   "source": [
    "trajNP = np.array(propSchro(besttheta, thisalpha))"
   ]
  },
  {
   "cell_type": "code",
   "execution_count": 13,
   "id": "4f50abd4-cc31-43d6-98ed-4b93b713d000",
   "metadata": {
    "tags": []
   },
   "outputs": [],
   "source": [
    "# matplotlib, with Agg to save to disk\n",
    "import matplotlib\n",
    "matplotlib.use('Agg')\n",
    "\n",
    "import matplotlib.pyplot as plt\n",
    "\n",
    "# set plot font+size\n",
    "font = {'weight' : 'bold', 'size' : 16}\n",
    "matplotlib.rc('font', **font)\n",
    "\n",
    "plt.rcParams['pdf.fonttype'] = 42"
   ]
  },
  {
   "cell_type": "code",
   "execution_count": 14,
   "id": "af3d6da6-9517-442b-a439-b26a8b568ac4",
   "metadata": {
    "tags": []
   },
   "outputs": [],
   "source": [
    "# autogenerate labels\n",
    "labels=[]\n",
    "for i in range(n):\n",
    "    labels.append(r'| $a_{'+str(i+1)+'}(t)$ |')\n",
    "\n",
    "# time vector\n",
    "plottvec = np.arange(numsteps+1)*dt\n",
    "\n",
    "# this only works because we've hard-coded i==0 and i==11 for the case of 2x2 and 6x6 matrices\n",
    "labeled = False\n",
    "plt.figure(figsize=(9,6))\n",
    "for i in range(n):\n",
    "    if i==0:\n",
    "        plt.plot(plottvec, np.abs(trajNP[:,i]), label=labels[i], color='#d01c8b', zorder=10, linewidth=2)\n",
    "    elif i==(n-1):\n",
    "        plt.plot(plottvec, np.abs(trajNP[:,i]), label=labels[i], color='#4dac26', zorder=10, linewidth=2)\n",
    "    else:\n",
    "        plt.plot(plottvec, np.abs(trajNP[:,i]), color='silver')\n",
    "\n",
    "plt.legend(loc='upper center', bbox_to_anchor=(.5, 1.12), ncol=3, fancybox=False, shadow=False, frameon=False)\n",
    "\n",
    "plt.xlabel('time')\n",
    "plt.savefig('./output/bestcompare_traj_'+mol+'_'+basis+'.pdf',bbox_inches = \"tight\")\n",
    "plt.close()"
   ]
  },
  {
   "cell_type": "code",
   "execution_count": 15,
   "id": "2965b36f-fb4c-4b05-80c6-889ce25f217b",
   "metadata": {
    "tags": []
   },
   "outputs": [],
   "source": [
    "plt.figure(figsize=(8,6))\n",
    "plt.plot(plottvec[:-1], besttheta)\n",
    "plt.xlabel('time (a.u.)')\n",
    "plt.ylabel('control f(t)')\n",
    "plt.savefig('./output/bestcompare_controlsig_'+mol+'_'+basis+'.pdf',bbox_inches = \"tight\")\n",
    "plt.close()"
   ]
  },
  {
   "cell_type": "code",
   "execution_count": null,
   "id": "a3c7443f-1497-49d3-aa44-ed5eab3c1136",
   "metadata": {},
   "outputs": [],
   "source": []
  }
 ],
 "metadata": {
  "kernelspec": {
   "display_name": "Python 3 (ipykernel)",
   "language": "python",
   "name": "python3"
  },
  "language_info": {
   "codemirror_mode": {
    "name": "ipython",
    "version": 3
   },
   "file_extension": ".py",
   "mimetype": "text/x-python",
   "name": "python",
   "nbconvert_exporter": "python",
   "pygments_lexer": "ipython3",
   "version": "3.9.18"
  }
 },
 "nbformat": 4,
 "nbformat_minor": 5
}
