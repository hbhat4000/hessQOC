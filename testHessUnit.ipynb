{
 "cells": [
  {
   "cell_type": "code",
   "execution_count": null,
   "id": "e79eb24d-7d78-4dfb-a808-427ca75f13cb",
   "metadata": {},
   "outputs": [],
   "source": []
  },
  {
   "cell_type": "code",
   "execution_count": 60,
   "id": "d843dd7f-2bc3-4a59-9b37-4eadb4e19bcc",
   "metadata": {
    "tags": []
   },
   "outputs": [],
   "source": [
    "z = h0 - 0.25*m\n",
    "evals, evecs = jnp.linalg.eigh(z)\n",
    "expevals = jnp.exp(evals)"
   ]
  },
  {
   "cell_type": "code",
   "execution_count": 62,
   "id": "2d677181-e6cd-4731-bee5-f06d688257b9",
   "metadata": {
    "tags": []
   },
   "outputs": [
    {
     "data": {
      "text/plain": [
       "Array(3.58514592e-15, dtype=float64)"
      ]
     },
     "execution_count": 62,
     "metadata": {},
     "output_type": "execute_result"
    }
   ],
   "source": [
    "jnp.linalg.norm(z - evecs @ jnp.diag(evals) @ evecs.conj().T)"
   ]
  },
  {
   "cell_type": "code",
   "execution_count": 66,
   "id": "f34a3555-b596-45a2-8c6d-48a312b0fcc1",
   "metadata": {
    "tags": []
   },
   "outputs": [
    {
     "data": {
      "text/plain": [
       "Array(1.33191522e-15, dtype=float64)"
      ]
     },
     "execution_count": 66,
     "metadata": {},
     "output_type": "execute_result"
    }
   ],
   "source": [
    "jnp.linalg.norm(evecs @ evecs.conj().T - jnp.eye(n))"
   ]
  },
  {
   "cell_type": "code",
   "execution_count": 68,
   "id": "9ccf1066-66b5-4298-b239-d793d6dea8fc",
   "metadata": {
    "tags": []
   },
   "outputs": [],
   "source": [
    "a = evecs.conj().T @ m @ evecs"
   ]
  },
  {
   "cell_type": "code",
   "execution_count": 154,
   "id": "123ec865-48a0-4a78-8c90-beb88016d44b",
   "metadata": {
    "tags": []
   },
   "outputs": [],
   "source": [
    "evals1, evals2 = jnp.meshgrid(evals, evals, indexing='ij')\n",
    "mask = jnp.ones((n,n)) - jnp.eye(n)\n",
    "expevals1, expevals2 = jnp.meshgrid(expevals, expevals, indexing='ij')"
   ]
  },
  {
   "cell_type": "code",
   "execution_count": 159,
   "id": "14a39afa-d5a2-46f9-a9f3-9e0bb93d3c80",
   "metadata": {
    "tags": []
   },
   "outputs": [
    {
     "name": "stdout",
     "output_type": "stream",
     "text": [
      "[[8.19864611e+00 0.00000000e+00 0.00000000e+00]\n",
      " [0.00000000e+00 1.74939119e+00 0.00000000e+00]\n",
      " [0.00000000e+00 0.00000000e+00 1.33854857e-03]]\n"
     ]
    }
   ],
   "source": [
    "diagterm1 = expevals1*jnp.diag(jnp.diag(a*a))\n",
    "print(diagterm1)"
   ]
  },
  {
   "cell_type": "code",
   "execution_count": 162,
   "id": "464f1fb3-a07a-4f21-8fe9-b0507c6a44bb",
   "metadata": {
    "tags": []
   },
   "outputs": [
    {
     "name": "stdout",
     "output_type": "stream",
     "text": [
      "0.0\n"
     ]
    }
   ],
   "source": [
    "testmat3 = np.zeros((n,n))\n",
    "for i in range(3):\n",
    "    for k in range(3):\n",
    "        if i==k:\n",
    "            testmat3[i,k] = 0.5*expevals[i]*(a[i,i]*a[i,k])*2\n",
    "\n",
    "print(jnp.linalg.norm(diagterm1-testmat3))"
   ]
  },
  {
   "cell_type": "code",
   "execution_count": 153,
   "id": "bdb8cd79-1cf6-4ad0-b588-938a16e0d3f9",
   "metadata": {
    "tags": []
   },
   "outputs": [],
   "source": [
    "numer1 = -expevals1 + evals1*expevals1 - evals2*expevals1 + expevals2\n",
    "denom1 = (evals1-evals2)**2 * mask + jnp.eye(n)\n",
    "frac1 = numer1/denom1 * mask\n",
    "term1 = frac1*2*(jnp.diag(a)*a).T"
   ]
  },
  {
   "cell_type": "code",
   "execution_count": 89,
   "id": "53bb5b00-752c-40e3-86cc-bc9f8f98735d",
   "metadata": {
    "tags": []
   },
   "outputs": [
    {
     "data": {
      "text/plain": [
       "array([[ 8.61595771e+00, -5.37480823e+00,  3.65436632e+00],\n",
       "       [ 1.25177075e+00,  4.67333816e-01, -8.74234820e-01],\n",
       "       [ 1.37752824e-02,  1.41499436e-02,  1.22427907e-04]])"
      ]
     },
     "execution_count": 89,
     "metadata": {},
     "output_type": "execute_result"
    }
   ],
   "source": [
    "testmat2"
   ]
  },
  {
   "cell_type": "code",
   "execution_count": 94,
   "id": "3d00f0f2-2c7d-4f1b-aab0-15b37aeff5cf",
   "metadata": {
    "tags": []
   },
   "outputs": [
    {
     "data": {
      "text/plain": [
       "Array([[ 8.61595771e+00, -5.37480823e+00,  3.65436632e+00],\n",
       "       [ 1.25177075e+00,  4.67333816e-01, -8.74234820e-01],\n",
       "       [ 1.37752824e-02,  1.41499436e-02,  1.22427907e-04]],      dtype=float64)"
      ]
     },
     "execution_count": 94,
     "metadata": {},
     "output_type": "execute_result"
    }
   ],
   "source": [
    "2*(jnp.diag(a)*a).T"
   ]
  },
  {
   "cell_type": "code",
   "execution_count": 102,
   "id": "fe6cba56-20e0-47c8-bda3-6db0f9437fd6",
   "metadata": {
    "tags": []
   },
   "outputs": [
    {
     "name": "stdout",
     "output_type": "stream",
     "text": [
      "1.831026719408895e-15\n"
     ]
    }
   ],
   "source": [
    "testmat = np.zeros((n,n))\n",
    "testmat2 = np.zeros((n,n))\n",
    "testmat3 = np.zeros((n,n))\n",
    "for i in range(3):\n",
    "    for k in range(3):\n",
    "        if i != k:\n",
    "            testmat[i,k] = (-expevals[i]+evals[i]*expevals[i]-evals[k]*expevals[i]+expevals[k])/(evals[i]-evals[k])**2\n",
    "        testmat2[i,k] = a[i,i]*a[i,k] + a[i,i]*a[i,k]\n",
    "        testmat3[i,k] = testmat[i,k] * testmat2[i,k]\n",
    "print(jnp.linalg.norm(term1-testmat3))"
   ]
  },
  {
   "cell_type": "code",
   "execution_count": 101,
   "id": "e3d937f1-bb82-4485-911f-044b65e3cf8e",
   "metadata": {
    "tags": []
   },
   "outputs": [],
   "source": [
    "numer2 = -expevals1 + evals1*expevals2 - evals2*expevals2 + expevals2\n",
    "denom2 = (evals1-evals2)**2 * mask + jnp.eye(n)\n",
    "frac2 = numer2/denom2 * mask\n",
    "term2 = frac2*2*(a*jnp.diag(a))"
   ]
  },
  {
   "cell_type": "code",
   "execution_count": 103,
   "id": "08ebb0e8-bbc3-41c5-aa7d-b97e12ab6d13",
   "metadata": {
    "tags": []
   },
   "outputs": [
    {
     "name": "stdout",
     "output_type": "stream",
     "text": [
      "0.0\n"
     ]
    }
   ],
   "source": [
    "testmat = np.zeros((n,n))\n",
    "testmat2 = np.zeros((n,n))\n",
    "testmat3 = np.zeros((n,n))\n",
    "for i in range(3):\n",
    "    for k in range(3):\n",
    "        if i != k:\n",
    "            testmat[i,k] = (-expevals[i]+evals[i]*expevals[k]-evals[k]*expevals[k]+expevals[k])/(evals[i]-evals[k])**2\n",
    "        testmat2[i,k] = a[i,k]*a[k,k] + a[i,k]*a[k,k]\n",
    "        testmat3[i,k] = testmat[i,k] * testmat2[i,k]\n",
    "print(jnp.linalg.norm(term2-testmat3))"
   ]
  },
  {
   "cell_type": "code",
   "execution_count": 104,
   "id": "a9d71228-8427-4948-9c37-d8c6e80ccb36",
   "metadata": {
    "tags": []
   },
   "outputs": [],
   "source": [
    "paren = 2*jnp.einsum('ij,jk->ijk',a,a)"
   ]
  },
  {
   "cell_type": "code",
   "execution_count": 146,
   "id": "c09896e5-e8cc-4e0e-a40a-e190ee775e05",
   "metadata": {
    "tags": []
   },
   "outputs": [],
   "source": [
    "evals1, evals2, evals3 = jnp.meshgrid(evals, evals, evals, indexing='ij')\n",
    "expevals1, expevals2, expevals3 = jnp.meshgrid(expevals, expevals, expevals, indexing='ij')\n",
    "\n",
    "numer3 = evals1*(expevals2-expevals3)-evals2*(expevals1-expevals3)+evals3*(expevals1-expevals2)\n",
    "\n",
    "mask = np.zeros((3,3,3))\n",
    "for i in range(3):\n",
    "    for j in range(3):\n",
    "        for k in range(3):\n",
    "            if i!=j and i!=k and j!=k:\n",
    "                mask[i,j,k] = 1\n",
    "\n",
    "mask = jnp.array(mask)\n",
    "# print(mask)\n",
    "\n",
    "denom3 = (evals1-evals2)*(evals1-evals3)*(evals2-evals3) + jnp.ones((3,3,3)) - mask\n",
    "\n",
    "term3 = jnp.sum( (numer3/denom3 * mask) * paren, axis=1 )"
   ]
  },
  {
   "cell_type": "code",
   "execution_count": 147,
   "id": "6c7122d8-0cb3-4e7e-9a8d-72c9574b8583",
   "metadata": {},
   "outputs": [],
   "source": [
    "testmat3 = np.zeros((3,3))\n",
    "for i in range(3):\n",
    "    for j in range(3):\n",
    "        for k in range(3):\n",
    "            if i!=j and i!=k and j!=k:\n",
    "                fractermN = evals[i]*(expevals[j]-expevals[k])-evals[j]*(expevals[i]-expevals[k])+evals[k]*(expevals[i]-expevals[j])\n",
    "                fractermD = (evals[i]-evals[j])*(evals[i]-evals[k])*(evals[j]-evals[k])\n",
    "                fracterm = fractermN/fractermD\n",
    "                parenterm = a[i,j]*a[j,k]*2\n",
    "                testmat3[i,k] += fracterm*parenterm"
   ]
  },
  {
   "cell_type": "code",
   "execution_count": 148,
   "id": "936dca3a-7ba9-455f-b20e-44c020205a6a",
   "metadata": {
    "tags": []
   },
   "outputs": [
    {
     "name": "stdout",
     "output_type": "stream",
     "text": [
      "8.881784197001252e-16\n"
     ]
    }
   ],
   "source": [
    "print(jnp.linalg.norm(term3-testmat3))"
   ]
  },
  {
   "cell_type": "code",
   "execution_count": null,
   "id": "d8b03325-3c43-4009-b8d1-bcdc86365d4f",
   "metadata": {},
   "outputs": [
    {
     "name": "stdout",
     "output_type": "stream",
     "text": [
      "[[ 9.30389424  0.          0.        ]\n",
      " [ 0.         17.39513295  0.        ]\n",
      " [ 0.          0.         21.58479317]]\n"
     ]
    }
   ],
   "source": [
    "newmask = np.zeros((3,3,3))\n",
    "for i in range(3):\n",
    "    for j in range(3):\n",
    "        for k in range(3):\n",
    "            if i!=j and i==k:\n",
    "                newmask[i,j,k] = 1\n",
    "\n",
    "diagnumer2 = -expevals1 + evals1*expevals1 - evals2*expevals1 + expevals2\n",
    "diagdenom2 = (evals1-evals2)**2 + jnp.ones((3,3,3)) - newmask\n",
    "diagfrac2 = (diagnumer2/diagdenom2)*newmask\n",
    "diagterm2 = jnp.sum( diagfrac2*paren, axis=1 )\n",
    "print(diagterm2)"
   ]
  },
  {
   "cell_type": "code",
   "execution_count": 149,
   "id": "4688d413-124f-4512-ad7b-c88ea225b935",
   "metadata": {
    "tags": []
   },
   "outputs": [],
   "source": [
    "testmat3 = np.zeros((3,3))\n",
    "for i in range(3):\n",
    "    for j in range(3):\n",
    "        for k in range(3):\n",
    "            if i!=j and i==k:\n",
    "                fractermN = -expevals[i] + evals[i]*expevals[i] - evals[j]*expevals[i] + expevals[j]\n",
    "                fractermD = (evals[i]-evals[j])**2\n",
    "                fracterm = fractermN/fractermD\n",
    "                parenterm = 2*a[i,j]*a[j,k]\n",
    "                testmat3[i,k] += fracterm*parenterm"
   ]
  },
  {
   "cell_type": "code",
   "execution_count": 151,
   "id": "4bd29ba1-4d5f-4c71-a9b4-34087eea4083",
   "metadata": {
    "tags": []
   },
   "outputs": [
    {
     "name": "stdout",
     "output_type": "stream",
     "text": [
      "7.105427357601002e-15\n"
     ]
    }
   ],
   "source": [
    "print(jnp.linalg.norm(diagterm2-testmat3))"
   ]
  },
  {
   "cell_type": "code",
   "execution_count": 166,
   "id": "0119c910-b449-4e2a-ab95-f7c5eb9e0492",
   "metadata": {
    "tags": []
   },
   "outputs": [
    {
     "name": "stdout",
     "output_type": "stream",
     "text": [
      "[[ 19.48758841   3.31180876  -4.46688522]\n",
      " [  3.31180876  21.28372786 -12.29398882]\n",
      " [ -4.46688522 -12.29398882  17.46187993]]\n"
     ]
    }
   ],
   "source": [
    "r = evecs @ (term1 - term2 - term3 + diagterm1 + diagterm2) @ evecs.conj().T\n",
    "print(r)"
   ]
  },
  {
   "cell_type": "code",
   "execution_count": 168,
   "id": "bc65acea-dd44-47b3-a4ee-e41c027c73ac",
   "metadata": {
    "tags": []
   },
   "outputs": [
    {
     "data": {
      "text/plain": [
       "Array([[ 19.48758841,   3.31180876,  -4.46688522],\n",
       "       [  3.31180876,  21.28372786, -12.29398882],\n",
       "       [ -4.46688522, -12.29398882,  17.46187993]],      dtype=float64, weak_type=True)"
      ]
     },
     "execution_count": 168,
     "metadata": {},
     "output_type": "execute_result"
    }
   ],
   "source": [
    "ddmyexp(-0.25).reshape((n,n))"
   ]
  },
  {
   "cell_type": "code",
   "execution_count": 169,
   "id": "3de5466d-c682-4f3b-94fc-1d0bd7620781",
   "metadata": {
    "jupyter": {
     "source_hidden": true
    },
    "tags": []
   },
   "outputs": [
    {
     "name": "stdout",
     "output_type": "stream",
     "text": [
      "4.245176955060179e-14\n"
     ]
    }
   ],
   "source": [
    "print(jnp.linalg.norm(r - ddmyexp(-0.25).reshape((n,n))))"
   ]
  }
 ],
 "metadata": {
  "kernelspec": {
   "display_name": "jax2024",
   "language": "python",
   "name": "jax2024"
  },
  "language_info": {
   "codemirror_mode": {
    "name": "ipython",
    "version": 3
   },
   "file_extension": ".py",
   "mimetype": "text/x-python",
   "name": "python",
   "nbconvert_exporter": "python",
   "pygments_lexer": "ipython3",
   "version": "3.12.0"
  }
 },
 "nbformat": 4,
 "nbformat_minor": 5
}
