{
 "cells": [
  {
   "cell_type": "code",
   "execution_count": 1,
   "id": "975b2178-1e7b-47c1-9134-328d1c95c418",
   "metadata": {},
   "outputs": [],
   "source": [
    "import numpy as np"
   ]
  },
  {
   "cell_type": "code",
   "execution_count": 12,
   "id": "1811ef00-bacb-475e-836c-4f926f6da230",
   "metadata": {
    "tags": []
   },
   "outputs": [],
   "source": [
    "mol = 'h2'\n",
    "basis = '6-31g'"
   ]
  },
  {
   "cell_type": "code",
   "execution_count": 13,
   "id": "7c0a635a-3ae4-4677-ab10-59dc52eaf54e",
   "metadata": {
    "tags": []
   },
   "outputs": [],
   "source": [
    "if basis=='sto-3g':\n",
    "    prefix = 'casscf22_s2_'\n",
    "elif basis=='6-31g':\n",
    "    prefix = 'casscf24_s15_'\n",
    "else:\n",
    "    print(\"Basis set must either be sto-3g or 6-31g!\")\n",
    "    sys.exit(1)\n",
    "    \n",
    "# load Hamiltonian\n",
    "h0 = np.load('./data/'+prefix+mol+'_'+basis+'_hamiltonian.npz')\n",
    "n = h0.shape[0]\n",
    "\n",
    "# load dipole moment matrix\n",
    "m = np.load('./data/'+prefix+mol+'_'+basis+'_CI_dimat.npz')\n"
   ]
  },
  {
   "cell_type": "code",
   "execution_count": 14,
   "id": "2c1711b3-8582-47d2-b6d3-b69f18361177",
   "metadata": {},
   "outputs": [],
   "source": [
    "alpha = np.eye(n)[0]\n",
    "beta = np.eye(n)[n-1]\n",
    "np.savez('./data/'+mol+'_'+basis+'_P0T.npz',alpha=alpha,beta=beta)\n"
   ]
  },
  {
   "cell_type": "code",
   "execution_count": null,
   "id": "4e6e6144-84ce-4f1d-b40d-7068c282360b",
   "metadata": {},
   "outputs": [],
   "source": []
  }
 ],
 "metadata": {
  "kernelspec": {
   "display_name": "jax2024",
   "language": "python",
   "name": "jax2024"
  },
  "language_info": {
   "codemirror_mode": {
    "name": "ipython",
    "version": 3
   },
   "file_extension": ".py",
   "mimetype": "text/x-python",
   "name": "python",
   "nbconvert_exporter": "python",
   "pygments_lexer": "ipython3",
   "version": "3.12.0"
  }
 },
 "nbformat": 4,
 "nbformat_minor": 5
}
